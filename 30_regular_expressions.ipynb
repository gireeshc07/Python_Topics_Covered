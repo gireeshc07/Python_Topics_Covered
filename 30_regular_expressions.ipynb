{
 "cells": [
  {
   "cell_type": "markdown",
   "id": "ee5ff4f2-a65c-44c5-a61e-89b68d10cf49",
   "metadata": {},
   "source": [
    "<img src = \"python-logo.png\" width = \"300\" height = \"300\">\n",
    "<h1>Regular Expressions</h1>"
   ]
  },
  {
   "cell_type": "markdown",
   "id": "66901b56-6127-4c38-93cc-72bde7d5d986",
   "metadata": {},
   "source": [
    "<ul>\n",
    "    <li>A RegEx or Regular Expression, is a sequence of characters that forms a search pattern.</li>\n",
    "    <li>RegEx can be used to check if a string contains the specified search pattern to validate the input.</li>\n",
    "    <li>Python has a built-in package called re, which can be used to work with Regular Expressions.</li>\n",
    "</ul>"
   ]
  },
  {
   "cell_type": "markdown",
   "id": "33dd6b5b-1d19-4a77-820e-9ee80e4e5300",
   "metadata": {},
   "source": [
    "<h4>RegEx Functions:</h4>\n",
    "<ol>\n",
    "    <li>re.findall( pattern, string ) --> findall\tReturns a list containing all matches</li>\n",
    "    <li>re.search( pattern, string ) --> search\tReturns a Match object if there is a match anywhere in the string</li>\n",
    "    <li>re.split( pattern, string, maxsplit(optional) ) --> split\tReturns a list where the string has been split at each match</li>\n",
    "    <li>re.sub( pattern, replacement, string, count(optional) ) --> sub\tReplaces one or many matches with a string</li>\n",
    "</ol>"
   ]
  },
  {
   "cell_type": "markdown",
   "id": "147f3b7c-9866-41f8-ae3b-bdd7b5ecf6de",
   "metadata": {},
   "source": [
    "<h4>1. findall()</h4>"
   ]
  },
  {
   "cell_type": "code",
   "execution_count": 296,
   "id": "0545f95d-7c1c-43e7-a793-6d8c3191cae9",
   "metadata": {},
   "outputs": [
    {
     "name": "stdout",
     "output_type": "stream",
     "text": [
      "['to']\n"
     ]
    }
   ],
   "source": [
    "import re\n",
    "\n",
    "my_string = \"Welcome to Python\"\n",
    "result = re.findall(\"to\", my_string)\n",
    "print(result)"
   ]
  },
  {
   "cell_type": "code",
   "execution_count": 298,
   "id": "7797a328-e4b6-4877-adc1-daf90fca3aa2",
   "metadata": {},
   "outputs": [
    {
     "name": "stdout",
     "output_type": "stream",
     "text": [
      "['elcome ']\n"
     ]
    }
   ],
   "source": [
    "my_string = \"Welcome to Python\"\n",
    "result = re.findall(\"elcome \", my_string)\n",
    "print(result)"
   ]
  },
  {
   "cell_type": "code",
   "execution_count": 300,
   "id": "ce3d9aa0-110d-461c-b8bf-c3fab736c854",
   "metadata": {},
   "outputs": [
    {
     "name": "stdout",
     "output_type": "stream",
     "text": [
      "['P']\n"
     ]
    }
   ],
   "source": [
    "my_string = \"Welcome to Python\"\n",
    "result = re.findall(\"P\", my_string)\n",
    "print(result)"
   ]
  },
  {
   "cell_type": "code",
   "execution_count": 302,
   "id": "a75bc731-1ba0-4f61-b233-1e4638508230",
   "metadata": {},
   "outputs": [
    {
     "name": "stdout",
     "output_type": "stream",
     "text": [
      "['Welcome']\n"
     ]
    }
   ],
   "source": [
    "my_string = \"Welcome to Python\"\n",
    "pattern = \"Welcome\"\n",
    "result = re.findall(pattern, my_string)\n",
    "print(result)"
   ]
  },
  {
   "cell_type": "code",
   "execution_count": 304,
   "id": "09ceb711-70ae-4acb-8bc9-ecf0e0f57957",
   "metadata": {},
   "outputs": [
    {
     "name": "stdout",
     "output_type": "stream",
     "text": [
      "[]\n"
     ]
    }
   ],
   "source": [
    "# if match doesn't exist returns empty list\n",
    "my_string = \"Welcome to Python\"\n",
    "pattern = \"weLcO\"\n",
    "result = re.findall(pattern, my_string)\n",
    "print(result)"
   ]
  },
  {
   "cell_type": "markdown",
   "id": "a5e86037-33da-419b-bc04-bc9a0b6e7e96",
   "metadata": {},
   "source": [
    "<h4>2. search()</h4>"
   ]
  },
  {
   "cell_type": "code",
   "execution_count": 307,
   "id": "1c662a55-88af-4afb-8f8b-2405eeda502d",
   "metadata": {},
   "outputs": [
    {
     "name": "stdout",
     "output_type": "stream",
     "text": [
      "<re.Match object; span=(0, 3), match='Wel'>\n",
      "0\n"
     ]
    }
   ],
   "source": [
    "my_string = \"Welcome to Python\"\n",
    "pattern = \"Wel\"\n",
    "result = re.search(pattern, my_string)\n",
    "print(result)\n",
    "print(result.start())"
   ]
  },
  {
   "cell_type": "code",
   "execution_count": 309,
   "id": "fa02209c-e41c-4b3d-ac34-ee8a286e8768",
   "metadata": {},
   "outputs": [
    {
     "name": "stdout",
     "output_type": "stream",
     "text": [
      "(0, 3)\n"
     ]
    }
   ],
   "source": [
    "print(result.span())"
   ]
  },
  {
   "cell_type": "code",
   "execution_count": 311,
   "id": "6e6e48b7-a9d0-43d1-b6e8-06e2cfbf43c2",
   "metadata": {},
   "outputs": [
    {
     "name": "stdout",
     "output_type": "stream",
     "text": [
      "Welcome to Python\n"
     ]
    }
   ],
   "source": [
    "print(result.string)"
   ]
  },
  {
   "cell_type": "code",
   "execution_count": 313,
   "id": "a217f4a7-127e-4c10-8459-305a04442bd0",
   "metadata": {},
   "outputs": [
    {
     "name": "stdout",
     "output_type": "stream",
     "text": [
      "Wel\n"
     ]
    }
   ],
   "source": [
    "print(result.group())"
   ]
  },
  {
   "cell_type": "code",
   "execution_count": 315,
   "id": "67e882a7-5eaa-4467-9426-a8435e852a2b",
   "metadata": {},
   "outputs": [
    {
     "name": "stdout",
     "output_type": "stream",
     "text": [
      "None\n"
     ]
    }
   ],
   "source": [
    "# if match doesn't exit returns None\n",
    "my_string = \"Welcome to Python\"\n",
    "pattern = \"WEL\"\n",
    "result = re.search(pattern, my_string)\n",
    "print(result)"
   ]
  },
  {
   "cell_type": "markdown",
   "id": "f3edfb87-ef1c-429d-9bb3-2e3ce7dc601b",
   "metadata": {},
   "source": [
    "<h4>3. split()</h4>"
   ]
  },
  {
   "cell_type": "code",
   "execution_count": 318,
   "id": "bf6d39e8-7663-435b-81c0-4738a3f3a28a",
   "metadata": {},
   "outputs": [
    {
     "name": "stdout",
     "output_type": "stream",
     "text": [
      "['', 'ome to Python']\n"
     ]
    }
   ],
   "source": [
    "my_string = \"Welcome to Python\"\n",
    "pattern = \"Welc\"\n",
    "result = re.split(pattern, my_string)\n",
    "print(result)"
   ]
  },
  {
   "cell_type": "code",
   "execution_count": 320,
   "id": "cf062b3b-eb5b-41f4-941a-30b88e4fab12",
   "metadata": {},
   "outputs": [
    {
     "name": "stdout",
     "output_type": "stream",
     "text": [
      "['', 'W', 'e', 'l', 'c', 'o', 'm', 'e', ' ', 't', 'o', ' ', 'P', 'y', 't', 'h', 'o', 'n', '']\n"
     ]
    }
   ],
   "source": [
    "my_string = \"Welcome to Python\"\n",
    "pattern = \"\"\n",
    "result = re.split(pattern, my_string)\n",
    "print(result)"
   ]
  },
  {
   "cell_type": "code",
   "execution_count": 322,
   "id": "ec0d18b1-bcc1-455e-b8b0-6db750f169e9",
   "metadata": {},
   "outputs": [
    {
     "name": "stdout",
     "output_type": "stream",
     "text": [
      "['Welcome', 'to', 'Python']\n"
     ]
    }
   ],
   "source": [
    "my_string = \"Welcome to Python\"\n",
    "pattern = \" \"\n",
    "result = re.split(pattern, my_string)\n",
    "print(result)"
   ]
  },
  {
   "cell_type": "code",
   "execution_count": 324,
   "id": "6dc1279a-ed6e-478b-a900-11030e7f6a66",
   "metadata": {},
   "outputs": [
    {
     "name": "stdout",
     "output_type": "stream",
     "text": [
      "['', 'W', 'e', 'lcome to Python']\n"
     ]
    }
   ],
   "source": [
    "my_string = \"Welcome to Python\"\n",
    "pattern = \"\"\n",
    "result = re.split(pattern, my_string, 3)\n",
    "print(result)"
   ]
  },
  {
   "cell_type": "markdown",
   "id": "5c634a4b-c328-49b7-b902-69114291eedd",
   "metadata": {},
   "source": [
    "<h4>4. sub()</h4>"
   ]
  },
  {
   "cell_type": "code",
   "execution_count": 327,
   "id": "131cb53b-2476-471b-8c97-027d3fc94d34",
   "metadata": {},
   "outputs": [
    {
     "name": "stdout",
     "output_type": "stream",
     "text": [
      "Welcome_to_Python,_happy_for_learning_it\n"
     ]
    }
   ],
   "source": [
    "my_string = \"Welcome to Python, happy for learning it\"\n",
    "pattern = \" \"\n",
    "result = re.sub(pattern, \"_\", my_string)\n",
    "print(result)"
   ]
  },
  {
   "cell_type": "code",
   "execution_count": 329,
   "id": "8aeb419c-6ced-4395-8144-a40d91b5fced",
   "metadata": {},
   "outputs": [
    {
     "name": "stdout",
     "output_type": "stream",
     "text": [
      "Welcome to Python, haPPy for learning it\n"
     ]
    }
   ],
   "source": [
    "pattern = \"p\"\n",
    "result = re.sub(pattern, \"P\", my_string)\n",
    "print(result)"
   ]
  },
  {
   "cell_type": "code",
   "execution_count": 331,
   "id": "0c24ddba-f0aa-4873-9615-b78bbc44c70c",
   "metadata": {},
   "outputs": [
    {
     "name": "stdout",
     "output_type": "stream",
     "text": [
      "WelcOme tO PythOn, happy for learning it\n"
     ]
    }
   ],
   "source": [
    "pattern = \"o\"\n",
    "result = re.sub(pattern, \"O\", my_string, 3)\n",
    "print(result)"
   ]
  },
  {
   "cell_type": "markdown",
   "id": "69f5f349-e1fd-459d-a25c-0c364be74854",
   "metadata": {},
   "source": [
    "<h4>Metacharacters</h4>"
   ]
  },
  {
   "cell_type": "code",
   "execution_count": 334,
   "id": "2ec54148-d358-4187-bd44-f8b79b43178b",
   "metadata": {},
   "outputs": [
    {
     "name": "stdout",
     "output_type": "stream",
     "text": [
      "['o', 'o', 'o', 'o']\n"
     ]
    }
   ],
   "source": [
    "my_string = \"Welcome to Python, happy for learning it\"\n",
    "pattern = \"[o]\"\n",
    "result = re.findall(pattern, my_string)\n",
    "print(result)"
   ]
  },
  {
   "cell_type": "code",
   "execution_count": 336,
   "id": "8450c349-0884-44ae-9c2d-66716144fd00",
   "metadata": {},
   "outputs": [
    {
     "name": "stdout",
     "output_type": "stream",
     "text": [
      "['e', 'l', 'c', 'm', 'e', 'h', 'h', 'a', 'f', 'l', 'e', 'a', 'i', 'g', 'i']\n"
     ]
    }
   ],
   "source": [
    "pattern = \"[a-m]\"\n",
    "result = re.findall(pattern, my_string)\n",
    "print(result)"
   ]
  },
  {
   "cell_type": "code",
   "execution_count": 338,
   "id": "55bbb997-1ef6-42d7-a94b-01037290b6e2",
   "metadata": {},
   "outputs": [
    {
     "name": "stdout",
     "output_type": "stream",
     "text": [
      "['Pyth']\n"
     ]
    }
   ],
   "source": [
    "pattern = \"P...\"\n",
    "result = re.findall(pattern, my_string)\n",
    "print(result)"
   ]
  },
  {
   "cell_type": "code",
   "execution_count": 340,
   "id": "04cb8a41-e272-41c5-a023-578fc153e429",
   "metadata": {},
   "outputs": [
    {
     "name": "stdout",
     "output_type": "stream",
     "text": [
      "['to P']\n"
     ]
    }
   ],
   "source": [
    "pattern = \"...P\"\n",
    "result = re.findall(pattern, my_string)\n",
    "print(result)"
   ]
  },
  {
   "cell_type": "code",
   "execution_count": 342,
   "id": "1b3e4fcc-7bf4-4a78-9d8b-852acae85016",
   "metadata": {},
   "outputs": [
    {
     "name": "stdout",
     "output_type": "stream",
     "text": [
      "['Wel']\n"
     ]
    }
   ],
   "source": [
    "pattern = \"^Wel\"\n",
    "result = re.findall(pattern, my_string)\n",
    "print(result)"
   ]
  },
  {
   "cell_type": "code",
   "execution_count": 344,
   "id": "1402ccad-aab1-46b4-a662-1779f3fc12de",
   "metadata": {},
   "outputs": [
    {
     "name": "stdout",
     "output_type": "stream",
     "text": [
      "['it']\n"
     ]
    }
   ],
   "source": [
    "pattern = \"it$\"\n",
    "result = re.findall(pattern, my_string)\n",
    "print(result)"
   ]
  },
  {
   "cell_type": "code",
   "execution_count": 346,
   "id": "bc751830-d8c4-4dea-a150-8860ec39740c",
   "metadata": {},
   "outputs": [
    {
     "name": "stdout",
     "output_type": "stream",
     "text": [
      "['', '', '', '', 'o', '', '', '', '', 'o', '', '', '', '', '', 'o', '', '', '', '', '', '', '', '', '', '', 'o', '', '', '', '', '', '', '', '', '', '', '', '', '', '']\n"
     ]
    }
   ],
   "source": [
    "pattern = \"o*\"\n",
    "result = re.findall(pattern, my_string)\n",
    "print(result)"
   ]
  },
  {
   "cell_type": "code",
   "execution_count": 348,
   "id": "a2d3bc87-24a4-4187-8ed7-794b7db515f4",
   "metadata": {},
   "outputs": [
    {
     "name": "stdout",
     "output_type": "stream",
     "text": [
      "['o', 'o', 'o', 'o']\n"
     ]
    }
   ],
   "source": [
    "pattern = \"o+\"\n",
    "result = re.findall(pattern, my_string)\n",
    "print(result)"
   ]
  },
  {
   "cell_type": "code",
   "execution_count": 350,
   "id": "46bebe8b-07de-4f03-941e-80f0e45e9318",
   "metadata": {},
   "outputs": [
    {
     "name": "stdout",
     "output_type": "stream",
     "text": [
      "['oo', 'oo', 'oo']\n"
     ]
    }
   ],
   "source": [
    "my_string = \"Welcoome too Python, happy foor learning it\"\n",
    "pattern = \"o{2}\"\n",
    "result = re.findall(pattern, my_string)\n",
    "print(result)"
   ]
  },
  {
   "cell_type": "code",
   "execution_count": 352,
   "id": "0e870791-d6a8-442a-ac44-2db3474f872d",
   "metadata": {},
   "outputs": [
    {
     "name": "stdout",
     "output_type": "stream",
     "text": [
      "['Python']\n"
     ]
    }
   ],
   "source": [
    "pattern = \"Python|python\"\n",
    "result = re.findall(pattern, my_string)\n",
    "print(result)"
   ]
  },
  {
   "cell_type": "markdown",
   "id": "df4d936e-4a4d-4984-898c-29aa388428bd",
   "metadata": {},
   "source": [
    "<h4>Special Characters</h4>"
   ]
  },
  {
   "cell_type": "code",
   "execution_count": 355,
   "id": "3edaede7-acbd-4e5b-86ca-425d7977cf85",
   "metadata": {},
   "outputs": [
    {
     "name": "stdout",
     "output_type": "stream",
     "text": [
      "['The']\n"
     ]
    }
   ],
   "source": [
    "my_string = \"The rain in Spain\"\n",
    "pattern = r\"\\AThe\"\n",
    "result = re.findall(pattern, my_string)\n",
    "print(result)"
   ]
  },
  {
   "cell_type": "code",
   "execution_count": 357,
   "id": "d670c457-8118-4852-9ae6-b8cd54589802",
   "metadata": {},
   "outputs": [
    {
     "name": "stdout",
     "output_type": "stream",
     "text": [
      "[]\n"
     ]
    }
   ],
   "source": [
    "pattern = r\"\\Ahe\"\n",
    "result = re.findall(pattern, my_string)\n",
    "print(result)"
   ]
  },
  {
   "cell_type": "code",
   "execution_count": 359,
   "id": "ea2a952f-a102-4fbd-8dba-f5fe23692cc5",
   "metadata": {},
   "outputs": [
    {
     "name": "stdout",
     "output_type": "stream",
     "text": [
      "['ain', 'ain']\n"
     ]
    }
   ],
   "source": [
    "pattern = r\"ain\\b\"\n",
    "result = re.findall(pattern, my_string)\n",
    "print(result)"
   ]
  },
  {
   "cell_type": "code",
   "execution_count": 361,
   "id": "b0142547-9485-4a1f-834e-708a1e3ed260",
   "metadata": {},
   "outputs": [
    {
     "name": "stdout",
     "output_type": "stream",
     "text": [
      "['r']\n"
     ]
    }
   ],
   "source": [
    "pattern = r\"\\br\"\n",
    "result = re.findall(pattern, my_string)\n",
    "print(result)"
   ]
  },
  {
   "cell_type": "code",
   "execution_count": 363,
   "id": "6d5e129d-701d-43f2-bc89-9f388a39d2d2",
   "metadata": {},
   "outputs": [
    {
     "name": "stdout",
     "output_type": "stream",
     "text": [
      "[]\n"
     ]
    }
   ],
   "source": [
    "pattern = r\"ain\\B\"\n",
    "result = re.findall(pattern, my_string)\n",
    "print(result)"
   ]
  },
  {
   "cell_type": "code",
   "execution_count": 365,
   "id": "fdd2d42e-7efb-4124-951d-5496e392c1bf",
   "metadata": {},
   "outputs": [
    {
     "name": "stdout",
     "output_type": "stream",
     "text": [
      "['ain', 'ain']\n"
     ]
    }
   ],
   "source": [
    "pattern = r\"\\Bain\"\n",
    "result = re.findall(pattern, my_string)\n",
    "print(result)"
   ]
  },
  {
   "cell_type": "code",
   "execution_count": 367,
   "id": "9c3b9c39-025c-4631-bd48-10a72f9e76ef",
   "metadata": {},
   "outputs": [
    {
     "name": "stdout",
     "output_type": "stream",
     "text": [
      "['1', '9', '7', '8', '3', '7']\n"
     ]
    }
   ],
   "source": [
    "my_string = \"ljalkfjd 197837\"\n",
    "pattern = r\"\\d\"\n",
    "result = re.findall(pattern, my_string)\n",
    "print(result)"
   ]
  },
  {
   "cell_type": "code",
   "execution_count": 369,
   "id": "cb15e442-37aa-4c9b-a4db-b63cf5b63416",
   "metadata": {},
   "outputs": [
    {
     "name": "stdout",
     "output_type": "stream",
     "text": [
      "['l', 'j', 'a', 'l', 'k', 'f', 'j', 'd', ' ']\n"
     ]
    }
   ],
   "source": [
    "my_string = \"ljalkfjd 197837\"\n",
    "pattern = r\"\\D\"\n",
    "result = re.findall(pattern, my_string)\n",
    "print(result)"
   ]
  },
  {
   "cell_type": "code",
   "execution_count": 371,
   "id": "5c45fd5c-ea64-4197-9142-9e7a638b0a90",
   "metadata": {},
   "outputs": [
    {
     "name": "stdout",
     "output_type": "stream",
     "text": [
      "[' ', ' ', ' ', ' ']\n"
     ]
    }
   ],
   "source": [
    "my_string = \"lja lkf jd1 978 375\"\n",
    "pattern = r\"\\s\"\n",
    "result = re.findall(pattern, my_string)\n",
    "print(result)"
   ]
  },
  {
   "cell_type": "code",
   "execution_count": 373,
   "id": "48958d68-07d3-48de-a7d5-910c2fd06110",
   "metadata": {},
   "outputs": [
    {
     "name": "stdout",
     "output_type": "stream",
     "text": [
      "['l', 'j', 'a', 'l', 'k', 'f', 'j', 'd', '1', '9', '7', '8', '3', '7', '5']\n"
     ]
    }
   ],
   "source": [
    "my_string = \"lja lkf jd1 978 375\"\n",
    "pattern = r\"\\S\"\n",
    "result = re.findall(pattern, my_string)\n",
    "print(result)"
   ]
  },
  {
   "cell_type": "code",
   "execution_count": 375,
   "id": "43de09d3-8aef-43b8-ba64-7923e97ecac9",
   "metadata": {},
   "outputs": [
    {
     "name": "stdout",
     "output_type": "stream",
     "text": [
      "['l', 'j', 'a', 'l', 'k', 'f', 'j', 'd', '1', '9', '7', '8', '3', '7', '5']\n"
     ]
    }
   ],
   "source": [
    "my_string = \"lja lkf jd1 978 375\"\n",
    "pattern = r\"\\w\"\n",
    "result = re.findall(pattern, my_string)\n",
    "print(result)"
   ]
  },
  {
   "cell_type": "code",
   "execution_count": 377,
   "id": "e0d3be25-5e58-4534-a193-5852f371b490",
   "metadata": {},
   "outputs": [
    {
     "name": "stdout",
     "output_type": "stream",
     "text": [
      "[' ', ' ', ' ', ' ']\n"
     ]
    }
   ],
   "source": [
    "my_string = \"lja lkf jd1 978 375\"\n",
    "pattern = r\"\\W\"\n",
    "result = re.findall(pattern, my_string)\n",
    "print(result)"
   ]
  },
  {
   "cell_type": "code",
   "execution_count": 379,
   "id": "c7b06fc7-d542-4c0b-9044-775bdfd3f532",
   "metadata": {},
   "outputs": [
    {
     "name": "stdout",
     "output_type": "stream",
     "text": [
      "['5']\n"
     ]
    }
   ],
   "source": [
    "my_string = \"lja lkf jd1 978 375\"\n",
    "pattern = r\"5\\Z\"\n",
    "result = re.findall(pattern, my_string)\n",
    "print(result)"
   ]
  },
  {
   "cell_type": "markdown",
   "id": "3138745c-181a-45f5-af29-dc41e1793db4",
   "metadata": {},
   "source": [
    "<h4>Sets</h4>"
   ]
  },
  {
   "cell_type": "code",
   "execution_count": 382,
   "id": "faaebfdf-b09a-4644-a492-695739622808",
   "metadata": {},
   "outputs": [
    {
     "name": "stdout",
     "output_type": "stream",
     "text": [
      "['a', 's', 'd']\n"
     ]
    }
   ],
   "source": [
    "my_string = \"asdfgf;lkjhjASDFGD:LKJHG12340987\"\n",
    "pattern = \"[asd]\"\n",
    "result = re.findall(pattern, my_string)\n",
    "print(result)"
   ]
  },
  {
   "cell_type": "code",
   "execution_count": 384,
   "id": "c2e9948c-1b11-4e8b-84dc-bfb4b204f391",
   "metadata": {},
   "outputs": [
    {
     "name": "stdout",
     "output_type": "stream",
     "text": [
      "['a', 'd', 'f', 'g', 'f', 'l', 'k', 'j', 'h', 'j']\n"
     ]
    }
   ],
   "source": [
    "pattern = \"[a-n]\"\n",
    "result = re.findall(pattern, my_string)\n",
    "print(result)"
   ]
  },
  {
   "cell_type": "code",
   "execution_count": 386,
   "id": "1bfbbedd-ae52-4ee0-838a-6f68ac1d7152",
   "metadata": {},
   "outputs": [
    {
     "name": "stdout",
     "output_type": "stream",
     "text": [
      "['A', 'D', 'F', 'G', 'D', 'L', 'K', 'J', 'H', 'G']\n"
     ]
    }
   ],
   "source": [
    "pattern = \"[A-N]\"\n",
    "result = re.findall(pattern, my_string)\n",
    "print(result)"
   ]
  },
  {
   "cell_type": "code",
   "execution_count": 388,
   "id": "4a9adf60-0724-45e9-af26-64f6f1d17231",
   "metadata": {},
   "outputs": [
    {
     "name": "stdout",
     "output_type": "stream",
     "text": [
      "['f', 'g', 'f', ';', 'l', 'k', 'j', 'h', 'j', 'A', 'S', 'D', 'F', 'G', 'D', ':', 'L', 'K', 'J', 'H', 'G', '1', '2', '3', '4', '0', '9', '8', '7']\n"
     ]
    }
   ],
   "source": [
    "pattern = \"[^asd]\"\n",
    "result = re.findall(pattern, my_string)\n",
    "print(result)"
   ]
  },
  {
   "cell_type": "code",
   "execution_count": 390,
   "id": "bdb694e6-70e5-41d2-9aa8-fb920bb5c2dc",
   "metadata": {},
   "outputs": [
    {
     "name": "stdout",
     "output_type": "stream",
     "text": [
      "['a', 's', 'd']\n"
     ]
    }
   ],
   "source": [
    "pattern = \"[asd]\"\n",
    "result = re.findall(pattern, my_string)\n",
    "print(result)"
   ]
  },
  {
   "cell_type": "code",
   "execution_count": 392,
   "id": "5489506b-a083-461e-9c5d-45f6394359cc",
   "metadata": {},
   "outputs": [
    {
     "name": "stdout",
     "output_type": "stream",
     "text": [
      "['1', '2', '3', '0']\n"
     ]
    }
   ],
   "source": [
    "pattern = \"[0123]\"\n",
    "result = re.findall(pattern, my_string)\n",
    "print(result)"
   ]
  },
  {
   "cell_type": "code",
   "execution_count": 394,
   "id": "47c77d79-4884-46ef-81c4-ce579a2a721f",
   "metadata": {},
   "outputs": [
    {
     "name": "stdout",
     "output_type": "stream",
     "text": [
      "['1', '2', '3', '4', '0', '9', '8', '7']\n"
     ]
    }
   ],
   "source": [
    "pattern = \"[0-9]\"\n",
    "result = re.findall(pattern, my_string)\n",
    "print(result)"
   ]
  },
  {
   "cell_type": "code",
   "execution_count": 396,
   "id": "5f9733f7-3374-40fa-8e7f-1285ba033307",
   "metadata": {},
   "outputs": [
    {
     "name": "stdout",
     "output_type": "stream",
     "text": [
      "['a', 's', 'd', 'f', 'g', 'f', ';', 'l', 'k', 'j', 'h', 'j', 'A', 'S', 'D', 'F', 'G', 'D', ':', 'L', 'K', 'J', 'H', 'G', '4', '9', '8', '7']\n"
     ]
    }
   ],
   "source": [
    "pattern = \"[^0123]\"\n",
    "result = re.findall(pattern, my_string)\n",
    "print(result)"
   ]
  },
  {
   "cell_type": "code",
   "execution_count": 398,
   "id": "2973f070-a1aa-40ee-ac14-6c8684162c43",
   "metadata": {},
   "outputs": [
    {
     "name": "stdout",
     "output_type": "stream",
     "text": [
      "['12', '34', '09']\n"
     ]
    }
   ],
   "source": [
    "pattern = \"[0-5][0-9]\"\n",
    "result = re.findall(pattern, my_string)\n",
    "print(result)"
   ]
  },
  {
   "cell_type": "code",
   "execution_count": 400,
   "id": "0dc07c91-f2f5-445b-8a24-6a4540449db3",
   "metadata": {},
   "outputs": [
    {
     "name": "stdout",
     "output_type": "stream",
     "text": [
      "['123', '409']\n"
     ]
    }
   ],
   "source": [
    "pattern = \"[0-9][0-9][0-9]\"\n",
    "result = re.findall(pattern, my_string)\n",
    "print(result)"
   ]
  },
  {
   "cell_type": "code",
   "execution_count": 402,
   "id": "b92865cf-c0db-4318-b417-1369759c70c1",
   "metadata": {},
   "outputs": [
    {
     "name": "stdout",
     "output_type": "stream",
     "text": [
      "['a', 's', 'd', 'f', 'g', 'f', 'l', 'k', 'j', 'h', 'j', 'A', 'S', 'D', 'F', 'G', 'D', 'L', 'K', 'J', 'H', 'G']\n"
     ]
    }
   ],
   "source": [
    "pattern = \"[a-zA-Z]\"\n",
    "result = re.findall(pattern, my_string)\n",
    "print(result)"
   ]
  },
  {
   "cell_type": "code",
   "execution_count": 404,
   "id": "a0ab073f-7e87-4fb5-98d1-ca646966b5da",
   "metadata": {},
   "outputs": [
    {
     "name": "stdout",
     "output_type": "stream",
     "text": [
      "[';', ':']\n"
     ]
    }
   ],
   "source": [
    "pattern = \"[+.;:,]\"\n",
    "result = re.findall(pattern, my_string)\n",
    "print(result)"
   ]
  },
  {
   "cell_type": "markdown",
   "id": "c4bd1f8b-7424-4e56-9020-45d48ad3d491",
   "metadata": {},
   "source": [
    "<h4>Programs Using Regular Expression:</h4>"
   ]
  },
  {
   "cell_type": "code",
   "execution_count": 407,
   "id": "fad93115-39d4-4f65-92ed-fc56cbd52c8a",
   "metadata": {},
   "outputs": [
    {
     "name": "stdout",
     "output_type": "stream",
     "text": [
      "9876345678 is a valid phone number.\n",
      "7689345678 is a valid phone number.\n",
      "1236345678 is not a valid phone number.\n",
      "8896345678 is a valid phone number.\n"
     ]
    }
   ],
   "source": [
    "def valid_number(phone_number):\n",
    "    pattern = r\"^[789]\\d{9}$\"\n",
    "    if re.match(pattern, phone_number):\n",
    "        return True\n",
    "    else:\n",
    "        return False\n",
    "\n",
    "list_of_numbers = [\"9876345678\", \"7689345678\", \"1236345678\", \"8896345678\"]\n",
    "\n",
    "for i in list_of_numbers:\n",
    "    if valid_number(i):\n",
    "        print(f\"{i} is a valid phone number.\")\n",
    "    else:\n",
    "        print(f\"{i} is not a valid phone number.\")"
   ]
  },
  {
   "cell_type": "code",
   "execution_count": 409,
   "id": "78373a30-e635-4a03-ba50-4a2c99d6f1de",
   "metadata": {},
   "outputs": [
    {
     "name": "stdout",
     "output_type": "stream",
     "text": [
      "gireesh@gmail.com is a valid gmail ID\n",
      "gireesh@email.com is not a valid gmail ID\n",
      "gireesh@gmails.com is not a valid gmail ID\n"
     ]
    }
   ],
   "source": [
    "def valid_gmail_id(gmail_id):\n",
    "    pattern = r\"^[a-zA-Z0-9.]+[@gmail]{6}+[.com]{4}$\"\n",
    "    return bool(re.match(pattern, gmail_id))\n",
    "\n",
    "list_of_gmails = [\"gireesh@gmail.com\", \"gireesh@email.com\", \"gireesh@gmails.com\"]\n",
    "\n",
    "for i in list_of_gmails:\n",
    "    if valid_gmail_id(i):\n",
    "        print(f\"{i} is a valid gmail ID\")\n",
    "    else:\n",
    "        print(f\"{i} is not a valid gmail ID\")"
   ]
  },
  {
   "cell_type": "code",
   "execution_count": 411,
   "id": "6c6ca7fa-c983-4f69-ab3e-fe5ef4a79961",
   "metadata": {},
   "outputs": [
    {
     "name": "stdout",
     "output_type": "stream",
     "text": [
      "gireesh@gmail.com is a valid mail ID\n",
      "gireesh@yahoo.com is a valid mail ID\n",
      "gireesh@outlook.com is a valid mail ID\n",
      "gireesh@emails.coms is not a valid mail ID\n"
     ]
    }
   ],
   "source": [
    "def valid_mail_id(mail_id):\n",
    "    pattern = r\"^[a-zA-Z0-9.]+[@a-z]+[.com]{4}$\"\n",
    "    return bool(re.match(pattern, mail_id))\n",
    "\n",
    "list_of_mails = [\"gireesh@gmail.com\", \"gireesh@yahoo.com\", \"gireesh@outlook.com\", \"gireesh@emails.coms\" ]\n",
    "\n",
    "for i in list_of_mails:\n",
    "    if valid_mail_id(i):\n",
    "        print(f\"{i} is a valid mail ID\")\n",
    "    else:\n",
    "        print(f\"{i} is not a valid mail ID\")"
   ]
  },
  {
   "cell_type": "code",
   "execution_count": null,
   "id": "a70e5ef9-9ec9-4e90-b744-01603dc77007",
   "metadata": {},
   "outputs": [],
   "source": []
  }
 ],
 "metadata": {
  "kernelspec": {
   "display_name": "Python [conda env:base] *",
   "language": "python",
   "name": "conda-base-py"
  },
  "language_info": {
   "codemirror_mode": {
    "name": "ipython",
    "version": 3
   },
   "file_extension": ".py",
   "mimetype": "text/x-python",
   "name": "python",
   "nbconvert_exporter": "python",
   "pygments_lexer": "ipython3",
   "version": "3.12.7"
  }
 },
 "nbformat": 4,
 "nbformat_minor": 5
}
