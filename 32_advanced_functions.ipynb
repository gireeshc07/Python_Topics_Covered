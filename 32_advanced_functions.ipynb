{
 "cells": [
  {
   "cell_type": "markdown",
   "id": "535bb596-ccf8-439d-87f6-3eda791806e3",
   "metadata": {},
   "source": [
    "<img src = \"python-logo.png\" width = \"300\" height = \"300\">\n",
    "<h1>Advanced Functions in Python</h1>"
   ]
  },
  {
   "cell_type": "markdown",
   "id": "62c868bf-e1f5-4f98-be01-73c293bc9b73",
   "metadata": {},
   "source": [
    "<h4>1. lambda() function:</h4>\n",
    "<ul>\n",
    "    <li>It is a small ananymous function, faster than normal function.</li>\n",
    "    <li>Takes any no.of arguments but can only have one expression.</li>\n",
    "    <li>It cannot access global variables.</li>\n",
    "    <li>It is defined by lambda keyword, not def keyword and doesn't have any name.</li>\n",
    "</ul>"
   ]
  },
  {
   "cell_type": "code",
   "execution_count": 4,
   "id": "4ca6acee-91b8-4094-ba5e-80aee01c434e",
   "metadata": {},
   "outputs": [
    {
     "data": {
      "text/plain": [
       "27"
      ]
     },
     "execution_count": 4,
     "metadata": {},
     "output_type": "execute_result"
    }
   ],
   "source": [
    "# Traditional function\n",
    "\n",
    "def cube(y):\n",
    "    return y * y * y\n",
    "cube(3)"
   ]
  },
  {
   "cell_type": "code",
   "execution_count": 6,
   "id": "f7f4262f-40e4-4da0-9bca-896d13766a67",
   "metadata": {},
   "outputs": [
    {
     "data": {
      "text/plain": [
       "27"
      ]
     },
     "execution_count": 6,
     "metadata": {},
     "output_type": "execute_result"
    }
   ],
   "source": [
    "# lambda function\n",
    "\n",
    "cube = lambda y : y * y * y\n",
    "cube(3)"
   ]
  },
  {
   "cell_type": "code",
   "execution_count": 8,
   "id": "408d833a-052b-476e-bf8a-19c41949d087",
   "metadata": {},
   "outputs": [
    {
     "name": "stdout",
     "output_type": "stream",
     "text": [
      "Total: 30\n"
     ]
    }
   ],
   "source": [
    "add = lambda a, b : print(f\"Total: {a + b}\")\n",
    "add(10, 20)"
   ]
  },
  {
   "cell_type": "code",
   "execution_count": 10,
   "id": "78b0f416-8754-4c33-af6d-b73d6dbfb194",
   "metadata": {},
   "outputs": [
    {
     "data": {
      "text/plain": [
       "20"
      ]
     },
     "execution_count": 10,
     "metadata": {},
     "output_type": "execute_result"
    }
   ],
   "source": [
    "multiiply = lambda a, b : a * b\n",
    "multiiply(10, 2)"
   ]
  },
  {
   "cell_type": "code",
   "execution_count": 16,
   "id": "b821e3d2-49f0-451d-80a4-7850fac1c2af",
   "metadata": {},
   "outputs": [
    {
     "data": {
      "text/plain": [
       "'APPLE'"
      ]
     },
     "execution_count": 16,
     "metadata": {},
     "output_type": "execute_result"
    }
   ],
   "source": [
    "my_string = \"apple\"\n",
    "upper = lambda a : a.upper()\n",
    "upper(my_string)"
   ]
  },
  {
   "cell_type": "code",
   "execution_count": 18,
   "id": "b9ffb152-d5bf-46d7-8c02-85b0c706e24b",
   "metadata": {},
   "outputs": [
    {
     "data": {
      "text/plain": [
       "50"
      ]
     },
     "execution_count": 18,
     "metadata": {},
     "output_type": "execute_result"
    }
   ],
   "source": [
    "x = lambda a, b = 10, c = 20 : a + b + c\n",
    "x(20)"
   ]
  },
  {
   "cell_type": "code",
   "execution_count": 20,
   "id": "f0d3f7a4-0acd-491a-953a-d0d5cb492598",
   "metadata": {},
   "outputs": [
    {
     "data": {
      "text/plain": [
       "140"
      ]
     },
     "execution_count": 20,
     "metadata": {},
     "output_type": "execute_result"
    }
   ],
   "source": [
    "x = lambda *a : sum(a)\n",
    "x(20, 30, 40, 50)"
   ]
  },
  {
   "cell_type": "code",
   "execution_count": 22,
   "id": "2574e2a8-da23-4bb7-b7c3-aea5d311cab8",
   "metadata": {},
   "outputs": [
    {
     "data": {
      "text/plain": [
       "True"
      ]
     },
     "execution_count": 22,
     "metadata": {},
     "output_type": "execute_result"
    }
   ],
   "source": [
    "even = lambda a : a % 2 == 0\n",
    "even(2)"
   ]
  },
  {
   "cell_type": "code",
   "execution_count": 28,
   "id": "f0440ee7-49f3-4dae-b7e3-6ce821f32e00",
   "metadata": {},
   "outputs": [
    {
     "data": {
      "text/plain": [
       "30"
      ]
     },
     "execution_count": 28,
     "metadata": {},
     "output_type": "execute_result"
    }
   ],
   "source": [
    "# IIFE (immediately invoked function expression)\n",
    "\n",
    "(lambda a, b : a * b) (10, 3)"
   ]
  },
  {
   "cell_type": "code",
   "execution_count": 30,
   "id": "5a8fcf6c-9c6e-4361-9dc9-f3390e9a6603",
   "metadata": {},
   "outputs": [
    {
     "name": "stdout",
     "output_type": "stream",
     "text": [
      "<function my_function.<locals>.<lambda> at 0x000002478ED52660>\n"
     ]
    },
    {
     "data": {
      "text/plain": [
       "60"
      ]
     },
     "execution_count": 30,
     "metadata": {},
     "output_type": "execute_result"
    }
   ],
   "source": [
    "# lambda with user-defined functions\n",
    "\n",
    "def my_function(x):\n",
    "    return lambda a : a * x\n",
    "f = my_function(10)\n",
    "print(f)\n",
    "f(6)"
   ]
  },
  {
   "cell_type": "code",
   "execution_count": 34,
   "id": "7c981a76-9c91-441f-86e5-f8205f300f01",
   "metadata": {},
   "outputs": [
    {
     "name": "stdout",
     "output_type": "stream",
     "text": [
      "[2, 3, 4, 5, 6, 7]\n"
     ]
    }
   ],
   "source": [
    "my_list = [1, 2, 3, 4, 5, 6]\n",
    "new_list = []\n",
    "for i in my_list: \n",
    "    f = lambda x : x + 1\n",
    "    new_list.append(f(i))\n",
    "print(new_list)"
   ]
  },
  {
   "cell_type": "code",
   "execution_count": 36,
   "id": "be8f92be-1a75-4edf-a324-3f0acbe8ee3b",
   "metadata": {},
   "outputs": [
    {
     "data": {
      "text/plain": [
       "420"
      ]
     },
     "execution_count": 36,
     "metadata": {},
     "output_type": "execute_result"
    }
   ],
   "source": [
    "# lambda with higher-defined function\n",
    "\n",
    "high_order = lambda x, my_fun : x + my_fun(x)\n",
    "high_order(20, lambda x : x * x)"
   ]
  },
  {
   "cell_type": "markdown",
   "id": "3491f0b4-c6ab-40f2-a65c-5b6472e39e68",
   "metadata": {},
   "source": [
    "<h4>2. filter() function:</h4>\n",
    "<ul>\n",
    "    <li>The filter() function filters the given sequence with the help of a function that tests each item in the sequence to be True or not.</li>\n",
    "</ul>"
   ]
  },
  {
   "cell_type": "code",
   "execution_count": 55,
   "id": "27460a2b-69a2-4060-bfd7-b53e42a84791",
   "metadata": {},
   "outputs": [
    {
     "name": "stdout",
     "output_type": "stream",
     "text": [
      "[18, 25, 32, 19]\n"
     ]
    }
   ],
   "source": [
    "def my_function(x):\n",
    "    if x >= 18:\n",
    "        return True\n",
    "    else:\n",
    "        return False\n",
    "\n",
    "ages = [5, 12, 17, 18, 25, 32, 16, 19]\n",
    "\n",
    "adults = filter(my_function, ages)\n",
    "print(list(adults))"
   ]
  },
  {
   "cell_type": "code",
   "execution_count": 57,
   "id": "0e7efba5-7dfb-4afb-bb29-14cf73ee4c81",
   "metadata": {},
   "outputs": [
    {
     "name": "stdout",
     "output_type": "stream",
     "text": [
      "2\n",
      "4\n",
      "6\n"
     ]
    }
   ],
   "source": [
    "def even_numbers(num):\n",
    "    if num % 2 == 0:\n",
    "        return True\n",
    "    else:\n",
    "        return False\n",
    "\n",
    "numbers = [1, 2, 3, 4, 5, 6]\n",
    "\n",
    "filtered = filter(even_numbers, numbers)\n",
    "for i in filtered:\n",
    "    print(i)"
   ]
  },
  {
   "cell_type": "code",
   "execution_count": 61,
   "id": "aae9ba8a-80e5-4909-86bb-e98eb9f869f7",
   "metadata": {},
   "outputs": [
    {
     "name": "stdout",
     "output_type": "stream",
     "text": [
      "[0, 2, 4, 6, 8, 10]\n"
     ]
    }
   ],
   "source": [
    "result = list(filter(lambda x : x % 2 == 0, range(0, 11)))\n",
    "print(result)"
   ]
  },
  {
   "cell_type": "markdown",
   "id": "5af51990-e1a1-438c-b398-c0a1c2f53df5",
   "metadata": {},
   "source": [
    "<h4>3. map() function:</h4>\n",
    "<ul>\n",
    "    <li>The map() function is used to return a list of results after applying a given function to each item of an iterable object.</li>\n",
    "</ul>"
   ]
  },
  {
   "cell_type": "code",
   "execution_count": 65,
   "id": "7c745f55-4634-4d1e-a7a7-54c7e7295ece",
   "metadata": {},
   "outputs": [
    {
     "name": "stdout",
     "output_type": "stream",
     "text": [
      "[2, 4, 6, 8, 10]\n"
     ]
    }
   ],
   "source": [
    "# Traditional function\n",
    "\n",
    "def addition(n):\n",
    "    return n + n\n",
    "\n",
    "numbers = [1, 2, 3, 4, 5]\n",
    "result = []\n",
    "\n",
    "for i in numbers:\n",
    "    result.append(addition(i))\n",
    "\n",
    "print(result)"
   ]
  },
  {
   "cell_type": "code",
   "execution_count": 67,
   "id": "9ddec4d1-24a8-4da9-abfc-71be1b5a511f",
   "metadata": {},
   "outputs": [
    {
     "name": "stdout",
     "output_type": "stream",
     "text": [
      "(2, 4, 6, 8, 10)\n"
     ]
    }
   ],
   "source": [
    "# map() function\n",
    "\n",
    "def my_function(n):\n",
    "    return n + n\n",
    "\n",
    "numbers = (1, 2, 3, 4, 5)\n",
    "\n",
    "result = map(addition, numbers)\n",
    "print(tuple(result))"
   ]
  },
  {
   "cell_type": "code",
   "execution_count": 69,
   "id": "463b45cf-5efb-436b-a357-9f576ad0760c",
   "metadata": {},
   "outputs": [
    {
     "name": "stdout",
     "output_type": "stream",
     "text": [
      "[120, 150, 180]\n"
     ]
    }
   ],
   "source": [
    "numbers1 = [10, 20, 30]\n",
    "numbers2 = [40, 50, 60]\n",
    "numbers3 = [70, 80, 90]\n",
    "\n",
    "result = map(lambda x, y, z : x + y + z, numbers1, numbers2, numbers3)\n",
    "print(list(result))"
   ]
  },
  {
   "cell_type": "markdown",
   "id": "926062ba-2405-4276-8735-7966da279b12",
   "metadata": {},
   "source": [
    "<h4>4. reduce() function</h4>\n",
    "<ul>\n",
    "    <li>It returns a single value applying a function to an iterable.</li>\n",
    "    <li>We need to import a module called functools to work with reduce function.</li>\n",
    "</ul>"
   ]
  },
  {
   "cell_type": "code",
   "execution_count": 74,
   "id": "0a1a7028-9054-47ed-8990-efcc936ccfe1",
   "metadata": {},
   "outputs": [
    {
     "name": "stdout",
     "output_type": "stream",
     "text": [
      "21\n"
     ]
    }
   ],
   "source": [
    "from functools import reduce\n",
    "\n",
    "num = [1, 2, 3, 4, 5, 6]\n",
    "\n",
    "def sum(a, b):\n",
    "    return a + b\n",
    "\n",
    "print(reduce(sum, num))"
   ]
  },
  {
   "cell_type": "markdown",
   "id": "f7ea62ac-2c64-43f3-a38c-e3d5a5ed77dc",
   "metadata": {},
   "source": [
    "<h4>Operator module:</h4>\n",
    "<ul>\n",
    "    <li>It provides a set of functions that correspond to the standard operators used in Python.</li>\n",
    "    <li>We can use this module in reduce function to perform arithmetic operations instead of lambda or traditional functions.</li>\n",
    "</ul>"
   ]
  },
  {
   "cell_type": "code",
   "execution_count": 91,
   "id": "d4765993-5678-4a38-97de-13b036982638",
   "metadata": {},
   "outputs": [
    {
     "name": "stdout",
     "output_type": "stream",
     "text": [
      "Addition: 19\n",
      "Subtraction: -17\n",
      "Multiplication: 360\n",
      "Division: 0.002777777777777778\n",
      "Concate String with add(): Hello World\n",
      "Concate String with concat(): Hello World\n"
     ]
    }
   ],
   "source": [
    "from functools import reduce\n",
    "import operator\n",
    "\n",
    "num = [1, 2, 3, 5, 6, 2]\n",
    "\n",
    "print(f\"Addition: {reduce(operator.add, num)}\")\n",
    "print(f\"Subtraction: {reduce(operator.sub, num)}\")\n",
    "print(f\"Multiplication: {reduce(operator.mul, num)}\")\n",
    "print(f\"Division: {reduce(operator.truediv, num)}\")\n",
    "print(f\"Concate String with add(): {reduce(operator.add, [\"Hello\", \" World\"])}\")\n",
    "print(f\"Concate String with concat(): {reduce(operator.concat, [\"Hello\", \" World\"])}\")"
   ]
  },
  {
   "cell_type": "markdown",
   "id": "745e1263-37bc-48d4-b364-9cabcbfbb8f4",
   "metadata": {},
   "source": [
    "<h4>Accumulate() function:</h4>\n",
    "<ul>\n",
    "    <li>It returns the intermediate results in the form of iterable object.</li>\n",
    "</ul>"
   ]
  },
  {
   "cell_type": "code",
   "execution_count": 99,
   "id": "680aed01-dab1-4a79-a751-f6fd1bae992f",
   "metadata": {},
   "outputs": [
    {
     "name": "stdout",
     "output_type": "stream",
     "text": [
      "Reduce Function: 27\n",
      "Accumulate Function: [1, 4, 8, 13, 19, 27]\n"
     ]
    }
   ],
   "source": [
    "from itertools import accumulate\n",
    "\n",
    "num = [1, 3, 4, 5, 6, 8]\n",
    "\n",
    "print(f\"Reduce Function: {reduce(lambda a, b : a + b, num)}\")\n",
    "print(f\"Accumulate Function: {list(accumulate(num, lambda a, b : a + b))}\")"
   ]
  },
  {
   "cell_type": "code",
   "execution_count": null,
   "id": "9ea8af20-4f7e-4ce4-b170-efdf4a5a1282",
   "metadata": {},
   "outputs": [],
   "source": []
  }
 ],
 "metadata": {
  "kernelspec": {
   "display_name": "Python [conda env:base] *",
   "language": "python",
   "name": "conda-base-py"
  },
  "language_info": {
   "codemirror_mode": {
    "name": "ipython",
    "version": 3
   },
   "file_extension": ".py",
   "mimetype": "text/x-python",
   "name": "python",
   "nbconvert_exporter": "python",
   "pygments_lexer": "ipython3",
   "version": "3.12.7"
  }
 },
 "nbformat": 4,
 "nbformat_minor": 5
}
