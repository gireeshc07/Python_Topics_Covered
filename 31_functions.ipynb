{
 "cells": [
  {
   "cell_type": "markdown",
   "id": "1d69cf29-4f76-45f1-8a7f-c3da03b1321d",
   "metadata": {},
   "source": [
    "<img src = \"python-logo.png\" width = \"300\" height = \"300\">\n",
    "<h1>Functions in Python</h1>\n",
    "<ul>\n",
    "    <li>A function is a block of code which only runs when it is called.</li>\n",
    "    <li>To call a function, use the function name followed by parenthesis.</li>\n",
    "    <li>A function can return data as a result.</li>\n",
    "</ul>"
   ]
  },
  {
   "cell_type": "code",
   "execution_count": 72,
   "id": "60faa99e-91d2-4c2a-926a-5e523ebb77c3",
   "metadata": {},
   "outputs": [
    {
     "name": "stdout",
     "output_type": "stream",
     "text": [
      "10\n",
      "this is function\n"
     ]
    }
   ],
   "source": [
    "# Basic Syntax\n",
    "def my_function(a): # function definition\n",
    "    print(a)\n",
    "    print(\"this is function\")\n",
    "my_function(10) # function call"
   ]
  },
  {
   "cell_type": "code",
   "execution_count": 74,
   "id": "e6839333-a6bd-48c5-8898-23db32ab9048",
   "metadata": {},
   "outputs": [
    {
     "name": "stdout",
     "output_type": "stream",
     "text": [
      "10 20\n",
      "this is function\n"
     ]
    }
   ],
   "source": [
    "# no. of arguments must match the no. of parameters, otherwise you get a TypeError\n",
    "def my_function(a, b):\n",
    "    print(a, b)\n",
    "    print(\"this is function\")\n",
    "my_function(10, 20)"
   ]
  },
  {
   "cell_type": "code",
   "execution_count": 76,
   "id": "65762b52-8c45-4567-8d20-c9c391311b30",
   "metadata": {},
   "outputs": [],
   "source": [
    "# function definitions cannot be empty, but if you have for some reason, use pass statement to avoid getting an error\n",
    "def my_function():\n",
    "    pass"
   ]
  },
  {
   "cell_type": "code",
   "execution_count": 78,
   "id": "20356890-7ac4-41dc-b0f7-6d675113ad31",
   "metadata": {},
   "outputs": [
    {
     "data": {
      "text/plain": [
       "10"
      ]
     },
     "execution_count": 78,
     "metadata": {},
     "output_type": "execute_result"
    }
   ],
   "source": [
    "# When you need to send a result back from a function to the part of your program that calle it, use return statement\n",
    "def my_function(a):\n",
    "    return a\n",
    "my_function(10)"
   ]
  },
  {
   "cell_type": "code",
   "execution_count": 80,
   "id": "dfc7f9c1-44cf-4ec6-8749-ddb368794d05",
   "metadata": {},
   "outputs": [
    {
     "data": {
      "text/plain": [
       "10"
      ]
     },
     "execution_count": 80,
     "metadata": {},
     "output_type": "execute_result"
    }
   ],
   "source": [
    "def my_function(a):\n",
    "    return a\n",
    "    print(\"hello\")\n",
    "my_function(10)"
   ]
  },
  {
   "cell_type": "code",
   "execution_count": 82,
   "id": "d06e3ab8-a7bc-4e43-a2ee-65fcf546a180",
   "metadata": {},
   "outputs": [
    {
     "name": "stdout",
     "output_type": "stream",
     "text": [
      "hello\n"
     ]
    },
    {
     "data": {
      "text/plain": [
       "10"
      ]
     },
     "execution_count": 82,
     "metadata": {},
     "output_type": "execute_result"
    }
   ],
   "source": [
    "def my_function(a):\n",
    "    print(\"hello\")\n",
    "    return a\n",
    "my_function(10)"
   ]
  },
  {
   "cell_type": "code",
   "execution_count": 84,
   "id": "6a1da269-6b64-4984-8554-227e7dbcbbfd",
   "metadata": {},
   "outputs": [
    {
     "data": {
      "text/plain": [
       "10"
      ]
     },
     "execution_count": 84,
     "metadata": {},
     "output_type": "execute_result"
    }
   ],
   "source": [
    "def my_function(a, b):\n",
    "    return a\n",
    "    return b\n",
    "my_function(10, 20)"
   ]
  },
  {
   "cell_type": "code",
   "execution_count": 86,
   "id": "5ffd36ff-26fc-4e73-92c0-b535c4a9b56f",
   "metadata": {},
   "outputs": [
    {
     "data": {
      "text/plain": [
       "(10, 20)"
      ]
     },
     "execution_count": 86,
     "metadata": {},
     "output_type": "execute_result"
    }
   ],
   "source": [
    "def my_function(a, b):\n",
    "    return a, b\n",
    "my_function(10, 20)"
   ]
  },
  {
   "cell_type": "code",
   "execution_count": 88,
   "id": "d3dcec12-0f86-4723-9d52-0cca7f3188ad",
   "metadata": {},
   "outputs": [
    {
     "name": "stdout",
     "output_type": "stream",
     "text": [
      "3\n",
      "7\n",
      "11\n"
     ]
    }
   ],
   "source": [
    "def add(a, b):\n",
    "    return a + b\n",
    "print(add(1, 2))\n",
    "print(add(3, 4))\n",
    "print(add(5, 6))"
   ]
  },
  {
   "cell_type": "code",
   "execution_count": 90,
   "id": "41ce5663-f7e9-485a-ba16-b055f85b5218",
   "metadata": {},
   "outputs": [
    {
     "name": "stdout",
     "output_type": "stream",
     "text": [
      "9\n",
      "9\n",
      "9\n",
      "9\n",
      "9\n",
      "9\n"
     ]
    }
   ],
   "source": [
    "def add(a, b, c):\n",
    "    i = 0\n",
    "    while i < 6:\n",
    "        print(a + b + c)\n",
    "        i += 1\n",
    "add(2, 3, 4)"
   ]
  },
  {
   "cell_type": "code",
   "execution_count": 92,
   "id": "81bc3672-64f3-4175-a3b7-606905524646",
   "metadata": {},
   "outputs": [
    {
     "name": "stdout",
     "output_type": "stream",
     "text": [
      "Parameters a & b: 10 20\n",
      "Local variables a & b: 11 22\n"
     ]
    }
   ],
   "source": [
    "def my_function(a, b):\n",
    "    print(f\"Parameters a & b: {a} {b}\")\n",
    "    a = 11\n",
    "    b = 22\n",
    "    print(f\"Local variables a & b: {a} {b}\")\n",
    "my_function(10, 20)"
   ]
  },
  {
   "cell_type": "code",
   "execution_count": 94,
   "id": "8d3081b7-f8ff-4b07-ab3b-691247cc862e",
   "metadata": {},
   "outputs": [
    {
     "name": "stdin",
     "output_type": "stream",
     "text": [
      "Enter you value:  4\n"
     ]
    },
    {
     "name": "stdout",
     "output_type": "stream",
     "text": [
      "Square of 4: 16\n"
     ]
    }
   ],
   "source": [
    "def square(a):\n",
    "    print(f\"Square of {a}: {a * a}\")\n",
    "a = int(input(\"Enter you value: \"))\n",
    "square(a)"
   ]
  },
  {
   "cell_type": "code",
   "execution_count": 96,
   "id": "2c6ad275-b94d-41c7-bb1e-59e94c1452d8",
   "metadata": {},
   "outputs": [
    {
     "name": "stdout",
     "output_type": "stream",
     "text": [
      "5\n",
      "16\n",
      "25\n"
     ]
    }
   ],
   "source": [
    "# Passing functions as arguments:\n",
    "def add(x, y):\n",
    "    return x + y\n",
    "def square(x):\n",
    "    return x * x\n",
    "print(add(2, 3))\n",
    "print(square(4))\n",
    "print(square(add(2, 3)))"
   ]
  },
  {
   "cell_type": "markdown",
   "id": "bd30be1e-f63e-4c91-a9ef-b409968ba5e5",
   "metadata": {},
   "source": [
    "<h4>Types of Arguments:</h4>\n",
    "<h5>1. Positional or Required Arguments (args):</h5>"
   ]
  },
  {
   "cell_type": "code",
   "execution_count": 99,
   "id": "c948559f-1c99-4433-af85-25a374698486",
   "metadata": {},
   "outputs": [
    {
     "name": "stdout",
     "output_type": "stream",
     "text": [
      "10 20\n"
     ]
    }
   ],
   "source": [
    "def my_function(a, b):\n",
    "    print(a, b)\n",
    "my_function(10, 20)"
   ]
  },
  {
   "cell_type": "markdown",
   "id": "537c53db-4380-43ba-a3ac-5207b27ce527",
   "metadata": {},
   "source": [
    "<h5>2. Keyword Arguments (kwargs):</h5>"
   ]
  },
  {
   "cell_type": "code",
   "execution_count": 102,
   "id": "48a1edb4-c6b7-45c8-81d9-e5ac9b11c3c4",
   "metadata": {},
   "outputs": [
    {
     "name": "stdout",
     "output_type": "stream",
     "text": [
      "The youngest child is Venkat\n"
     ]
    }
   ],
   "source": [
    "def my_function(child3, child2, child1):\n",
    "    print(\"The youngest child is \" + child3)\n",
    "my_function(child1 = \"Ram\", child2 = \"Krishna\", child3 = \"Venkat\") "
   ]
  },
  {
   "cell_type": "markdown",
   "id": "5aea034d-62aa-42fc-800d-9c7451b63aa2",
   "metadata": {},
   "source": [
    "<h5>3. Default Arguments:</h5>"
   ]
  },
  {
   "cell_type": "code",
   "execution_count": 105,
   "id": "26f988db-6a47-4302-bad5-a200fd462da6",
   "metadata": {},
   "outputs": [
    {
     "name": "stdout",
     "output_type": "stream",
     "text": [
      "I am from Russia.\n",
      "I am from China.\n",
      "I am from India.\n",
      "I am from Japan.\n"
     ]
    }
   ],
   "source": [
    "def my_function(country = \"India.\"):\n",
    "    return f\"I am from {country}\"\n",
    "print(my_function(\"Russia.\"))\n",
    "print(my_function(\"China.\"))\n",
    "print(my_function())\n",
    "print(my_function(\"Japan.\"))"
   ]
  },
  {
   "cell_type": "markdown",
   "id": "9d173dfd-3ed0-4b43-bf0f-a2f4b0ca84dd",
   "metadata": {},
   "source": [
    "<h5>4. Variable Length Arguments:</h5>"
   ]
  },
  {
   "cell_type": "markdown",
   "id": "dcefa9c7-148c-4b46-bd0c-ffe0b272286f",
   "metadata": {},
   "source": [
    "<h5>Arbitrary Positional Arguments (*args):</h5>"
   ]
  },
  {
   "cell_type": "code",
   "execution_count": 109,
   "id": "42c49951-d033-44ed-a65c-f70e04fc9e5b",
   "metadata": {},
   "outputs": [
    {
     "name": "stdout",
     "output_type": "stream",
     "text": [
      "The youngest child is Ram\n"
     ]
    }
   ],
   "source": [
    "def my_function(*kids):\n",
    "    print(\"The youngest child is \" + kids[0])\n",
    "my_function(\"Ram\", \"Krishna\", \"Venkat\")"
   ]
  },
  {
   "cell_type": "code",
   "execution_count": 111,
   "id": "c0cbaae3-0ff2-49a2-b8a7-064f926f05ce",
   "metadata": {},
   "outputs": [
    {
     "name": "stdout",
     "output_type": "stream",
     "text": [
      "The youngest child is Ram\n"
     ]
    }
   ],
   "source": [
    "# Positional-only argument\n",
    "def my_function(kids,/):\n",
    "    print(\"The youngest child is \" + kids)\n",
    "my_function(\"Ram\")"
   ]
  },
  {
   "cell_type": "markdown",
   "id": "471e9be5-44d7-4239-882a-6063f32e70f2",
   "metadata": {},
   "source": [
    "<h5>Arbitrary Keyword Arguments (**kwargs):</h5>"
   ]
  },
  {
   "cell_type": "code",
   "execution_count": 114,
   "id": "b8436eee-6f38-4553-8fbb-697045270e67",
   "metadata": {},
   "outputs": [
    {
     "name": "stdout",
     "output_type": "stream",
     "text": [
      "The youngest child is Ram\n"
     ]
    }
   ],
   "source": [
    "# Keyword-only arguments\n",
    "def my_function(**kids):\n",
    "    print(\"The youngest child is \" + kids[\"child1\"])\n",
    "my_function(child1 = \"Ram\", child2 = \"Krishna\", child3 = \"Venkat\")"
   ]
  },
  {
   "cell_type": "code",
   "execution_count": 116,
   "id": "e545287f-a943-4287-85df-a46af94f4339",
   "metadata": {},
   "outputs": [
    {
     "name": "stdout",
     "output_type": "stream",
     "text": [
      "10 20 Ram Krish\n"
     ]
    }
   ],
   "source": [
    "# Combine Positional-only and Keyword-only\n",
    "def my_function(a, b, / , * , c, d):\n",
    "    print(a, b, c, d)\n",
    "my_function(10, 20, c = \"Ram\", d = \"Krish\")"
   ]
  },
  {
   "cell_type": "markdown",
   "id": "a785c6a4-a31f-40b9-9b89-c8e8bb72b6bd",
   "metadata": {},
   "source": [
    "<h4>Nested Functions:</h4>\n",
    "<h5>-> Functions inside function is called Nested functions</h5>"
   ]
  },
  {
   "cell_type": "code",
   "execution_count": 119,
   "id": "e0dbfd40-167c-4622-9c5f-9cb6526e3754",
   "metadata": {},
   "outputs": [
    {
     "name": "stdout",
     "output_type": "stream",
     "text": [
      "this is outer_function\n",
      "this is inner function\n"
     ]
    }
   ],
   "source": [
    "def outer_function():\n",
    "    print(\"this is outer_function\")\n",
    "    def inner_function():\n",
    "        print(\"this is inner function\")\n",
    "    inner_function()\n",
    "outer_function()"
   ]
  },
  {
   "cell_type": "markdown",
   "id": "e7b36b35-bfa1-4e72-ac3f-b745a3e2f0c6",
   "metadata": {},
   "source": [
    "<h4>Recursion:</h4>\n",
    "<h5>-> Python also accepts function recursion, which means a defined function can call itself. It works like while loop.</h5>"
   ]
  },
  {
   "cell_type": "code",
   "execution_count": 122,
   "id": "c52647d4-f33c-4ca5-9f80-9c6b998735bd",
   "metadata": {
    "collapsed": true,
    "jupyter": {
     "outputs_hidden": true
    },
    "scrolled": true
   },
   "outputs": [
    {
     "name": "stdout",
     "output_type": "stream",
     "text": [
      "3000\n",
      "100\n",
      "this is function  1\n",
      "this is function  2\n",
      "this is function  3\n",
      "this is function  4\n",
      "this is function  5\n",
      "this is function  6\n",
      "this is function  7\n",
      "this is function  8\n",
      "this is function  9\n",
      "this is function  10\n",
      "this is function  11\n",
      "this is function  12\n",
      "this is function  13\n",
      "this is function  14\n",
      "this is function  15\n",
      "this is function  16\n",
      "this is function  17\n",
      "this is function  18\n",
      "this is function  19\n",
      "this is function  20\n",
      "this is function  21\n",
      "this is function  22\n",
      "this is function  23\n",
      "this is function  24\n",
      "this is function  25\n",
      "this is function  26\n",
      "this is function  27\n",
      "this is function  28\n",
      "this is function  29\n",
      "this is function  30\n",
      "this is function  31\n",
      "this is function  32\n",
      "this is function  33\n",
      "this is function  34\n",
      "this is function  35\n",
      "this is function  36\n",
      "this is function  37\n",
      "this is function  38\n",
      "this is function  39\n",
      "this is function  40\n",
      "this is function  41\n",
      "this is function  42\n",
      "this is function  43\n",
      "this is function  44\n",
      "this is function  45\n",
      "this is function  46\n",
      "this is function  47\n",
      "this is function  48\n",
      "this is function  49\n",
      "this is function  50\n",
      "this is function  51\n",
      "this is function  52\n",
      "this is function  53\n",
      "this is function  54\n",
      "this is function  55\n",
      "this is function  56\n",
      "this is function  57\n",
      "this is function  58\n",
      "this is function  59\n",
      "this is function  60\n",
      "this is function  61\n",
      "this is function  62\n",
      "this is function  63\n",
      "this is function  64\n",
      "this is function  65\n",
      "this is function  66\n",
      "this is function  67\n",
      "this is function  68\n",
      "this is function  69\n",
      "this is function  70\n",
      "this is function  71\n",
      "this is function  72\n",
      "this is function  73\n",
      "this is function  74\n",
      "this is function  75\n"
     ]
    },
    {
     "ename": "RecursionError",
     "evalue": "maximum recursion depth exceeded",
     "output_type": "error",
     "traceback": [
      "\u001b[1;31m---------------------------------------------------------------------------\u001b[0m",
      "\u001b[1;31mRecursionError\u001b[0m                            Traceback (most recent call last)",
      "Cell \u001b[1;32mIn[122], line 11\u001b[0m\n\u001b[0;32m      9\u001b[0m     \u001b[38;5;28mprint\u001b[39m(\u001b[38;5;124m\"\u001b[39m\u001b[38;5;124mthis is function \u001b[39m\u001b[38;5;124m\"\u001b[39m, i)\n\u001b[0;32m     10\u001b[0m     my_function()\n\u001b[1;32m---> 11\u001b[0m my_function()\n",
      "Cell \u001b[1;32mIn[122], line 10\u001b[0m, in \u001b[0;36mmy_function\u001b[1;34m()\u001b[0m\n\u001b[0;32m      8\u001b[0m i \u001b[38;5;241m+\u001b[39m\u001b[38;5;241m=\u001b[39m \u001b[38;5;241m1\u001b[39m\n\u001b[0;32m      9\u001b[0m \u001b[38;5;28mprint\u001b[39m(\u001b[38;5;124m\"\u001b[39m\u001b[38;5;124mthis is function \u001b[39m\u001b[38;5;124m\"\u001b[39m, i)\n\u001b[1;32m---> 10\u001b[0m my_function()\n",
      "Cell \u001b[1;32mIn[122], line 10\u001b[0m, in \u001b[0;36mmy_function\u001b[1;34m()\u001b[0m\n\u001b[0;32m      8\u001b[0m i \u001b[38;5;241m+\u001b[39m\u001b[38;5;241m=\u001b[39m \u001b[38;5;241m1\u001b[39m\n\u001b[0;32m      9\u001b[0m \u001b[38;5;28mprint\u001b[39m(\u001b[38;5;124m\"\u001b[39m\u001b[38;5;124mthis is function \u001b[39m\u001b[38;5;124m\"\u001b[39m, i)\n\u001b[1;32m---> 10\u001b[0m my_function()\n",
      "    \u001b[1;31m[... skipping similar frames: my_function at line 10 (72 times)]\u001b[0m\n",
      "Cell \u001b[1;32mIn[122], line 10\u001b[0m, in \u001b[0;36mmy_function\u001b[1;34m()\u001b[0m\n\u001b[0;32m      8\u001b[0m i \u001b[38;5;241m+\u001b[39m\u001b[38;5;241m=\u001b[39m \u001b[38;5;241m1\u001b[39m\n\u001b[0;32m      9\u001b[0m \u001b[38;5;28mprint\u001b[39m(\u001b[38;5;124m\"\u001b[39m\u001b[38;5;124mthis is function \u001b[39m\u001b[38;5;124m\"\u001b[39m, i)\n\u001b[1;32m---> 10\u001b[0m my_function()\n",
      "Cell \u001b[1;32mIn[122], line 9\u001b[0m, in \u001b[0;36mmy_function\u001b[1;34m()\u001b[0m\n\u001b[0;32m      7\u001b[0m \u001b[38;5;28;01mglobal\u001b[39;00m i\n\u001b[0;32m      8\u001b[0m i \u001b[38;5;241m+\u001b[39m\u001b[38;5;241m=\u001b[39m \u001b[38;5;241m1\u001b[39m\n\u001b[1;32m----> 9\u001b[0m \u001b[38;5;28mprint\u001b[39m(\u001b[38;5;124m\"\u001b[39m\u001b[38;5;124mthis is function \u001b[39m\u001b[38;5;124m\"\u001b[39m, i)\n\u001b[0;32m     10\u001b[0m my_function()\n",
      "File \u001b[1;32m~\\anaconda3\\Lib\\site-packages\\ipykernel\\iostream.py:649\u001b[0m, in \u001b[0;36mOutStream.write\u001b[1;34m(self, string)\u001b[0m\n\u001b[0;32m    646\u001b[0m     msg \u001b[38;5;241m=\u001b[39m \u001b[38;5;124m\"\u001b[39m\u001b[38;5;124mI/O operation on closed file\u001b[39m\u001b[38;5;124m\"\u001b[39m\n\u001b[0;32m    647\u001b[0m     \u001b[38;5;28;01mraise\u001b[39;00m \u001b[38;5;167;01mValueError\u001b[39;00m(msg)\n\u001b[1;32m--> 649\u001b[0m is_child \u001b[38;5;241m=\u001b[39m \u001b[38;5;129;01mnot\u001b[39;00m \u001b[38;5;28mself\u001b[39m\u001b[38;5;241m.\u001b[39m_is_master_process()\n\u001b[0;32m    650\u001b[0m \u001b[38;5;66;03m# only touch the buffer in the IO thread to avoid races\u001b[39;00m\n\u001b[0;32m    651\u001b[0m \u001b[38;5;28;01mwith\u001b[39;00m \u001b[38;5;28mself\u001b[39m\u001b[38;5;241m.\u001b[39m_buffer_lock:\n",
      "\u001b[1;31mRecursionError\u001b[0m: maximum recursion depth exceeded"
     ]
    }
   ],
   "source": [
    "import sys\n",
    "print(sys.getrecursionlimit())\n",
    "sys.setrecursionlimit(100)\n",
    "print(sys.getrecursionlimit())\n",
    "i = 0\n",
    "def my_function():\n",
    "    global i\n",
    "    i += 1\n",
    "    print(\"this is function \", i)\n",
    "    my_function()\n",
    "my_function()"
   ]
  },
  {
   "cell_type": "code",
   "execution_count": null,
   "id": "f3da7787-e6dc-4231-87ce-f5880effa754",
   "metadata": {},
   "outputs": [],
   "source": [
    "def factorial(num):\n",
    "    if num == 1:\n",
    "        return 1\n",
    "    else:\n",
    "        return num * factorial(num - 1)\n",
    "print(f\"The factorial is {factorial(6)}\")"
   ]
  },
  {
   "cell_type": "code",
   "execution_count": 125,
   "id": "385a4d92-53fd-464d-a503-2b479f6b89db",
   "metadata": {},
   "outputs": [
    {
     "name": "stdout",
     "output_type": "stream",
     "text": [
      "1\n",
      "3\n",
      "6\n",
      "10\n",
      "15\n",
      "21\n"
     ]
    },
    {
     "data": {
      "text/plain": [
       "21"
      ]
     },
     "execution_count": 125,
     "metadata": {},
     "output_type": "execute_result"
    }
   ],
   "source": [
    "def tri_recursion(num):\n",
    "    if num > 0:\n",
    "        result = num + tri_recursion(num - 1)\n",
    "        print(result)\n",
    "    else:\n",
    "        result = 0\n",
    "    return result\n",
    "tri_recursion(6)"
   ]
  },
  {
   "cell_type": "markdown",
   "id": "ea489a53-1c68-49bd-ad88-d2eb3b398e7e",
   "metadata": {},
   "source": [
    "<h4>Python Scope:</h4>\n",
    "<ul>\n",
    "    <li>A variable is only available from inside the region it is created. This is called scope.</li>\n",
    "</ul>\n",
    "<h4>Local Scope:</h4>\n",
    "<ul>\n",
    "    <li>A variable created inside a function belongs to the local scope of that function, and can only be used inside that function.</li>\n",
    "</ul>"
   ]
  },
  {
   "cell_type": "code",
   "execution_count": 128,
   "id": "91f5d826-6cc3-42a7-87f8-586d92dbc713",
   "metadata": {},
   "outputs": [
    {
     "name": "stdout",
     "output_type": "stream",
     "text": [
      "300\n"
     ]
    }
   ],
   "source": [
    "def my_function():\n",
    "    x = 300\n",
    "    print(x)\n",
    "my_function()\n",
    "# print(x)\n",
    "# NameError: name 'x' is not defined"
   ]
  },
  {
   "cell_type": "code",
   "execution_count": 130,
   "id": "61a97a9b-8e82-4784-9e00-2dd2f5ecb55d",
   "metadata": {},
   "outputs": [
    {
     "name": "stdout",
     "output_type": "stream",
     "text": [
      "300\n"
     ]
    }
   ],
   "source": [
    "def my_outer_function():\n",
    "    x = 300\n",
    "    def my_inner_function():\n",
    "        print(x)\n",
    "    my_inner_function()\n",
    "my_outer_function()"
   ]
  },
  {
   "cell_type": "markdown",
   "id": "06f014b1-5e88-46ce-97e6-8c9105efe134",
   "metadata": {},
   "source": [
    "<h4>Global Scope:</h4>\n",
    "<ul>\n",
    "    <li>A variable created in the main body of the Python code is a global variable and belongs to the global scope.</li>\n",
    "    <li>Global variable are available from within any scope, global and local.</li>\n",
    "</ul>"
   ]
  },
  {
   "cell_type": "code",
   "execution_count": 133,
   "id": "8e35d74f-b361-4d51-a4d4-5d349f4b47fa",
   "metadata": {},
   "outputs": [
    {
     "name": "stdout",
     "output_type": "stream",
     "text": [
      "300\n",
      "300\n"
     ]
    }
   ],
   "source": [
    "x = 300\n",
    "def my_function():\n",
    "    print(x)\n",
    "my_function()\n",
    "print(x)"
   ]
  },
  {
   "cell_type": "code",
   "execution_count": 135,
   "id": "5c95fd6e-f234-4f45-b6d4-b248d8580c0f",
   "metadata": {},
   "outputs": [
    {
     "name": "stdout",
     "output_type": "stream",
     "text": [
      "200\n",
      "300\n"
     ]
    }
   ],
   "source": [
    "x = 300\n",
    "def my_function():\n",
    "    x = 200\n",
    "    print(x)\n",
    "my_function()\n",
    "print(x)"
   ]
  },
  {
   "cell_type": "markdown",
   "id": "1c285bf9-27e8-46c2-853d-e8926429b837",
   "metadata": {},
   "source": [
    "<h4>Global Keyword:</h4>\n",
    "<ul>\n",
    "    <li>If you need to create a global variable, but are stuck in the local scope, you use the global keyword which makes the variable global.</li>\n",
    "</ul>"
   ]
  },
  {
   "cell_type": "code",
   "execution_count": 138,
   "id": "ef573083-d58c-4417-a748-300840bdac1c",
   "metadata": {},
   "outputs": [
    {
     "name": "stdout",
     "output_type": "stream",
     "text": [
      "200\n",
      "200\n"
     ]
    }
   ],
   "source": [
    "x = 300\n",
    "def my_function():\n",
    "    global x\n",
    "    x = 200\n",
    "    print(x)\n",
    "my_function()\n",
    "print(x)"
   ]
  },
  {
   "cell_type": "code",
   "execution_count": 140,
   "id": "54cd6f7f-5c08-4d5b-b038-96371726a3fa",
   "metadata": {},
   "outputs": [
    {
     "name": "stdout",
     "output_type": "stream",
     "text": [
      "301\n",
      "301\n"
     ]
    }
   ],
   "source": [
    "# x = 300\n",
    "# def my_function():\n",
    "#     x = x + 1\n",
    "#     print(x)\n",
    "# my_function()\n",
    "# print(x)\n",
    "# UnboundLocalError: cannot access local variable 'x' where it is not associated with a value\n",
    "\n",
    "x = 300\n",
    "def my_function():\n",
    "    global x\n",
    "    x = x + 1\n",
    "    print(x)\n",
    "my_function()\n",
    "print(x)"
   ]
  },
  {
   "cell_type": "code",
   "execution_count": 142,
   "id": "0903f3c6-9402-4674-9e03-61d594fc03c1",
   "metadata": {},
   "outputs": [
    {
     "name": "stdout",
     "output_type": "stream",
     "text": [
      "1\n",
      "300\n"
     ]
    }
   ],
   "source": [
    "x = 300\n",
    "def my_function():\n",
    "    x = 0\n",
    "    x = x + 1\n",
    "    print(x)\n",
    "my_function()\n",
    "print(x)"
   ]
  },
  {
   "cell_type": "markdown",
   "id": "87d8d088-fa4a-4169-aaea-b051c5396684",
   "metadata": {},
   "source": [
    "<h4>Nonlocal Keyword:</h4>\n",
    "<ul>\n",
    "    <li>The nonlocal keyword is used to work with variable inside nested functions. It makes the variable belong to the outer function.</li>\n",
    "</ul>"
   ]
  },
  {
   "cell_type": "code",
   "execution_count": 145,
   "id": "9fc50b64-81ed-49c5-b864-55468f1b8e19",
   "metadata": {},
   "outputs": [
    {
     "name": "stdout",
     "output_type": "stream",
     "text": [
      "Jane\n",
      "hello\n",
      "Jane\n"
     ]
    }
   ],
   "source": [
    "def my_outer_function():\n",
    "    x = \"Jane\"\n",
    "    print(x)\n",
    "    def my_inner_function():\n",
    "        x = \"hello\"\n",
    "        print(x)\n",
    "    my_inner_function()\n",
    "    print(x)\n",
    "my_outer_function()"
   ]
  },
  {
   "cell_type": "code",
   "execution_count": 147,
   "id": "6242571e-5c92-4dd1-9825-2b106035c090",
   "metadata": {},
   "outputs": [
    {
     "name": "stdout",
     "output_type": "stream",
     "text": [
      "10\n",
      "11\n",
      "10\n"
     ]
    }
   ],
   "source": [
    "# def my_outer_function():\n",
    "#     x = 10\n",
    "#     def my_inner_function():\n",
    "#         x = x + 1\n",
    "#     my_inner_function()\n",
    "# my_outer_function()\n",
    "# UnboundLocalError: cannot access local variable 'x' where it is not associated with a value\n",
    "\n",
    "def my_outer_function():\n",
    "    x = 10\n",
    "    print(x)\n",
    "    def my_inner_function():\n",
    "        x = 10\n",
    "        x = x + 1\n",
    "        print(x)\n",
    "    my_inner_function()\n",
    "    print(x)\n",
    "my_outer_function()"
   ]
  },
  {
   "cell_type": "code",
   "execution_count": 149,
   "id": "5463208d-4cd6-4814-a989-636e76c536d6",
   "metadata": {},
   "outputs": [
    {
     "name": "stdout",
     "output_type": "stream",
     "text": [
      "10\n",
      "11\n",
      "11\n"
     ]
    }
   ],
   "source": [
    "def my_outer_function():\n",
    "    x = 10\n",
    "    print(x)\n",
    "    def my_inner_function():\n",
    "        nonlocal x\n",
    "        x = x + 1\n",
    "        print(x)\n",
    "    my_inner_function()\n",
    "    print(x)\n",
    "my_outer_function()"
   ]
  },
  {
   "cell_type": "code",
   "execution_count": null,
   "id": "8e903405-d7cc-4531-835d-ece9506d21e9",
   "metadata": {},
   "outputs": [],
   "source": []
  }
 ],
 "metadata": {
  "kernelspec": {
   "display_name": "Python [conda env:base] *",
   "language": "python",
   "name": "conda-base-py"
  },
  "language_info": {
   "codemirror_mode": {
    "name": "ipython",
    "version": 3
   },
   "file_extension": ".py",
   "mimetype": "text/x-python",
   "name": "python",
   "nbconvert_exporter": "python",
   "pygments_lexer": "ipython3",
   "version": "3.12.7"
  }
 },
 "nbformat": 4,
 "nbformat_minor": 5
}
