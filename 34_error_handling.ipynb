{
 "cells": [
  {
   "cell_type": "markdown",
   "id": "8133c37b-04a5-4da7-9aa0-d6579d30d3d6",
   "metadata": {},
   "source": [
    "<img src = \"python-logo.png\" width = \"300\" height = \"300\">\n",
    "<h1>Error Handling in Python</h1>\n",
    "<ul>\n",
    "    <li>An error, also referred to as a \"bug\", is something wrong in a program that prevents it from compiling and executing properly.</li>\n",
    "    <li>Debugging is the process of detecting and removing errors in a program, so that the program produces the desired results on all occations.</li>\n",
    "    <li>The Errors in program can be classified into 3 categories:</li>\n",
    "</ul>\n",
    "<ol>\n",
    "    <li>Syntax Errors or Compile-time Errors</li>\n",
    "    <li>Logical Errors</li>\n",
    "    <li>Run-time Errors</li>\n",
    "</ol>"
   ]
  },
  {
   "cell_type": "markdown",
   "id": "2a18f71d-3f95-4970-a374-32f1ca8c924f",
   "metadata": {},
   "source": [
    "<h4>1. Syntax Errors or Compile-time Errors:</h4>\n",
    "<ul>\n",
    "    <li>Syntax Errors occur when the rules of a programming language are violated.</li>\n",
    "    <li>To handle syntax issues, you need to correct them in the code, not with exception hadling.</li>\n",
    "</ul>\n",
    "<h5>e.g.,</h5>"
   ]
  },
  {
   "cell_type": "code",
   "execution_count": 130,
   "id": "3370ad29-2ca7-406c-b90f-18ed2e9df691",
   "metadata": {},
   "outputs": [
    {
     "ename": "SyntaxError",
     "evalue": "invalid syntax. Perhaps you forgot a comma? (2853779360.py, line 1)",
     "output_type": "error",
     "traceback": [
      "\u001b[1;36m  Cell \u001b[1;32mIn[130], line 1\u001b[1;36m\u001b[0m\n\u001b[1;33m    print(welcome to python)\u001b[0m\n\u001b[1;37m          ^\u001b[0m\n\u001b[1;31mSyntaxError\u001b[0m\u001b[1;31m:\u001b[0m invalid syntax. Perhaps you forgot a comma?\n"
     ]
    }
   ],
   "source": [
    "# string must be inside the quotations\n",
    "print(welcome to Python)"
   ]
  },
  {
   "cell_type": "code",
   "execution_count": 132,
   "id": "7ed75b85-4c8c-4769-b560-c7fec3a911f1",
   "metadata": {},
   "outputs": [
    {
     "ename": "SyntaxError",
     "evalue": "incomplete input (3631817928.py, line 1)",
     "output_type": "error",
     "traceback": [
      "\u001b[1;36m  Cell \u001b[1;32mIn[132], line 1\u001b[1;36m\u001b[0m\n\u001b[1;33m    print(\"welcome to Python\"\u001b[0m\n\u001b[1;37m                             ^\u001b[0m\n\u001b[1;31mSyntaxError\u001b[0m\u001b[1;31m:\u001b[0m incomplete input\n"
     ]
    }
   ],
   "source": [
    "# after function name we must give open and close parentheses in function call\n",
    "print(\"welcome to Python\""
   ]
  },
  {
   "cell_type": "code",
   "execution_count": 134,
   "id": "e02f66da-b1a0-44ce-93ac-724b63bf26d2",
   "metadata": {},
   "outputs": [
    {
     "ename": "SyntaxError",
     "evalue": "expected ':' (547250266.py, line 1)",
     "output_type": "error",
     "traceback": [
      "\u001b[1;36m  Cell \u001b[1;32mIn[134], line 1\u001b[1;36m\u001b[0m\n\u001b[1;33m    if true\u001b[0m\n\u001b[1;37m           ^\u001b[0m\n\u001b[1;31mSyntaxError\u001b[0m\u001b[1;31m:\u001b[0m expected ':'\n"
     ]
    }
   ],
   "source": [
    "# if statement must end with colon\n",
    "if true"
   ]
  },
  {
   "cell_type": "code",
   "execution_count": 136,
   "id": "67f1b18c-7ae5-4f9f-874e-e3217c607d7c",
   "metadata": {},
   "outputs": [
    {
     "ename": "SyntaxError",
     "evalue": "invalid syntax (2302237706.py, line 1)",
     "output_type": "error",
     "traceback": [
      "\u001b[1;36m  Cell \u001b[1;32mIn[136], line 1\u001b[1;36m\u001b[0m\n\u001b[1;33m    def my_func(:\u001b[0m\n\u001b[1;37m                ^\u001b[0m\n\u001b[1;31mSyntaxError\u001b[0m\u001b[1;31m:\u001b[0m invalid syntax\n"
     ]
    }
   ],
   "source": [
    "# after function name we must give open and close parentheses in function definition\n",
    "def my_func(:"
   ]
  },
  {
   "cell_type": "code",
   "execution_count": 138,
   "id": "2d614830-4751-4a6e-a4ca-5cc2fface313",
   "metadata": {},
   "outputs": [
    {
     "ename": "SyntaxError",
     "evalue": "incomplete input (325984499.py, line 1)",
     "output_type": "error",
     "traceback": [
      "\u001b[1;36m  Cell \u001b[1;32mIn[138], line 1\u001b[1;36m\u001b[0m\n\u001b[1;33m    my_list = [1, 3,\u001b[0m\n\u001b[1;37m                    ^\u001b[0m\n\u001b[1;31mSyntaxError\u001b[0m\u001b[1;31m:\u001b[0m incomplete input\n"
     ]
    }
   ],
   "source": [
    "# list must be enclosed within square brackets\n",
    "my_list = [1, 3,"
   ]
  },
  {
   "cell_type": "markdown",
   "id": "3c401d01-262a-4708-9d46-cd0b4c0d5ed0",
   "metadata": {},
   "source": [
    "<h4>2. Logical Errors:</h4>\n",
    "<ul>\n",
    "    <li>Logical errors are related to the logic of the program execution.</li>\n",
    "    <li>Code runs without any issues; the output is just incorrect; typically no specific error message.</li>\n",
    "</ul>\n",
    "<h5>e.g.,</h5>"
   ]
  },
  {
   "cell_type": "code",
   "execution_count": 148,
   "id": "169ce528-0f95-4e5d-a550-038cfcd3cd7d",
   "metadata": {},
   "outputs": [
    {
     "name": "stdout",
     "output_type": "stream",
     "text": [
      "10\n",
      "25\n"
     ]
    }
   ],
   "source": [
    "a = 5\n",
    "b = 5\n",
    "c = a + b\n",
    "print(c) # expected output is 25, but we got 10\n",
    "\n",
    "d = a * b\n",
    "print(d) # noe we got the desired result"
   ]
  },
  {
   "cell_type": "code",
   "execution_count": 152,
   "id": "97869efe-f4f3-4baa-a72e-3ca70f6cc260",
   "metadata": {},
   "outputs": [
    {
     "name": "stdout",
     "output_type": "stream",
     "text": [
      "8.0\n",
      "5.0\n"
     ]
    }
   ],
   "source": [
    "a = 6\n",
    "b = 4\n",
    "c = a + b / 2\n",
    "print(c) # expected output is 5.0, but we got 8.0\n",
    "\n",
    "d = (a + b) / 2\n",
    "print(d) # noe we got the desired result"
   ]
  },
  {
   "cell_type": "markdown",
   "id": "4528662f-cdce-4d67-8a0e-79037ce93705",
   "metadata": {},
   "source": [
    "<h4>3. Run-time Errors:</h4>\n",
    "<ul>\n",
    "    <li>Even if a program is syntactically correct, it may cause an error when an attempt is made to execute it. Errors detected during execution are called runtime errors.</li>\n",
    "    <li>Some Situations are:</li>\n",
    "</ul>\n",
    "<ol>\n",
    "    <li>When a number is divided by zero (ZeroDivisionError).</li>\n",
    "    <li>When we use an identifier that has not been defined(NameError).</li>\n",
    "    <li>Performing an operation on incompatible types(TypeError).</li>\n",
    "</ol>\n",
    "<ul>\n",
    "    <li>We can handle these exceptions using try and except blocks or correct the code to avoid situations that lead to runtime errors.</li>\n",
    "</ul>\n",
    "<ol>\n",
    "    <li>try block --> lets you test a block of code for errors.</li>\n",
    "    <li>except block --> lets you handle the error.</li>\n",
    "    <li>else block --> lets you execute code when there is no error.</li>\n",
    "    <li>finally block --> lets you execute code, regardless of the result of the try and except blocks.</li>\n",
    "</ol>\n",
    "<h5>e.g.,</h5>"
   ]
  },
  {
   "cell_type": "code",
   "execution_count": 4,
   "id": "c045c065-23f7-4244-8591-c8b473530bb6",
   "metadata": {},
   "outputs": [
    {
     "name": "stdout",
     "output_type": "stream",
     "text": [
      "error occurred.\n",
      "always.\n"
     ]
    }
   ],
   "source": [
    "# Flow of control When there is an error in try block\n",
    "try:\n",
    "    print(a)\n",
    "except:\n",
    "    print(\"error occurred.\")\n",
    "else:\n",
    "    print(\"error not occurred.\")\n",
    "finally:\n",
    "    print(\"always.\")"
   ]
  },
  {
   "cell_type": "code",
   "execution_count": 6,
   "id": "4d983f07-a16b-4132-be1c-cba74e7a38d7",
   "metadata": {},
   "outputs": [
    {
     "name": "stdout",
     "output_type": "stream",
     "text": [
      "a\n",
      "error not occurred.\n",
      "always.\n"
     ]
    }
   ],
   "source": [
    "# Flow of control When there is no error in try block\n",
    "try:\n",
    "    print(\"a\")\n",
    "except:\n",
    "    print(\"error occurred.\")\n",
    "else:\n",
    "    print(\"error not occurred.\")\n",
    "finally:\n",
    "    print(\"always.\")"
   ]
  },
  {
   "cell_type": "code",
   "execution_count": 8,
   "id": "7e2cac55-a98d-48a9-be0c-3c8584ca4f8d",
   "metadata": {},
   "outputs": [
    {
     "name": "stdout",
     "output_type": "stream",
     "text": [
      "The value is:  2.0\n"
     ]
    }
   ],
   "source": [
    "# No Error\n",
    "a = 10\n",
    "b = 5\n",
    "print(\"The value is: \", a/b)"
   ]
  },
  {
   "cell_type": "code",
   "execution_count": 10,
   "id": "d0d5e7ff-b583-4f2b-8eaa-800abd7be78d",
   "metadata": {},
   "outputs": [
    {
     "ename": "ZeroDivisionError",
     "evalue": "division by zero",
     "output_type": "error",
     "traceback": [
      "\u001b[1;31m---------------------------------------------------------------------------\u001b[0m",
      "\u001b[1;31mZeroDivisionError\u001b[0m                         Traceback (most recent call last)",
      "Cell \u001b[1;32mIn[10], line 3\u001b[0m\n\u001b[0;32m      1\u001b[0m a \u001b[38;5;241m=\u001b[39m \u001b[38;5;241m10\u001b[39m\n\u001b[0;32m      2\u001b[0m b \u001b[38;5;241m=\u001b[39m \u001b[38;5;241m0\u001b[39m\n\u001b[1;32m----> 3\u001b[0m \u001b[38;5;28mprint\u001b[39m(\u001b[38;5;124m\"\u001b[39m\u001b[38;5;124mThe value is: \u001b[39m\u001b[38;5;124m\"\u001b[39m, a\u001b[38;5;241m/\u001b[39mb)\n",
      "\u001b[1;31mZeroDivisionError\u001b[0m: division by zero"
     ]
    }
   ],
   "source": [
    "# Error is occurred \n",
    "a = 10\n",
    "b = 0\n",
    "print(\"The value is: \", a/b)"
   ]
  },
  {
   "cell_type": "code",
   "execution_count": 32,
   "id": "48d69c0b-1045-4ed2-959e-9b0c981d4895",
   "metadata": {},
   "outputs": [
    {
     "name": "stdout",
     "output_type": "stream",
     "text": [
      "The number cannot be divided by zero. Please provide a number other than zero.\n"
     ]
    }
   ],
   "source": [
    "# Handling the error using try and except blocks \n",
    "try:\n",
    "    a = 10\n",
    "    b = 0\n",
    "    print(\"The value is: \", a/b)\n",
    "except:\n",
    "    print(\"The number cannot be divided by zero. Please provide a number other than zero.\")"
   ]
  },
  {
   "cell_type": "code",
   "execution_count": 42,
   "id": "c39301f9-f0a7-405a-9c1e-8789f02f78f9",
   "metadata": {},
   "outputs": [
    {
     "name": "stdin",
     "output_type": "stream",
     "text": [
      "Enter 1st operand:  6\n",
      "Enter 2nd operand:  0\n"
     ]
    },
    {
     "name": "stdout",
     "output_type": "stream",
     "text": [
      "The number cannot be divided by zero. Please provide a number other than zero.\n"
     ]
    }
   ],
   "source": [
    "# We can specify the error in except block\n",
    "try:\n",
    "    a = int(input(\"Enter 1st operand: \"))\n",
    "    b = int(input(\"Enter 2nd operand: \"))\n",
    "    print(\"Result: \", a/b)\n",
    "except ZeroDivisionError:\n",
    "    print(\"The number cannot be divided by zero. Please provide a number other than zero.\")\n",
    "except ValueError:\n",
    "    print(\"Only numbers can be entered, Letters cannot be entered\")\n",
    "except:\n",
    "    import sys\n",
    "    print(sys.exc_info()[0]) # prints the exception class"
   ]
  },
  {
   "cell_type": "code",
   "execution_count": 48,
   "id": "7ae8a04a-66dd-4981-956a-dfacd27dbd5c",
   "metadata": {},
   "outputs": [
    {
     "name": "stdout",
     "output_type": "stream",
     "text": [
      "Python\n",
      "2/0\n",
      "program terminated\n"
     ]
    }
   ],
   "source": [
    "# No error in the try block\n",
    "try:\n",
    "    print(\"Python\")\n",
    "    print(\"2/0\")\n",
    "except:\n",
    "    print(\"The number cannot be divided by zero. Please provide a number other than zero.\")\n",
    "print(\"program terminated\")"
   ]
  },
  {
   "cell_type": "code",
   "execution_count": 56,
   "id": "9ef7242d-21a8-4c70-9b0d-1a96183e3233",
   "metadata": {},
   "outputs": [
    {
     "name": "stdout",
     "output_type": "stream",
     "text": [
      "Python\n",
      "The number cannot be divided by zero. Please provide a number other than zero.\n",
      "program terminated\n"
     ]
    }
   ],
   "source": [
    "# Error in the try block\n",
    "try:\n",
    "    print(\"Python\")\n",
    "    print(2/0)\n",
    "except ZeroDivisionError:\n",
    "    print(\"The number cannot be divided by zero. Please provide a number other than zero.\")\n",
    "print(\"program terminated\")"
   ]
  },
  {
   "cell_type": "code",
   "execution_count": 62,
   "id": "41f1d0f2-47a9-4b1e-baf6-1246314c2a30",
   "metadata": {},
   "outputs": [
    {
     "name": "stdout",
     "output_type": "stream",
     "text": [
      "Python\n"
     ]
    },
    {
     "ename": "NameError",
     "evalue": "name 'zeroDivisionError' is not defined",
     "output_type": "error",
     "traceback": [
      "\u001b[1;31m---------------------------------------------------------------------------\u001b[0m",
      "\u001b[1;31mZeroDivisionError\u001b[0m                         Traceback (most recent call last)",
      "Cell \u001b[1;32mIn[62], line 3\u001b[0m\n\u001b[0;32m      2\u001b[0m     \u001b[38;5;28mprint\u001b[39m(\u001b[38;5;124m\"\u001b[39m\u001b[38;5;124mPython\u001b[39m\u001b[38;5;124m\"\u001b[39m)\n\u001b[1;32m----> 3\u001b[0m     \u001b[38;5;28mprint\u001b[39m(\u001b[38;5;241m2\u001b[39m\u001b[38;5;241m/\u001b[39m\u001b[38;5;241m0\u001b[39m)\n\u001b[0;32m      4\u001b[0m \u001b[38;5;28;01mexcept\u001b[39;00m zeroDivisionError:\n",
      "\u001b[1;31mZeroDivisionError\u001b[0m: division by zero",
      "\nDuring handling of the above exception, another exception occurred:\n",
      "\u001b[1;31mNameError\u001b[0m                                 Traceback (most recent call last)",
      "Cell \u001b[1;32mIn[62], line 4\u001b[0m\n\u001b[0;32m      2\u001b[0m     \u001b[38;5;28mprint\u001b[39m(\u001b[38;5;124m\"\u001b[39m\u001b[38;5;124mPython\u001b[39m\u001b[38;5;124m\"\u001b[39m)\n\u001b[0;32m      3\u001b[0m     \u001b[38;5;28mprint\u001b[39m(\u001b[38;5;241m2\u001b[39m\u001b[38;5;241m/\u001b[39m\u001b[38;5;241m0\u001b[39m)\n\u001b[1;32m----> 4\u001b[0m \u001b[38;5;28;01mexcept\u001b[39;00m zeroDivisionError:\n\u001b[0;32m      5\u001b[0m     \u001b[38;5;28mprint\u001b[39m(\u001b[38;5;124m\"\u001b[39m\u001b[38;5;124mThe number cannot be divided by zero. Please provide a number other than zero.\u001b[39m\u001b[38;5;124m\"\u001b[39m)\n\u001b[0;32m      6\u001b[0m \u001b[38;5;28mprint\u001b[39m(\u001b[38;5;124m\"\u001b[39m\u001b[38;5;124mprogram terminated\u001b[39m\u001b[38;5;124m\"\u001b[39m)\n",
      "\u001b[1;31mNameError\u001b[0m: name 'zeroDivisionError' is not defined"
     ]
    }
   ],
   "source": [
    "# Error in the except block\n",
    "try:\n",
    "    print(\"Python\")\n",
    "    print(2/0)\n",
    "except zeroDivisionError:\n",
    "    print(\"The number cannot be divided by zero. Please provide a number other than zero.\")\n",
    "print(\"program terminated\")"
   ]
  },
  {
   "cell_type": "code",
   "execution_count": 64,
   "id": "dae6ba65-19eb-476f-907d-58974da0ffe7",
   "metadata": {},
   "outputs": [
    {
     "name": "stdout",
     "output_type": "stream",
     "text": [
      "ZeroDivisionError occurred.\n"
     ]
    }
   ],
   "source": [
    "# ArithmeticError is Parent Class and ZeroDivisionError is child class\n",
    "try:\n",
    "    print(2/0)\n",
    "except ZeroDivisionError:\n",
    "    print(\"ZeroDivisionError occurred.\")\n",
    "except ArithmeticError:\n",
    "    print(\"ArithmeticError occurred.\")"
   ]
  },
  {
   "cell_type": "code",
   "execution_count": 66,
   "id": "f7b0bb0e-d5ff-480f-8819-c23ec59b9f85",
   "metadata": {},
   "outputs": [
    {
     "name": "stdout",
     "output_type": "stream",
     "text": [
      "ArithmeticError occurred.\n"
     ]
    }
   ],
   "source": [
    "try:\n",
    "    print(2/0)\n",
    "except ArithmeticError:\n",
    "    print(\"ArithmeticError occurred.\")\n",
    "except ZeroDivisionError:\n",
    "    print(\"ZeroDivisionError occurred.\")"
   ]
  },
  {
   "cell_type": "code",
   "execution_count": 70,
   "id": "86d0840f-973a-4942-a953-c6aa1ccb25bc",
   "metadata": {},
   "outputs": [
    {
     "name": "stdout",
     "output_type": "stream",
     "text": [
      "ZeroDivisionError: division by zero\n"
     ]
    }
   ],
   "source": [
    "# Except block with an object\n",
    "try:\n",
    "    a = 10\n",
    "    b = 0\n",
    "    result = a/b\n",
    "except ZeroDivisionError as obj:\n",
    "    print(f\"ZeroDivisionError: {obj}\")"
   ]
  },
  {
   "cell_type": "code",
   "execution_count": 72,
   "id": "88d0c002-c74a-406e-9832-6213995f9f8f",
   "metadata": {},
   "outputs": [
    {
     "name": "stdout",
     "output_type": "stream",
     "text": [
      "<class 'ZeroDivisionError'>: division by zero\n"
     ]
    }
   ],
   "source": [
    "# Multiple Errors in on except block\n",
    "try:\n",
    "    a = 10\n",
    "    b = 0\n",
    "    result = a/b\n",
    "except (ZeroDivisionError, ValueError, NameError) as obj:\n",
    "    import os\n",
    "    print(f\"{sys.exc_info()[0]}: {obj}\") # prints the exception class"
   ]
  },
  {
   "cell_type": "code",
   "execution_count": 78,
   "id": "1612420c-72b8-4012-930f-779c7313a398",
   "metadata": {},
   "outputs": [
    {
     "name": "stdout",
     "output_type": "stream",
     "text": [
      "The result is: 2.0\n"
     ]
    }
   ],
   "source": [
    "# Usage of else block\n",
    "try:\n",
    "    a = 10\n",
    "    b = 5\n",
    "    result = a/b\n",
    "except (ZeroDivisionError, ValueError, NameError) as obj:\n",
    "    import os\n",
    "    print(f\"{sys.exc_info()[0]}: {obj}\") # prints the exception class\n",
    "else:\n",
    "    print(f\"The result is: {result}\")"
   ]
  },
  {
   "cell_type": "code",
   "execution_count": 80,
   "id": "2a38110d-1b37-4d74-b14e-a363f9cfac80",
   "metadata": {},
   "outputs": [
    {
     "name": "stdout",
     "output_type": "stream",
     "text": [
      "The result is: 2.0\n",
      "Program is successfully terminated.\n"
     ]
    }
   ],
   "source": [
    "# Usage of finally block\n",
    "try:\n",
    "    a = 10\n",
    "    b = 5\n",
    "    result = a/b\n",
    "except (ZeroDivisionError, ValueError, NameError) as obj:\n",
    "    import os\n",
    "    print(f\"{sys.exc_info()[0]}: {obj}\") # prints the exception class\n",
    "else:\n",
    "    print(f\"The result is: {result}\")\n",
    "finally:\n",
    "    print(\"Program is successfully terminated.\")"
   ]
  },
  {
   "cell_type": "code",
   "execution_count": 84,
   "id": "60e4bba9-21e3-41e8-93b0-8381e4144915",
   "metadata": {},
   "outputs": [
    {
     "name": "stdout",
     "output_type": "stream",
     "text": [
      "Outer Except Block\n",
      "Inner Except Block\n"
     ]
    }
   ],
   "source": [
    "# Nested try and except blocks\n",
    "try:\n",
    "    print(\"a\" + 10)\n",
    "except:\n",
    "    print(\"Outer Except Block\")\n",
    "    try:\n",
    "        print(k)\n",
    "    except:\n",
    "        print(\"Inner Except Block\")"
   ]
  },
  {
   "cell_type": "code",
   "execution_count": 86,
   "id": "7d68691b-c87a-488d-8768-d87e65aafb50",
   "metadata": {},
   "outputs": [
    {
     "name": "stdout",
     "output_type": "stream",
     "text": [
      "Something went wrong when opening the file\n"
     ]
    }
   ],
   "source": [
    "try:\n",
    "    f = open(\"demofile.txt\", \"r\")\n",
    "    try:\n",
    "        f.write(\"nested try\")\n",
    "    except:\n",
    "        print(\"Something went wrong when writing to the file.\")\n",
    "    finally:\n",
    "        f.close()\n",
    "except:\n",
    "    print(\"Something went wrong when opening the file\")"
   ]
  },
  {
   "cell_type": "markdown",
   "id": "b8e4c855-6227-4c41-9f86-a9c5236345ab",
   "metadata": {},
   "source": [
    "<h4>Raise an Exception:</h4>\n",
    "<ul>\n",
    "    <li>As a Python developer you can choose to throw (or raise) an exception if a condition occurs.</li>\n",
    "    <li>To raise an exception, use the raise keyword.</li>\n",
    "    <li>You can define what kind of and error to raise, and the text to print to the user.</li>\n",
    "</ul>\n",
    "<h5>e.g.,</h5>"
   ]
  },
  {
   "cell_type": "code",
   "execution_count": 88,
   "id": "78c3c3b7-1b9c-4970-abf6-0b1fda5efe62",
   "metadata": {},
   "outputs": [
    {
     "ename": "NameError",
     "evalue": "An identifier is not defined.",
     "output_type": "error",
     "traceback": [
      "\u001b[1;31m---------------------------------------------------------------------------\u001b[0m",
      "\u001b[1;31mNameError\u001b[0m                                 Traceback (most recent call last)",
      "Cell \u001b[1;32mIn[88], line 1\u001b[0m\n\u001b[1;32m----> 1\u001b[0m \u001b[38;5;28;01mraise\u001b[39;00m \u001b[38;5;167;01mNameError\u001b[39;00m(\u001b[38;5;124m\"\u001b[39m\u001b[38;5;124mAn identifier is not defined.\u001b[39m\u001b[38;5;124m\"\u001b[39m)\n",
      "\u001b[1;31mNameError\u001b[0m: An identifier is not defined."
     ]
    }
   ],
   "source": [
    "raise NameError(\"An identifier is not defined.\")"
   ]
  },
  {
   "cell_type": "code",
   "execution_count": 92,
   "id": "4ad8a69a-4b65-40f0-9f73-3e99a20ddaca",
   "metadata": {},
   "outputs": [
    {
     "ename": "NameError",
     "evalue": "name 'k' is not defined",
     "output_type": "error",
     "traceback": [
      "\u001b[1;31m---------------------------------------------------------------------------\u001b[0m",
      "\u001b[1;31mNameError\u001b[0m                                 Traceback (most recent call last)",
      "Cell \u001b[1;32mIn[92], line 1\u001b[0m\n\u001b[1;32m----> 1\u001b[0m \u001b[38;5;28mprint\u001b[39m(\u001b[38;5;241m1\u001b[39m\u001b[38;5;241m/\u001b[39mk)\n",
      "\u001b[1;31mNameError\u001b[0m: name 'k' is not defined"
     ]
    }
   ],
   "source": [
    "print(1/k)"
   ]
  },
  {
   "cell_type": "code",
   "execution_count": 94,
   "id": "e467d55c-3034-453d-b5ea-39986f57b58c",
   "metadata": {},
   "outputs": [
    {
     "ename": "NameError",
     "evalue": "",
     "output_type": "error",
     "traceback": [
      "\u001b[1;31m---------------------------------------------------------------------------\u001b[0m",
      "\u001b[1;31mNameError\u001b[0m                                 Traceback (most recent call last)",
      "Cell \u001b[1;32mIn[94], line 1\u001b[0m\n\u001b[1;32m----> 1\u001b[0m \u001b[38;5;28;01mraise\u001b[39;00m \u001b[38;5;167;01mNameError\u001b[39;00m\n",
      "\u001b[1;31mNameError\u001b[0m: "
     ]
    }
   ],
   "source": [
    "raise NameError"
   ]
  },
  {
   "cell_type": "code",
   "execution_count": 102,
   "id": "0521a373-e63b-45c6-87a3-9738ac3d0c0d",
   "metadata": {},
   "outputs": [
    {
     "name": "stdin",
     "output_type": "stream",
     "text": [
      "Enter your number:  -1\n"
     ]
    },
    {
     "ename": "Exception",
     "evalue": "Enter a number greater than or equals to 0",
     "output_type": "error",
     "traceback": [
      "\u001b[1;31m---------------------------------------------------------------------------\u001b[0m",
      "\u001b[1;31mException\u001b[0m                                 Traceback (most recent call last)",
      "Cell \u001b[1;32mIn[102], line 3\u001b[0m\n\u001b[0;32m      1\u001b[0m a \u001b[38;5;241m=\u001b[39m \u001b[38;5;28mint\u001b[39m(\u001b[38;5;28minput\u001b[39m(\u001b[38;5;124m\"\u001b[39m\u001b[38;5;124mEnter your number: \u001b[39m\u001b[38;5;124m\"\u001b[39m))\n\u001b[0;32m      2\u001b[0m \u001b[38;5;28;01mif\u001b[39;00m a \u001b[38;5;241m<\u001b[39m \u001b[38;5;241m0\u001b[39m:\n\u001b[1;32m----> 3\u001b[0m     \u001b[38;5;28;01mraise\u001b[39;00m \u001b[38;5;167;01mException\u001b[39;00m(\u001b[38;5;124m\"\u001b[39m\u001b[38;5;124mEnter a number greater than or equals to 0\u001b[39m\u001b[38;5;124m\"\u001b[39m)\n\u001b[0;32m      4\u001b[0m \u001b[38;5;28;01melse\u001b[39;00m:\n\u001b[0;32m      5\u001b[0m     \u001b[38;5;28mprint\u001b[39m(a)\n",
      "\u001b[1;31mException\u001b[0m: Enter a number greater than or equals to 0"
     ]
    }
   ],
   "source": [
    "a = int(input(\"Enter your number: \"))\n",
    "if a < 0:\n",
    "    raise Exception(\"Enter a number greater than or equals to 0\")\n",
    "else:\n",
    "    print(a)"
   ]
  },
  {
   "cell_type": "code",
   "execution_count": 106,
   "id": "f62f4fa4-5d0c-4af5-b945-db5aa3262bb9",
   "metadata": {},
   "outputs": [
    {
     "ename": "TypeError",
     "evalue": "Only integers are allowed.",
     "output_type": "error",
     "traceback": [
      "\u001b[1;31m---------------------------------------------------------------------------\u001b[0m",
      "\u001b[1;31mTypeError\u001b[0m                                 Traceback (most recent call last)",
      "Cell \u001b[1;32mIn[106], line 3\u001b[0m\n\u001b[0;32m      1\u001b[0m a \u001b[38;5;241m=\u001b[39m \u001b[38;5;124m\"\u001b[39m\u001b[38;5;124mhello\u001b[39m\u001b[38;5;124m\"\u001b[39m\n\u001b[0;32m      2\u001b[0m \u001b[38;5;28;01mif\u001b[39;00m \u001b[38;5;129;01mnot\u001b[39;00m \u001b[38;5;28mtype\u001b[39m(a) \u001b[38;5;129;01mis\u001b[39;00m \u001b[38;5;28mint\u001b[39m:\n\u001b[1;32m----> 3\u001b[0m     \u001b[38;5;28;01mraise\u001b[39;00m \u001b[38;5;167;01mTypeError\u001b[39;00m(\u001b[38;5;124m\"\u001b[39m\u001b[38;5;124mOnly integers are allowed.\u001b[39m\u001b[38;5;124m\"\u001b[39m)\n",
      "\u001b[1;31mTypeError\u001b[0m: Only integers are allowed."
     ]
    }
   ],
   "source": [
    "a = \"hello\"\n",
    "if not type(a) is int:\n",
    "    raise TypeError(\"Only integers are allowed.\")"
   ]
  },
  {
   "cell_type": "markdown",
   "id": "9bba6813-5f56-49a6-8d7a-5f195b18e1b3",
   "metadata": {},
   "source": [
    "<h4>User-defined Exceptions:</h4>\n",
    "<ul>\n",
    "    <li>Using Exception base class we can define user-defined exceptions.</li>\n",
    "</ul>\n",
    "<h5>e.g.,</h5>"
   ]
  },
  {
   "cell_type": "code",
   "execution_count": 113,
   "id": "af048445-271b-4b84-aa64-22095a4accd8",
   "metadata": {},
   "outputs": [
    {
     "name": "stdin",
     "output_type": "stream",
     "text": [
      "Enter marks for student:  101\n"
     ]
    },
    {
     "name": "stdout",
     "output_type": "stream",
     "text": [
      "Error: Marks should be in b/w 0 an 100 only.\n"
     ]
    }
   ],
   "source": [
    "class InvalidData(Exception):\n",
    "    pass\n",
    "marks = int(input(\"Enter marks for student: \"))\n",
    "try:\n",
    "    if marks < 0 or marks > 100:\n",
    "        raise InvalidData\n",
    "except InvalidData:\n",
    "    print(\"Error: Marks should be in b/w 0 an 100 only.\")"
   ]
  },
  {
   "cell_type": "code",
   "execution_count": null,
   "id": "549d444f-8593-4125-9156-43a7f69afb9a",
   "metadata": {},
   "outputs": [],
   "source": []
  }
 ],
 "metadata": {
  "kernelspec": {
   "display_name": "Python [conda env:base] *",
   "language": "python",
   "name": "conda-base-py"
  },
  "language_info": {
   "codemirror_mode": {
    "name": "ipython",
    "version": 3
   },
   "file_extension": ".py",
   "mimetype": "text/x-python",
   "name": "python",
   "nbconvert_exporter": "python",
   "pygments_lexer": "ipython3",
   "version": "3.12.7"
  }
 },
 "nbformat": 4,
 "nbformat_minor": 5
}
