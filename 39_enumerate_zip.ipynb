{
 "cells": [
  {
   "cell_type": "markdown",
   "id": "ffff439b-c63f-47e6-ad74-28deeb172b47",
   "metadata": {},
   "source": [
    "<img src = \"python-logo.png\" width = \"300\" height = \"300\">\n",
    "<h1>Enumerate, Zip, Unzip, Zip_Package, Enumerate and Sorted with Zip in Python</h1>"
   ]
  },
  {
   "cell_type": "markdown",
   "id": "4b6e46af-8880-47c7-9ef4-ce411729ebf9",
   "metadata": {},
   "source": [
    "<h4>1. Enumerate Function:</h4>\n",
    "<ul>\n",
    "    <li>The enumerate function in Python is a built-in function that adds a counter to an iterable (like a list, tuple, or string) and returns it as an enumerate object.</li>\n",
    "<li>This can be particularly useful when you need both the index and the value of each item in the iterable.</li>\n",
    "</ul>\n",
    "<h5>e.g.,</h5>"
   ]
  },
  {
   "cell_type": "code",
   "execution_count": 141,
   "id": "16f48650-9d26-4bc4-8d7a-78ddda5f799a",
   "metadata": {},
   "outputs": [
    {
     "name": "stdout",
     "output_type": "stream",
     "text": [
      "Rama\n",
      "Krishna\n",
      "Venkata\n",
      "Kalki\n"
     ]
    }
   ],
   "source": [
    "# Accessing list items without indices\n",
    "my_list = [\"Rama\", \"Krishna\", \"Venkata\", \"Kalki\"]\n",
    "for i in my_list:\n",
    "    print(i)"
   ]
  },
  {
   "cell_type": "code",
   "execution_count": 143,
   "id": "c0748fdc-2aac-4061-95e7-c41a4c6e7ccb",
   "metadata": {},
   "outputs": [
    {
     "name": "stdout",
     "output_type": "stream",
     "text": [
      "1 Rama\n",
      "2 Krishna\n",
      "3 Venkata\n",
      "4 Kalki\n"
     ]
    }
   ],
   "source": [
    "# Adding counter to the list items \n",
    "count = 1\n",
    "for i in my_list:\n",
    "    print(count, i)\n",
    "    count += 1"
   ]
  },
  {
   "cell_type": "code",
   "execution_count": 145,
   "id": "ace0ae9f-bb71-43c5-b66e-49c434a14de2",
   "metadata": {},
   "outputs": [
    {
     "name": "stdout",
     "output_type": "stream",
     "text": [
      "(0, 'Rama')\n",
      "(1, 'Krishna')\n",
      "(2, 'Venkata')\n",
      "(3, 'Kalki')\n"
     ]
    }
   ],
   "source": [
    "# Using enumerate to get index and value. It returns the index and value in the form of tuple\n",
    "for i in enumerate(my_list):\n",
    "    print(i)"
   ]
  },
  {
   "cell_type": "code",
   "execution_count": 147,
   "id": "26c28837-313a-480c-ab0c-f842890e7d9d",
   "metadata": {},
   "outputs": [
    {
     "name": "stdout",
     "output_type": "stream",
     "text": [
      "0 Rama\n",
      "1 Krishna\n",
      "2 Venkata\n",
      "3 Kalki\n"
     ]
    }
   ],
   "source": [
    "# unpacking the tuple form\n",
    "for i, value in enumerate(my_list):\n",
    "    print(i, value)"
   ]
  },
  {
   "cell_type": "code",
   "execution_count": 149,
   "id": "6d9c071c-faca-41d3-8944-2030fd0c7cbd",
   "metadata": {},
   "outputs": [
    {
     "name": "stdout",
     "output_type": "stream",
     "text": [
      "1 Rama\n",
      "2 Krishna\n",
      "3 Venkata\n",
      "4 Kalki\n"
     ]
    }
   ],
   "source": [
    "# We can specify the start value of the index\n",
    "for i, value in enumerate(my_list, start = 1):\n",
    "    print(i, value)"
   ]
  },
  {
   "cell_type": "markdown",
   "id": "a3f4f2f9-bec6-4226-b7bb-b0d3b45ec335",
   "metadata": {},
   "source": [
    "<h4>2. Zip Function:</h4>\n",
    "<ul>\n",
    "    <li>The zip function in Python is a built-in function that allows you to combine multiple iterables (like lists, tuples, or strings) into a single iterable of tuples.</li>\n",
    "    <li>Each tuple contains elements from the corresponding positions of the input iterables.</li>\n",
    "</ul>\n",
    "<h5>e.g.,</h5>"
   ]
  },
  {
   "cell_type": "code",
   "execution_count": 152,
   "id": "b1282b43-cddf-400d-8269-15cf8cb929b6",
   "metadata": {},
   "outputs": [
    {
     "name": "stdout",
     "output_type": "stream",
     "text": [
      "<zip object at 0x000002447115C540>\n",
      "[('Rama', '9999999999'), ('Krishna', '8888888888'), ('Venkata', '7777777777'), ('Kalki', '6666666666')]\n",
      "{'Rama': '9999999999', 'Krishna': '8888888888', 'Venkata': '7777777777', 'Kalki': '6666666666'}\n"
     ]
    }
   ],
   "source": [
    "names = [\"Rama\", \"Krishna\", \"Venkata\", \"Kalki\"]\n",
    "numbers = [\"9999999999\", \"8888888888\", \"7777777777\", \"6666666666\"]\n",
    "\n",
    "print(zip(names, numbers))\n",
    "\n",
    "combined_list = list(zip(names, numbers))\n",
    "print(combined_list)\n",
    "\n",
    "combined_dict = dict(zip(names, numbers))\n",
    "print(combined_dict)"
   ]
  },
  {
   "cell_type": "code",
   "execution_count": 154,
   "id": "f951cddf-3180-46d7-bbcb-a3f937392036",
   "metadata": {},
   "outputs": [
    {
     "name": "stdout",
     "output_type": "stream",
     "text": [
      "Rama 9999999999\n",
      "Krishna 8888888888\n",
      "Venkata 7777777777\n",
      "Kalki 6666666666\n"
     ]
    }
   ],
   "source": [
    "for name, num in combined_data:\n",
    "    print(name, num)"
   ]
  },
  {
   "cell_type": "code",
   "execution_count": 156,
   "id": "f270aef6-4d1f-4736-b5d0-83dfaa797552",
   "metadata": {},
   "outputs": [
    {
     "name": "stdout",
     "output_type": "stream",
     "text": [
      "Rama 9999999999\n",
      "Krishna 8888888888\n",
      "Venkata 7777777777\n",
      "Kalki 6666666666\n"
     ]
    }
   ],
   "source": [
    "for name, num in combined_dict.items():\n",
    "    print(name, num)"
   ]
  },
  {
   "cell_type": "markdown",
   "id": "11fb5909-de33-4c3c-88af-15fdfabdce7e",
   "metadata": {},
   "source": [
    "<h4>3. Unzip:</h4>\n",
    "<ul>\n",
    "    <li>To \"unzip\" or unpack a zipped iterable in Python, you can use the zip function in combination with the unpacking operator (*).</li>\n",
    "    <li>This allows you to separate the combined tuples back into individual lists or tuples.</li>\n",
    "</ul>"
   ]
  },
  {
   "cell_type": "code",
   "execution_count": 159,
   "id": "e438a714-fdc3-4e1d-a528-1724a3cd5d5c",
   "metadata": {},
   "outputs": [
    {
     "name": "stdout",
     "output_type": "stream",
     "text": [
      "[('Rama', '9999999999'), ('Krishna', '8888888888'), ('Venkata', '7777777777'), ('Kalki', '6666666666')]\n"
     ]
    }
   ],
   "source": [
    "# Packing the zip\n",
    "names1 = [\"Rama\", \"Krishna\", \"Venkata\", \"Kalki\"]\n",
    "numbers1 = [\"9999999999\", \"8888888888\", \"7777777777\", \"6666666666\"]\n",
    "\n",
    "combined_list = list(zip(names1, numbers1))\n",
    "print(combined_list)"
   ]
  },
  {
   "cell_type": "code",
   "execution_count": 161,
   "id": "0b4765a9-b187-4944-a17d-a9fecc676fb7",
   "metadata": {},
   "outputs": [
    {
     "name": "stdout",
     "output_type": "stream",
     "text": [
      "('Rama', 'Krishna', 'Venkata', 'Kalki')\n",
      "('9999999999', '8888888888', '7777777777', '6666666666')\n"
     ]
    }
   ],
   "source": [
    "# Unpacking the zip\n",
    "names2, numbers2 = zip(*combined_list)\n",
    "print(names2)\n",
    "print(numbers2)"
   ]
  },
  {
   "cell_type": "markdown",
   "id": "f140d848-a027-40f9-8e49-8d5f60db3740",
   "metadata": {},
   "source": [
    "<h4>4. Zip_longest Function:</h4>\n",
    "<ul>\n",
    "    <li>The zip_longest function in Python is part of the itertools module.</li>\n",
    "    <li>It allows you to zip multiple iterables together, but unlike the regular zip function, it continues until the longest iterable is exhausted.</li>\n",
    "    <li>For the shorter iterables, it fills in the missing values with a specified fill value (default is None).</li>\n",
    "</ul>"
   ]
  },
  {
   "cell_type": "code",
   "execution_count": 164,
   "id": "cbf4170d-96a2-4750-9cae-7f4293e63cdf",
   "metadata": {},
   "outputs": [
    {
     "name": "stdout",
     "output_type": "stream",
     "text": [
      "[('Rama', '9999999999'), ('Krishna', '8888888888'), ('Venkata', '7777777777'), ('Kalki', None)]\n"
     ]
    }
   ],
   "source": [
    "# getting all the coordinates even if the data is not in uniform\n",
    "from itertools import zip_longest\n",
    "\n",
    "names = [\"Rama\", \"Krishna\", \"Venkata\", \"Kalki\"]\n",
    "numbers = [\"9999999999\", \"8888888888\", \"7777777777\"]\n",
    "\n",
    "combined_list = list(zip_longest(names, numbers))\n",
    "print(combined_list)"
   ]
  },
  {
   "cell_type": "code",
   "execution_count": 166,
   "id": "abf56862-5f16-48ea-ad22-4168f71eeb27",
   "metadata": {},
   "outputs": [
    {
     "name": "stdout",
     "output_type": "stream",
     "text": [
      "[('Rama', '9999999999'), ('Krishna', '8888888888'), ('Venkata', '7777777777'), ('Kalki', 'missing')]\n"
     ]
    }
   ],
   "source": [
    "# by default the fill value is None, but we can specify whatever we want\n",
    "combined_list = list(zip_longest(names, numbers, fillvalue = \"missing\"))\n",
    "print(combined_list)"
   ]
  },
  {
   "cell_type": "markdown",
   "id": "28eb6b0b-33a7-41b9-8acb-ab5a591d3730",
   "metadata": {},
   "source": [
    "<h4>5. Enumerate with Zip and Sorting:</h4>\n",
    "<ul>\n",
    "    <li>We can use enumerate() function and sorted() function with zip() function.</li>\n",
    "</ul>"
   ]
  },
  {
   "cell_type": "code",
   "execution_count": 169,
   "id": "2a4ec634-0668-4b31-8837-d751293914e7",
   "metadata": {},
   "outputs": [
    {
     "name": "stdout",
     "output_type": "stream",
     "text": [
      "0 apple\n",
      "1 banana\n",
      "2 cherry\n",
      "3 dates\n"
     ]
    }
   ],
   "source": [
    "# Using Enumerate function\n",
    "fruits = [\"apple\", \"banana\", \"cherry\", \"dates\"]\n",
    "\n",
    "for index, value in enumerate(fruits):\n",
    "    print(index, value)"
   ]
  },
  {
   "cell_type": "code",
   "execution_count": 171,
   "id": "7bcf6a8a-acfa-49dc-b8a8-b508a7c2dc78",
   "metadata": {},
   "outputs": [
    {
     "name": "stdout",
     "output_type": "stream",
     "text": [
      "0 ('red', 'apple')\n",
      "1 ('yellow', 'banana')\n",
      "2 ('green', 'cherry')\n",
      "3 ('black', 'dates')\n",
      "\n",
      "0 red apple\n",
      "1 yellow banana\n",
      "2 green cherry\n",
      "3 black dates\n"
     ]
    }
   ],
   "source": [
    "# Enumerate function with zip \n",
    "colors = [\"red\", \"yellow\", \"green\", \"black\"]\n",
    "fruits = [\"apple\", \"banana\", \"cherry\", \"dates\"]\n",
    "\n",
    "for index, value in enumerate(zip(colors, fruits)):\n",
    "    print(index, value)\n",
    "    \n",
    "print()\n",
    "\n",
    "for index, (value1, value2) in enumerate(zip(colors, fruits)):\n",
    "    print(index, value1, value2)"
   ]
  },
  {
   "cell_type": "code",
   "execution_count": 173,
   "id": "00eb7d02-34b0-4d7e-a695-a4ee7744c768",
   "metadata": {},
   "outputs": [
    {
     "name": "stdout",
     "output_type": "stream",
     "text": [
      "[('b', 2), ('a', 4), ('d', 3), ('c', 1)]\n",
      "[('a', 4), ('b', 2), ('c', 1), ('d', 3)]\n"
     ]
    }
   ],
   "source": [
    "# sorting the data\n",
    "letters = [\"b\", \"a\", \"d\", \"c\"]\n",
    "numbers = [2, 4, 3, 1]\n",
    "\n",
    "data = list(zip(letters, numbers))\n",
    "print(data)\n",
    "data.sort()\n",
    "print(data)"
   ]
  },
  {
   "cell_type": "code",
   "execution_count": 175,
   "id": "c3744ee3-ef03-46cc-8592-32c322ed4b29",
   "metadata": {},
   "outputs": [
    {
     "name": "stdout",
     "output_type": "stream",
     "text": [
      "[(1, 'c'), (2, 'b'), (3, 'd'), (4, 'a')]\n"
     ]
    }
   ],
   "source": [
    "# sorted funcion with zip\n",
    "letters = [\"b\", \"a\", \"d\", \"c\"]\n",
    "numbers = [2, 4, 3, 1]\n",
    "\n",
    "data = sorted(zip(numbers, letters))\n",
    "print(data)"
   ]
  },
  {
   "cell_type": "markdown",
   "id": "ad719736-ec77-4466-9c33-6e0e2921732e",
   "metadata": {},
   "source": [
    "<h4>Real World Examples:</h4>"
   ]
  },
  {
   "cell_type": "code",
   "execution_count": 178,
   "id": "aa99f2d2-2371-4344-99d7-2e56f6f08844",
   "metadata": {},
   "outputs": [
    {
     "name": "stdout",
     "output_type": "stream",
     "text": [
      "Total profit: 800\n"
     ]
    }
   ],
   "source": [
    "# Calculating the profit\n",
    "buy_price = [500, 600, 800]\n",
    "sold_price = [700, 800, 1200]\n",
    "\n",
    "profit = 0\n",
    "for buy, sold in zip(buy_price, sold_price):\n",
    "    profit = profit + sold - buy\n",
    "print(f\"Total profit: {profit}\")"
   ]
  },
  {
   "cell_type": "code",
   "execution_count": null,
   "id": "79f2ddf6-c0de-40ba-b91e-88fbfbc63f0f",
   "metadata": {},
   "outputs": [],
   "source": []
  }
 ],
 "metadata": {
  "kernelspec": {
   "display_name": "Python [conda env:base] *",
   "language": "python",
   "name": "conda-base-py"
  },
  "language_info": {
   "codemirror_mode": {
    "name": "ipython",
    "version": 3
   },
   "file_extension": ".py",
   "mimetype": "text/x-python",
   "name": "python",
   "nbconvert_exporter": "python",
   "pygments_lexer": "ipython3",
   "version": "3.12.7"
  }
 },
 "nbformat": 4,
 "nbformat_minor": 5
}
