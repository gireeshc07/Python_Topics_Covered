{
 "cells": [
  {
   "cell_type": "markdown",
   "id": "dad99a11-aede-4669-b470-a0a54546cdf4",
   "metadata": {},
   "source": [
    "<img src = \"python-logo.png\" width = \"300\" height = \"300\">\n",
    "<h1>Iterators and Generators in Python</h1>"
   ]
  },
  {
   "cell_type": "markdown",
   "id": "f32bdcd5-d2a8-418b-b252-e723a413ef50",
   "metadata": {},
   "source": [
    "<h4>Iterators:</h4>\n",
    "<ul>\n",
    "    <li>An iterator is an object that contains a countable number of values.</li>\n",
    "    <li>An iterator is an object that can be iterated upon, meaning that you can traverse through all the values.</li>\n",
    "    <li>Technically, in Python, an iterator is an object which implements the iterator protocol, which consist of the methods __iter__() and __next__(). </li>\n",
    "</ul>\n",
    "<h5>e.g.,</h5>"
   ]
  },
  {
   "cell_type": "code",
   "execution_count": 7,
   "id": "ad52204f-a6aa-493d-bfb4-765b1dcce8e0",
   "metadata": {},
   "outputs": [
    {
     "name": "stdout",
     "output_type": "stream",
     "text": [
      "1\n",
      "2\n",
      "3\n",
      "4\n"
     ]
    }
   ],
   "source": [
    "# Accessing list using indexing\n",
    "my_list = [1, 2, 3, 4]\n",
    "\n",
    "print(my_list[0])\n",
    "print(my_list[1])\n",
    "print(my_list[2])\n",
    "print(my_list[3])"
   ]
  },
  {
   "cell_type": "code",
   "execution_count": 11,
   "id": "2650a248-38bc-4a2a-b67c-3fb0e60312b1",
   "metadata": {},
   "outputs": [
    {
     "name": "stdout",
     "output_type": "stream",
     "text": [
      "1\n",
      "2\n",
      "3\n",
      "4\n"
     ]
    }
   ],
   "source": [
    "# Accessing list using for loop\n",
    "my_list = [1, 2, 3, 4]\n",
    "\n",
    "for i in my_list:\n",
    "    print(i)"
   ]
  },
  {
   "cell_type": "code",
   "execution_count": 13,
   "id": "891daedd-3127-4099-860e-ed927845a2bd",
   "metadata": {},
   "outputs": [
    {
     "name": "stdout",
     "output_type": "stream",
     "text": [
      "<list_iterator object at 0x00000292320D3A30>\n"
     ]
    }
   ],
   "source": [
    "# Creating an iterator\n",
    "my_iter = iter(my_list)\n",
    "print(my_iter)"
   ]
  },
  {
   "cell_type": "code",
   "execution_count": 15,
   "id": "43b70279-23da-4b66-b6bc-cf0ae6fef6e9",
   "metadata": {},
   "outputs": [
    {
     "name": "stdout",
     "output_type": "stream",
     "text": [
      "1\n",
      "2\n"
     ]
    }
   ],
   "source": [
    "# Accessing an iterator using __next__() method\n",
    "print(my_iter.__next__())\n",
    "print(next(my_iter))"
   ]
  },
  {
   "cell_type": "code",
   "execution_count": 17,
   "id": "0f376447-cc4c-4899-9f91-a7bf3b20f71a",
   "metadata": {},
   "outputs": [
    {
     "name": "stdout",
     "output_type": "stream",
     "text": [
      "3\n",
      "4\n"
     ]
    }
   ],
   "source": [
    "# Accessing an iterator using for loop\n",
    "for i in my_iter:\n",
    "    print(i)"
   ]
  },
  {
   "cell_type": "markdown",
   "id": "6f000804-df7d-4ef4-84b2-4b84d9c4869c",
   "metadata": {},
   "source": [
    "<h4>Creating a user-defined iterator:</h4>\n",
    "<ul>\n",
    "    <li>To create an object/class as an iterator you have to implement the methods __iter__() and __next__() to your object.</li>\n",
    "    <li>The __iter__() method acts similar, you can do operations (initializing etc.), but must always return the iterator object itself.</li>\n",
    "    <li>The __next__() method also allows you to do operations, and must return the next item in the sequence.</li>\n",
    "</ul>\n",
    "<h5>e.g.,</h5>"
   ]
  },
  {
   "cell_type": "code",
   "execution_count": 28,
   "id": "1e230b28-ba92-4a62-a861-40c4afddcd89",
   "metadata": {},
   "outputs": [
    {
     "name": "stdout",
     "output_type": "stream",
     "text": [
      "<__main__.Ten object at 0x00000292346C71A0>\n",
      "1\n",
      "2\n",
      "3\n",
      "4\n",
      "5\n",
      "6\n",
      "7\n",
      "8\n",
      "9\n",
      "10\n"
     ]
    }
   ],
   "source": [
    "class Ten():\n",
    "    def __init__(self):\n",
    "        self.num = 1\n",
    "        \n",
    "    def __iter__(self):\n",
    "        return self\n",
    "    \n",
    "    def __next__(self):\n",
    "        if self.num <= 10:\n",
    "            value = self.num\n",
    "            self.num += 1\n",
    "            return value\n",
    "        else:\n",
    "            raise StopIteration # To prevent iteration from going forever, we raise the StopIteration\n",
    "\n",
    "obj = Ten()\n",
    "\n",
    "print(obj)\n",
    "     \n",
    "for i in obj:\n",
    "    print(i)"
   ]
  },
  {
   "cell_type": "markdown",
   "id": "f9300d33-7b0b-4894-ba04-7efcac4de0b4",
   "metadata": {},
   "source": [
    "<h4>Generators:</h4>\n",
    "<ul>\n",
    "    <li>A generator function in Python is a special type of function that allows you to iterate over a sequence of values. Instead of returning a single value, a generator function uses the yield keyword to produce a series of values one at a time, pausing between each one. This makes it memory-efficient and suitable for handling large datasets or infinite sequences.</li>\n",
    "</ul>"
   ]
  },
  {
   "cell_type": "code",
   "execution_count": 69,
   "id": "163d6b31-093e-4bd9-ac59-3a6b2f1b08f0",
   "metadata": {},
   "outputs": [
    {
     "data": {
      "text/plain": [
       "5"
      ]
     },
     "execution_count": 69,
     "metadata": {},
     "output_type": "execute_result"
    }
   ],
   "source": [
    "# Traditional function\n",
    "def my_func():\n",
    "    return 5\n",
    "    \n",
    "my_func()"
   ]
  },
  {
   "cell_type": "code",
   "execution_count": 89,
   "id": "d535870b-3bd5-4511-9328-7028b9b26e25",
   "metadata": {},
   "outputs": [
    {
     "name": "stdout",
     "output_type": "stream",
     "text": [
      "4\n",
      "5\n"
     ]
    }
   ],
   "source": [
    "# Generator function\n",
    "def my_generator():\n",
    "    yield 4\n",
    "    yield 5\n",
    "    yield 6\n",
    "    \n",
    "obj1 = my_generator()\n",
    "print(obj1.__next__())\n",
    "print(next(obj1))"
   ]
  },
  {
   "cell_type": "code",
   "execution_count": 91,
   "id": "a1b3f6ed-2b21-4962-8c66-71b2bc588cd1",
   "metadata": {},
   "outputs": [
    {
     "name": "stdout",
     "output_type": "stream",
     "text": [
      "6\n"
     ]
    }
   ],
   "source": [
    "# Accessing generators using for loop\n",
    "for i in obj1:\n",
    "    print(i)"
   ]
  },
  {
   "cell_type": "code",
   "execution_count": 93,
   "id": "34003fd6-69a2-421c-9d62-5cd036325bf1",
   "metadata": {},
   "outputs": [
    {
     "name": "stdout",
     "output_type": "stream",
     "text": [
      "4\n",
      "5\n",
      "6\n"
     ]
    }
   ],
   "source": [
    "# We can also loop using function name\n",
    "for i in my_generator():\n",
    "    print(i)"
   ]
  },
  {
   "cell_type": "code",
   "execution_count": 97,
   "id": "e8cbc2e2-0b5d-4bb9-a729-3f70b3c9d489",
   "metadata": {},
   "outputs": [
    {
     "name": "stdout",
     "output_type": "stream",
     "text": [
      "First String\n",
      "Second String\n",
      "Third String\n"
     ]
    },
    {
     "ename": "StopIteration",
     "evalue": "",
     "output_type": "error",
     "traceback": [
      "\u001b[1;31m---------------------------------------------------------------------------\u001b[0m",
      "\u001b[1;31mStopIteration\u001b[0m                             Traceback (most recent call last)",
      "Cell \u001b[1;32mIn[97], line 16\u001b[0m\n\u001b[0;32m     14\u001b[0m \u001b[38;5;28mprint\u001b[39m(\u001b[38;5;28mnext\u001b[39m(obj2))\n\u001b[0;32m     15\u001b[0m \u001b[38;5;28mprint\u001b[39m(\u001b[38;5;28mnext\u001b[39m(obj2))\n\u001b[1;32m---> 16\u001b[0m \u001b[38;5;28mprint\u001b[39m(\u001b[38;5;28mnext\u001b[39m(obj2))\n",
      "\u001b[1;31mStopIteration\u001b[0m: "
     ]
    }
   ],
   "source": [
    "# Multiple yields in generator function\n",
    "def multiple_yield():\n",
    "    str1 = \"First String\"\n",
    "    yield str1\n",
    "\n",
    "    str2 = \"Second String\"\n",
    "    yield str2\n",
    "\n",
    "    str3 = \"Third String\"\n",
    "    yield str3\n",
    "\n",
    "obj2 = multiple_yield()\n",
    "\n",
    "print(next(obj2))\n",
    "print(next(obj2))\n",
    "print(next(obj2))\n",
    "print(next(obj2)) # no more values to fetch"
   ]
  },
  {
   "cell_type": "code",
   "execution_count": 122,
   "id": "61039975-f29d-4a3e-877c-003defa0ee66",
   "metadata": {},
   "outputs": [
    {
     "name": "stdout",
     "output_type": "stream",
     "text": [
      "First String\n"
     ]
    },
    {
     "ename": "StopIteration",
     "evalue": "",
     "output_type": "error",
     "traceback": [
      "\u001b[1;31m---------------------------------------------------------------------------\u001b[0m",
      "\u001b[1;31mStopIteration\u001b[0m                             Traceback (most recent call last)",
      "Cell \u001b[1;32mIn[122], line 16\u001b[0m\n\u001b[0;32m     13\u001b[0m obj2 \u001b[38;5;241m=\u001b[39m multiple_yield()\n\u001b[0;32m     15\u001b[0m \u001b[38;5;28mprint\u001b[39m(\u001b[38;5;28mnext\u001b[39m(obj2))\n\u001b[1;32m---> 16\u001b[0m \u001b[38;5;28mprint\u001b[39m(\u001b[38;5;28mnext\u001b[39m(obj2))\n",
      "\u001b[1;31mStopIteration\u001b[0m: "
     ]
    }
   ],
   "source": [
    "# Flow when we use return in generator function\n",
    "def multiple_yield():\n",
    "    str1 = \"First String\"\n",
    "    yield str1\n",
    "    return # function exits when it sees the return statement\n",
    "\n",
    "    str2 = \"Second String\"\n",
    "    yield str2\n",
    "\n",
    "    str3 = \"Third String\"\n",
    "    yield str3\n",
    "\n",
    "obj2 = multiple_yield()\n",
    "\n",
    "print(next(obj2))\n",
    "print(next(obj2))"
   ]
  },
  {
   "cell_type": "code",
   "execution_count": 101,
   "id": "08b9bfad-382f-46d6-be30-632cd310a022",
   "metadata": {},
   "outputs": [
    {
     "name": "stdout",
     "output_type": "stream",
     "text": [
      "0\n",
      "2\n",
      "4\n",
      "6\n",
      "8\n"
     ]
    }
   ],
   "source": [
    "# Even Numbers\n",
    "def even_num():\n",
    "    for i in range(10):\n",
    "        if (i % 2 == 0):\n",
    "            yield i\n",
    "\n",
    "for i in even_num():\n",
    "    print(i)"
   ]
  },
  {
   "cell_type": "code",
   "execution_count": 103,
   "id": "98c6e424-c6fb-4973-b75c-30f8a57f5b11",
   "metadata": {},
   "outputs": [
    {
     "name": "stdout",
     "output_type": "stream",
     "text": [
      "1\n",
      "3\n",
      "5\n",
      "7\n",
      "9\n"
     ]
    }
   ],
   "source": [
    "# Odd Numbers\n",
    "def odd_num():\n",
    "    for i in range(10):\n",
    "        if (i % 2 != 0):\n",
    "            yield i\n",
    "\n",
    "for i in odd_num():\n",
    "    print(i)"
   ]
  },
  {
   "cell_type": "code",
   "execution_count": 113,
   "id": "3f8ce257-4a52-49ac-9d36-fd568484181d",
   "metadata": {},
   "outputs": [
    {
     "name": "stdout",
     "output_type": "stream",
     "text": [
      "1\n",
      "1\n",
      "\n",
      "1\n",
      "2\n",
      "3\n",
      "4\n",
      "5\n",
      "6\n",
      "7\n",
      "8\n",
      "9\n",
      "10\n"
     ]
    }
   ],
   "source": [
    "# Numbers from 1 to 10\n",
    "def ten_numbers():\n",
    "    n = 1\n",
    "    while  n <= 10:\n",
    "        num = n\n",
    "        yield num \n",
    "        n = n + 1\n",
    "\n",
    "print(ten_numbers().__next__())\n",
    "print(next(ten_numbers()))\n",
    "\n",
    "print()\n",
    "\n",
    "for i in ten_numbers():\n",
    "    print(i)"
   ]
  },
  {
   "cell_type": "code",
   "execution_count": 115,
   "id": "10f71443-ff6d-4646-a317-91cf7c976a96",
   "metadata": {},
   "outputs": [
    {
     "name": "stdout",
     "output_type": "stream",
     "text": [
      "1\n",
      "4\n",
      "\n",
      "9\n",
      "16\n",
      "25\n",
      "36\n",
      "49\n",
      "64\n",
      "81\n",
      "100\n"
     ]
    }
   ],
   "source": [
    "# Square numbers\n",
    "def my_squares():\n",
    "    n = 1\n",
    "    while n <= 10:\n",
    "        squares = n * n\n",
    "        yield squares\n",
    "        n = n + 1\n",
    "\n",
    "obj = my_squares()\n",
    "\n",
    "print(obj.__next__())\n",
    "print(next(obj))\n",
    "\n",
    "print()\n",
    "\n",
    "for i in obj:\n",
    "    print(i)"
   ]
  },
  {
   "cell_type": "code",
   "execution_count": 119,
   "id": "f3d7fbe9-b575-4ae8-beb8-6a138a6bc6a7",
   "metadata": {},
   "outputs": [
    {
     "name": "stdout",
     "output_type": "stream",
     "text": [
      "1\n",
      "2\n",
      "3\n",
      "5\n",
      "8\n"
     ]
    }
   ],
   "source": [
    "# Fibonacci Series using generators\n",
    "def fibonacci(max):\n",
    "    a, b = 0, 1\n",
    "    while True:\n",
    "        c = a + b\n",
    "        if c < max:\n",
    "            yield c\n",
    "            a = b\n",
    "            b = c\n",
    "        else:\n",
    "            break\n",
    "\n",
    "obj = fibonacci(10)\n",
    "print(obj.__next__())\n",
    "print(obj.__next__())\n",
    "print(obj.__next__())\n",
    "print(obj.__next__())\n",
    "print(obj.__next__())"
   ]
  },
  {
   "cell_type": "code",
   "execution_count": null,
   "id": "ae67de1f-df81-435c-bc1a-2cb1e756588c",
   "metadata": {},
   "outputs": [],
   "source": []
  }
 ],
 "metadata": {
  "kernelspec": {
   "display_name": "Python [conda env:base] *",
   "language": "python",
   "name": "conda-base-py"
  },
  "language_info": {
   "codemirror_mode": {
    "name": "ipython",
    "version": 3
   },
   "file_extension": ".py",
   "mimetype": "text/x-python",
   "name": "python",
   "nbconvert_exporter": "python",
   "pygments_lexer": "ipython3",
   "version": "3.12.7"
  }
 },
 "nbformat": 4,
 "nbformat_minor": 5
}
