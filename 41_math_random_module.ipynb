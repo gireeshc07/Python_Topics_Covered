{
 "cells": [
  {
   "cell_type": "markdown",
   "id": "a09900c8-83a3-4978-8ffd-516003f2074e",
   "metadata": {},
   "source": [
    "<img src = \"python-logo.png\" width = \"300\" height = \"300\">\n",
    "<h1>Math and Random Modules in Python</h1>"
   ]
  },
  {
   "cell_type": "markdown",
   "id": "b557110f-9bf2-4ed6-9022-da38aa55923c",
   "metadata": {},
   "source": [
    "<h4>Math Module:</h4>\n",
    "<ul>\n",
    "    <li>The math module in Python provides a wide range of mathematical functions and constants.</li>\n",
    "    <li>It's a standard module that comes with Python, so you don't need to install anything extra to use it. Here are some of the key features and functions of the math module:</li>\n",
    "</ul>"
   ]
  },
  {
   "cell_type": "code",
   "execution_count": 191,
   "id": "a79b924f-520e-4c4c-8115-1fb114ead7fb",
   "metadata": {},
   "outputs": [
    {
     "name": "stdout",
     "output_type": "stream",
     "text": [
      "8.0\n"
     ]
    }
   ],
   "source": [
    "import math\n",
    "\n",
    "# Returns the square root of x\n",
    "x = math.sqrt(64)\n",
    "print(x)"
   ]
  },
  {
   "cell_type": "code",
   "execution_count": 193,
   "id": "dcaabcd0-677e-46ed-ad69-4b004df037fa",
   "metadata": {},
   "outputs": [
    {
     "name": "stdout",
     "output_type": "stream",
     "text": [
      "2\n"
     ]
    }
   ],
   "source": [
    "# Rounds a number upwards to its nearest integer\n",
    "x = math.ceil(1.4)\n",
    "print(x)"
   ]
  },
  {
   "cell_type": "code",
   "execution_count": 195,
   "id": "3b3ff98e-98dd-4948-afc2-42acc17c8957",
   "metadata": {},
   "outputs": [
    {
     "name": "stdout",
     "output_type": "stream",
     "text": [
      "1\n"
     ]
    }
   ],
   "source": [
    "# Rounds a number dowwards to its nearest integer\n",
    "x = math.floor(1.4)\n",
    "print(x)"
   ]
  },
  {
   "cell_type": "code",
   "execution_count": 197,
   "id": "fd5ff9b8-e13d-447b-a5f5-dc175539b240",
   "metadata": {},
   "outputs": [
    {
     "name": "stdout",
     "output_type": "stream",
     "text": [
      "3.141592653589793\n"
     ]
    }
   ],
   "source": [
    "x = math.pi\n",
    "print(x)"
   ]
  },
  {
   "cell_type": "code",
   "execution_count": 199,
   "id": "3dece59a-027b-4f07-a265-427c76280db0",
   "metadata": {},
   "outputs": [
    {
     "name": "stdout",
     "output_type": "stream",
     "text": [
      "1.0\n"
     ]
    }
   ],
   "source": [
    "# Returns a remainder\n",
    "x = math.fmod(10, 3)\n",
    "print(x)"
   ]
  },
  {
   "cell_type": "code",
   "execution_count": 201,
   "id": "e9c2afd1-f4e9-4dca-8d6a-e77b940b7745",
   "metadata": {},
   "outputs": [
    {
     "name": "stdout",
     "output_type": "stream",
     "text": [
      "148.4131591025766\n"
     ]
    }
   ],
   "source": [
    "# Returns e raised to the power of x\n",
    "x = math.exp(5)\n",
    "print(x)"
   ]
  },
  {
   "cell_type": "code",
   "execution_count": 203,
   "id": "a9c3567d-7b53-4eb2-8cd3-1407f2ccbf15",
   "metadata": {},
   "outputs": [
    {
     "name": "stdout",
     "output_type": "stream",
     "text": [
      "120\n"
     ]
    }
   ],
   "source": [
    "# Returns the factorial\n",
    "x = math.factorial(5)\n",
    "print(x)"
   ]
  },
  {
   "cell_type": "markdown",
   "id": "6b1f6b54-d811-41d3-ae63-1526c6a598b6",
   "metadata": {},
   "source": [
    "<h4>Built in Math Functions:</h4>\n",
    "<ul>\n",
    "    <li>Python has a set of built-in math functions that allows you to perform mathematical tasks on numbers without importing math module.</li>\n",
    "</ul>"
   ]
  },
  {
   "cell_type": "code",
   "execution_count": 209,
   "id": "2b971026-3f28-4686-814e-305834208a88",
   "metadata": {},
   "outputs": [
    {
     "name": "stdout",
     "output_type": "stream",
     "text": [
      "5\n"
     ]
    }
   ],
   "source": [
    "# Returns the lowest value in an iterable\n",
    "x = min(5, 10, 25)\n",
    "print(x)"
   ]
  },
  {
   "cell_type": "code",
   "execution_count": 211,
   "id": "62c4ccb2-de2c-4753-9bfe-5f3bde19d6f8",
   "metadata": {},
   "outputs": [
    {
     "name": "stdout",
     "output_type": "stream",
     "text": [
      "25\n"
     ]
    }
   ],
   "source": [
    "# Returns the highest value in an iterable\n",
    "x = max(5, 10, 25)\n",
    "print(x)"
   ]
  },
  {
   "cell_type": "code",
   "execution_count": 217,
   "id": "f838ddb0-278f-4115-95dc-f83fd04f1ae8",
   "metadata": {},
   "outputs": [
    {
     "name": "stdout",
     "output_type": "stream",
     "text": [
      "7.25\n"
     ]
    }
   ],
   "source": [
    "# Returns the absolute(positive) value of the specified number\n",
    "x = abs(-7.25)\n",
    "print(x)"
   ]
  },
  {
   "cell_type": "code",
   "execution_count": 215,
   "id": "acd88d9c-347e-41b3-98a6-26db25a67175",
   "metadata": {},
   "outputs": [
    {
     "name": "stdout",
     "output_type": "stream",
     "text": [
      "64\n"
     ]
    }
   ],
   "source": [
    "# Returns the value of x to the power of y\n",
    "x = pow(4, 3)\n",
    "print(x)"
   ]
  },
  {
   "cell_type": "markdown",
   "id": "f767aa8b-2b03-4ac4-b94b-ac84a258bc56",
   "metadata": {},
   "source": [
    "<h4>Random Module:</h4>\n",
    "<ul>\n",
    "    <li>The random module in Python provides functions for generating random numbers and performing random operations.</li><li> It's a standard module that comes with Python, so you don't need to install anything extra to use it.</li>\n",
    "</ul>"
   ]
  },
  {
   "cell_type": "code",
   "execution_count": 221,
   "id": "84504bf5-fe51-4885-a78f-ea85d1bd1302",
   "metadata": {},
   "outputs": [
    {
     "name": "stdout",
     "output_type": "stream",
     "text": [
      "0.36321439005656364\n"
     ]
    }
   ],
   "source": [
    "import random\n",
    "\n",
    "# Returns a random float between 0.0 and 1.0\n",
    "a = random.random()\n",
    "print(a)"
   ]
  },
  {
   "cell_type": "code",
   "execution_count": 223,
   "id": "21da81f5-25b7-4ff1-931c-386b02f833e1",
   "metadata": {},
   "outputs": [
    {
     "name": "stdout",
     "output_type": "stream",
     "text": [
      "3.9073503910311045\n"
     ]
    }
   ],
   "source": [
    "# Returns a random float between a and b\n",
    "a = random.uniform(1, 5)\n",
    "print(a)"
   ]
  },
  {
   "cell_type": "code",
   "execution_count": 227,
   "id": "c3d99b3c-b2c2-4b4a-8e8b-694bc375d3d7",
   "metadata": {},
   "outputs": [
    {
     "name": "stdout",
     "output_type": "stream",
     "text": [
      "5\n",
      "-6\n"
     ]
    }
   ],
   "source": [
    "# Returns a random integer between a and b (inclusive)\n",
    "a = random.randint(2, 6)\n",
    "print(a)\n",
    "\n",
    "b = random.randint(-6, -2)\n",
    "print(b)"
   ]
  },
  {
   "cell_type": "code",
   "execution_count": 229,
   "id": "dc44934d-c1f7-4343-9c8f-9ce1bb37b259",
   "metadata": {},
   "outputs": [
    {
     "name": "stdout",
     "output_type": "stream",
     "text": [
      "70\n"
     ]
    }
   ],
   "source": [
    "randrange\n",
    "# Generates a random number within a specified range\n",
    "a = random.randrange(0, 100, 10)\n",
    "print(a)"
   ]
  },
  {
   "cell_type": "code",
   "execution_count": 235,
   "id": "6b0afdbc-861d-49e3-a3de-a9518b6a6816",
   "metadata": {},
   "outputs": [
    {
     "name": "stdout",
     "output_type": "stream",
     "text": [
      "4\n",
      "p\n",
      "50\n"
     ]
    }
   ],
   "source": [
    "# Returns a random element from the non-empty sequence\n",
    "my_list = [1, 2, 3, 4, 5, 6]\n",
    "print(random.choice(my_list))\n",
    "\n",
    "my_string = \"apple\"\n",
    "print(random.choice(my_string))\n",
    "\n",
    "my_tuple = (10, 20, 30, 40, 50, 60)\n",
    "print(random.choice(my_tuple))"
   ]
  },
  {
   "cell_type": "code",
   "execution_count": 241,
   "id": "1eb8c7d7-6962-4948-b378-516359d7dd53",
   "metadata": {},
   "outputs": [
    {
     "name": "stdout",
     "output_type": "stream",
     "text": [
      "[5, 1, 2]\n",
      "['p', 'e', 'a', 'l']\n",
      "[50, 60, 30, 10, 40]\n"
     ]
    }
   ],
   "source": [
    "# Returns a list of k unique random elements from the sequence seq, without replacement\n",
    "my_list = [1, 2, 3, 4, 5, 6]\n",
    "print(random.sample(my_list, 3))\n",
    "\n",
    "my_string = \"apple\"\n",
    "print(random.sample(my_string, 4))\n",
    "\n",
    "my_tuple = (10, 20, 30, 40, 50, 60)\n",
    "print(random.sample(my_tuple, 5))"
   ]
  },
  {
   "cell_type": "code",
   "execution_count": 245,
   "id": "cc2c0779-39e9-4afa-8b5f-ef6010723023",
   "metadata": {},
   "outputs": [
    {
     "name": "stdout",
     "output_type": "stream",
     "text": [
      "Original List:  [1, 2, 3, 4, 5, 6]\n",
      "Shuffled List:  [4, 6, 2, 3, 5, 1]\n"
     ]
    }
   ],
   "source": [
    "# Shuffles the sequence seq in place\n",
    "my_list = [1, 2, 3, 4, 5, 6]\n",
    "print(\"Original List: \", my_list)\n",
    "random.shuffle(my_list)\n",
    "print(\"Shuffled List: \", my_list)"
   ]
  },
  {
   "cell_type": "code",
   "execution_count": null,
   "id": "95e3bf48-f30a-48da-88cd-86f97659bf58",
   "metadata": {},
   "outputs": [],
   "source": []
  }
 ],
 "metadata": {
  "kernelspec": {
   "display_name": "Python [conda env:base] *",
   "language": "python",
   "name": "conda-base-py"
  },
  "language_info": {
   "codemirror_mode": {
    "name": "ipython",
    "version": 3
   },
   "file_extension": ".py",
   "mimetype": "text/x-python",
   "name": "python",
   "nbconvert_exporter": "python",
   "pygments_lexer": "ipython3",
   "version": "3.12.7"
  }
 },
 "nbformat": 4,
 "nbformat_minor": 5
}
