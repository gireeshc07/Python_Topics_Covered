{
 "cells": [
  {
   "cell_type": "markdown",
   "id": "89d49905-10cf-4563-88aa-1be6a6c64128",
   "metadata": {},
   "source": [
    "<img src = \"python-logo.png\" width = \"300\" height = \"300\">\n",
    "<h1>File Handling</h1>\n",
    "<ul>\n",
    "    <li>File Handling is an important part of any web application.</li>\n",
    "    <li>Python has several functions for creating, reading, updating, and deleting.</li>\n",
    "    <li>There are two types of data file:</li>\n",
    "</ul>\n",
    "<ol>\n",
    "    <li>Text File --> It contains characters(strings)</li>\n",
    "    <li>Binary File --> It contains which are other than text (e.g., images)</li>\n",
    "</ol>"
   ]
  },
  {
   "cell_type": "markdown",
   "id": "736e07e8-94fd-45ea-ac60-1d94830b8cc1",
   "metadata": {},
   "source": [
    "<h2>Text Files:</h2>\n",
    "<h4>1. Read Mode:</h4>\n",
    "<ul>\n",
    "    <li>Used to read the content.</li>\n",
    "    <li>File pointer points at the beginning of the file.</li>\n",
    "    <li>File should exist before opening in read mode if not FileNotFoundError will raise.</li>\n",
    "</ul>"
   ]
  },
  {
   "cell_type": "code",
   "execution_count": 17,
   "id": "2fb492f4-eb3d-4b5e-b62f-0ff9073a6825",
   "metadata": {},
   "outputs": [
    {
     "name": "stdout",
     "output_type": "stream",
     "text": [
      "Welcome to Python. \n",
      "Python is a wonderful program.\n",
      "Today, we are learning file handling.\n",
      "\n"
     ]
    }
   ],
   "source": [
    "file_obj = open(\"text_file1.txt\", \"r\")\n",
    "\n",
    "print(file_obj.read())\n",
    "print(file_obj.read(5))\n",
    "\n",
    "file_obj.close()"
   ]
  },
  {
   "cell_type": "code",
   "execution_count": 19,
   "id": "ef260ba0-ab14-4920-bac6-76ff36261ee8",
   "metadata": {},
   "outputs": [
    {
     "name": "stdout",
     "output_type": "stream",
     "text": [
      "Welcome to Python. \n",
      "\n",
      "Pytho\n"
     ]
    }
   ],
   "source": [
    "file_obj = open(\"text_file1.txt\", \"r\")\n",
    "\n",
    "print(file_obj.readline())\n",
    "print(file_obj.readline(5))\n",
    "\n",
    "file_obj.close()"
   ]
  },
  {
   "cell_type": "code",
   "execution_count": 21,
   "id": "11b7c464-82e1-4800-97ad-9b06b855f9e5",
   "metadata": {},
   "outputs": [
    {
     "name": "stdout",
     "output_type": "stream",
     "text": [
      "['Welcome to Python. \\n', 'Python is a wonderful program.\\n', 'Today, we are learning file handling.']\n"
     ]
    }
   ],
   "source": [
    "file_obj = open(\"text_file1.txt\", \"r\")\n",
    "\n",
    "print(file_obj.readlines())\n",
    "\n",
    "file_obj.close()"
   ]
  },
  {
   "cell_type": "code",
   "execution_count": 23,
   "id": "921affe2-6b99-4158-a378-afa3164c1d6c",
   "metadata": {},
   "outputs": [
    {
     "name": "stdout",
     "output_type": "stream",
     "text": [
      "Welcome to Python. \n",
      "\n",
      "Python is a wonderful program.\n",
      "\n",
      "Today, we are learning file handling.\n"
     ]
    }
   ],
   "source": [
    "file_obj = open(\"text_file1.txt\", \"r\")\n",
    "\n",
    "for data in file_obj:\n",
    "    print(data)\n",
    "\n",
    "file_obj.close()"
   ]
  },
  {
   "cell_type": "markdown",
   "id": "41cf774a-057e-4961-a72f-74ba3ee623c7",
   "metadata": {},
   "source": [
    "<h4>2. Write Mode:</h4>\n",
    "<ul>\n",
    "    <li>Used for writing the content.</li>\n",
    "    <li>File pointer points at the beginning of the file.</li>\n",
    "    <li>If the file exist then the file is opened and pointer points at the beginning & data will be overwritten. If the file doesn't exist then new file will be created with given file name.</li>\n",
    "</ul>"
   ]
  },
  {
   "cell_type": "code",
   "execution_count": 28,
   "id": "a599f3c4-a53e-4767-8766-cee4f892ffb9",
   "metadata": {},
   "outputs": [],
   "source": [
    "file_obj = open(\"text_file2.txt\", \"w\")\n",
    "file_obj.write(\"Hello, Python. This is my write() method\")\n",
    "file_obj.close()"
   ]
  },
  {
   "cell_type": "code",
   "execution_count": 34,
   "id": "1b2bbd18-aae9-42fa-a87c-9a1a51b5d03d",
   "metadata": {},
   "outputs": [],
   "source": [
    "my_list = [\"ckuf you Python. \", \"you are so simple.\"]\n",
    "\n",
    "file_obj = open(\"text_file2.txt\", \"w\")\n",
    "\n",
    "file_obj.writelines(my_list)\n",
    "\n",
    "file_obj.close()"
   ]
  },
  {
   "cell_type": "code",
   "execution_count": 38,
   "id": "75382bbb-14ae-4ec6-a832-c5645cb57291",
   "metadata": {},
   "outputs": [],
   "source": [
    "# my_list = [\"ckuf you Python. \", \"you are so simple.\"]\n",
    "\n",
    "# file_obj = open(\"text_file2.txt\", \"w\")\n",
    "\n",
    "# file_obj.write(my_list)\n",
    "\n",
    "# file_obj.close()\n",
    "\n",
    "# Output: TypeError: write() argument must be str, not list"
   ]
  },
  {
   "cell_type": "markdown",
   "id": "9783be23-5423-4c16-9579-90d2bd1ff59d",
   "metadata": {},
   "source": [
    "<h4>3. Append Mode:</h4>\n",
    "<ul>\n",
    "    <li>Used to append the content.</li>\n",
    "    <li>If the file exist, file pointer points at the end of the content of the file.</li>\n",
    "   <li>If the file doesn't exist then new file will be created with given file name and file pointer points at the beginning.</li>\n",
    "</ul>"
   ]
  },
  {
   "cell_type": "code",
   "execution_count": 44,
   "id": "a6c28804-77e3-46d8-b88a-fe326a8ace54",
   "metadata": {},
   "outputs": [],
   "source": [
    "my_list = [\"ckuf you Python. \", \"you are so simple.\"]\n",
    "\n",
    "file_obj = open(\"text_file2.txt\", \"a\")\n",
    "\n",
    "file_obj.writelines(my_list)\n",
    "\n",
    "file_obj.close()"
   ]
  },
  {
   "cell_type": "markdown",
   "id": "a1d7cafb-87d0-437c-9ebc-2c4cda58d3ba",
   "metadata": {},
   "source": [
    "<h4>4. Create Mode:</h4>\n",
    "<ul>\n",
    "    <li>Creates the specified file, returns an error if the file exists.</li>\n",
    "</ul>"
   ]
  },
  {
   "cell_type": "code",
   "execution_count": 51,
   "id": "06b35a3b-25a1-4b0e-bc85-821908890db6",
   "metadata": {},
   "outputs": [],
   "source": [
    "file_obj = open(\"text_file3.txt\", \"x\")\n",
    "file_obj.close()"
   ]
  },
  {
   "cell_type": "markdown",
   "id": "61ac941b-8659-41a7-a3b7-bcebc468f160",
   "metadata": {},
   "source": [
    "<h4>Loop Through Files:</h4>"
   ]
  },
  {
   "cell_type": "code",
   "execution_count": 58,
   "id": "657c2dda-98dc-4a9b-b7a8-945787ae1782",
   "metadata": {},
   "outputs": [],
   "source": [
    "file_obj1 = open(\"text_file2.txt\", \"r\")\n",
    "file_obj2 = open(\"text_file3.txt\", \"w\")\n",
    "for data in file_obj1:\n",
    "    file_obj2.write(data)\n",
    "\n",
    "file_obj1.close()\n",
    "file_obj2.close()"
   ]
  },
  {
   "cell_type": "markdown",
   "id": "3a4acf8e-ab9b-445b-b044-2c1b3de82a55",
   "metadata": {},
   "source": [
    "<h4>5. Read and Write Mode:</h4>\n",
    "<ul>\n",
    "    <li>It replaces the given data at the beginning content.</li>\n",
    "</ul>"
   ]
  },
  {
   "cell_type": "code",
   "execution_count": 72,
   "id": "ad0814ca-778f-4a56-8780-500f9e9496cc",
   "metadata": {},
   "outputs": [
    {
     "name": "stdout",
     "output_type": "stream",
     "text": [
      "0\n",
      "ckuf you Python. you are so simple.ckuf you Python. you are so simple.This is read and write mode. \n",
      "99\n",
      "128\n",
      "0\n",
      "0\n"
     ]
    }
   ],
   "source": [
    "with open(\"text_file3.txt\", \"r+\") as file_obj:\n",
    "    print(file_obj.tell())\n",
    "    print(file_obj.read())\n",
    "    print(file_obj.tell())\n",
    "    file_obj.write(\"This is read and write mode. \")\n",
    "    print(file_obj.tell())\n",
    "    print(file_obj.seek(0))\n",
    "    print(file_obj.tell())"
   ]
  },
  {
   "cell_type": "markdown",
   "id": "eecae033-31dc-4a07-9eaf-eabab69621b1",
   "metadata": {},
   "source": [
    "<h4>6. Write and Read Mode:</h4>\n",
    "<ul>\n",
    "    <li>Overwrites any existing content.</li>\n",
    "</ul>"
   ]
  },
  {
   "cell_type": "code",
   "execution_count": 77,
   "id": "169a0ae8-b4a4-420a-b441-bde1aae14cb3",
   "metadata": {},
   "outputs": [
    {
     "name": "stdout",
     "output_type": "stream",
     "text": [
      "0\n",
      "29\n",
      "\n",
      "0\n",
      "This is write and read mode. \n"
     ]
    }
   ],
   "source": [
    "with open(\"text_file3.txt\", \"w+\") as file_obj:\n",
    "    print(file_obj.tell())\n",
    "    file_obj.write(\"This is write and read mode. \")\n",
    "    print(file_obj.tell())\n",
    "    print(file_obj.read())\n",
    "    print(file_obj.seek(0))\n",
    "    print(file_obj.read())"
   ]
  },
  {
   "cell_type": "markdown",
   "id": "5235eea6-496e-4c9f-97e4-eb2ff43f3e3b",
   "metadata": {},
   "source": [
    "<h4>Binary Files:</h4>"
   ]
  },
  {
   "cell_type": "code",
   "execution_count": 97,
   "id": "ff78d9ae-0f14-4895-ac77-246bc6e2efc0",
   "metadata": {},
   "outputs": [],
   "source": [
    "binary_file1 = open(\"python-logo.png\", \"rb\")\n",
    "binary_file2 = open(\"python_logo2.png\", \"wb\")\n",
    "\n",
    "for data in binary_file1:\n",
    "    binary_file2.write(data)\n",
    "\n",
    "binary_file1.close()\n",
    "binary_file2.close()"
   ]
  },
  {
   "cell_type": "markdown",
   "id": "b0d33610-05d9-4744-bee1-f7b5a3b21aa9",
   "metadata": {},
   "source": [
    "<h4>Delete the file:</h4>"
   ]
  },
  {
   "cell_type": "code",
   "execution_count": 87,
   "id": "098d453f-906d-4c41-9ac9-59b3a123f6d5",
   "metadata": {},
   "outputs": [],
   "source": [
    "file_obj = open(\"text_file4.txt\", \"x\")\n",
    "file_obj.close()\n",
    "\n",
    "import os\n",
    "if os.path.exists(\"text_file4.txt\"):\n",
    "    os.remove(\"text_file4.txt\")\n",
    "else:\n",
    "    print(\"The file does not exist.\")"
   ]
  },
  {
   "cell_type": "code",
   "execution_count": null,
   "id": "a302e026-eef4-41a9-915a-f170fbacec93",
   "metadata": {},
   "outputs": [],
   "source": []
  }
 ],
 "metadata": {
  "kernelspec": {
   "display_name": "Python [conda env:base] *",
   "language": "python",
   "name": "conda-base-py"
  },
  "language_info": {
   "codemirror_mode": {
    "name": "ipython",
    "version": 3
   },
   "file_extension": ".py",
   "mimetype": "text/x-python",
   "name": "python",
   "nbconvert_exporter": "python",
   "pygments_lexer": "ipython3",
   "version": "3.12.7"
  }
 },
 "nbformat": 4,
 "nbformat_minor": 5
}
