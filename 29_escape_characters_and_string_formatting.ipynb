{
 "cells": [
  {
   "cell_type": "markdown",
   "id": "68755705-9250-452b-9f06-f899f3efb6a1",
   "metadata": {},
   "source": [
    "<img src = \"python-logo.png\" width = \"300\" height = \"300\">\n",
    "<h1>Escape Characters and String Formatting</h1>"
   ]
  },
  {
   "cell_type": "markdown",
   "id": "9678bd0e-d337-47d5-a4aa-c77ae7095983",
   "metadata": {},
   "source": [
    "<h4>Escape Characters:</h4>\n",
    "<ul>\n",
    "    <li>To insert characters that are illegal in a string, use an escape character.</li>\n",
    "    <li>An escape character is a backslash \\ followed by the character you want to insert.</li>\n",
    "    <li>An example of an illegal character is a double quote inside a string that is surrounded by double quotes.</li>\n",
    "</ul>"
   ]
  },
  {
   "cell_type": "code",
   "execution_count": 66,
   "id": "8890e64c-ecde-48c0-83b5-c52a8cf57c62",
   "metadata": {},
   "outputs": [],
   "source": [
    "# my_string = 'It' right.'\n",
    "# Output: SyntaxError: unterminated string literal (detected at line 1)\n",
    "\n",
    "# To fix above problem, we use escape character \\'."
   ]
  },
  {
   "cell_type": "code",
   "execution_count": 68,
   "id": "e1b2ca09-8ae6-4c32-b0f2-09734136a8aa",
   "metadata": {},
   "outputs": [
    {
     "name": "stdout",
     "output_type": "stream",
     "text": [
      "It' right.\n"
     ]
    }
   ],
   "source": [
    "my_string = 'It\\' right.'\n",
    "print(my_string)"
   ]
  },
  {
   "cell_type": "code",
   "execution_count": 70,
   "id": "2b194d49-701a-491c-a459-7771cda127b4",
   "metadata": {},
   "outputs": [
    {
     "name": "stdout",
     "output_type": "stream",
     "text": [
      "This will insert one \\(backslash).\n"
     ]
    }
   ],
   "source": [
    "my_string = \"This will insert one \\\\(backslash).\"\n",
    "print(my_string)"
   ]
  },
  {
   "cell_type": "code",
   "execution_count": 72,
   "id": "6d77dc9c-1618-447f-b666-8a700b8f16ca",
   "metadata": {},
   "outputs": [
    {
     "name": "stdout",
     "output_type": "stream",
     "text": [
      "Hello\n",
      "World!\n"
     ]
    }
   ],
   "source": [
    "my_string = \"Hello\\nWorld!\"\n",
    "print(my_string)"
   ]
  },
  {
   "cell_type": "code",
   "execution_count": 74,
   "id": "6b8fd751-390a-4b74-b4c3-eb627078aa48",
   "metadata": {},
   "outputs": [
    {
     "name": "stdout",
     "output_type": "stream",
     "text": [
      "Hello\tWorld!\n"
     ]
    }
   ],
   "source": [
    "my_string = \"Hello\\tWorld!\"\n",
    "print(my_string)"
   ]
  },
  {
   "cell_type": "code",
   "execution_count": 76,
   "id": "82ebc819-3eb8-463c-bb6d-aa8d49b582d1",
   "metadata": {},
   "outputs": [
    {
     "name": "stdout",
     "output_type": "stream",
     "text": [
      "HelloWorld!\n"
     ]
    }
   ],
   "source": [
    "my_string = \"Hello \\bWorld!\"\n",
    "print(my_string)"
   ]
  },
  {
   "cell_type": "markdown",
   "id": "9b35f5da-f092-459c-ae50-5a727816bd93",
   "metadata": {},
   "source": [
    "<h4>String Formatting:</h4>\n",
    "<ul>\n",
    "    <li>F-String was introduced in Python 3.6, and is now the preferred way of formatting strings.</li>\n",
    "    <li>Before Python 3.6 we had to use the format() method.</li>\n",
    "</ul>\n",
    "<h4>F-Strings:</h4>\n",
    "<ul>\n",
    "    <li>F-string allows you to format selected parts of a string.</li>\n",
    "    <li>To specify a string as an f-string, simply put an f in front of the string literal.</li>\n",
    "</ul>"
   ]
  },
  {
   "cell_type": "code",
   "execution_count": 79,
   "id": "e710a0ee-411a-492c-8909-c82295e93bda",
   "metadata": {},
   "outputs": [
    {
     "name": "stdout",
     "output_type": "stream",
     "text": [
      "The price is 49 dollars.\n"
     ]
    }
   ],
   "source": [
    "my_string = f\"The price is 49 dollars.\"\n",
    "print(my_string)"
   ]
  },
  {
   "cell_type": "code",
   "execution_count": 81,
   "id": "32786a6d-1554-4740-ba7f-385841f6202c",
   "metadata": {},
   "outputs": [
    {
     "name": "stdout",
     "output_type": "stream",
     "text": [
      "The price is 49 dollars.\n"
     ]
    }
   ],
   "source": [
    "# To format values in an f-string, add placeholders {}, a placeholder can contain variables, operations, functions, and modifiers to format the value.\n",
    "price = 49\n",
    "my_string = f\"The price is {price} dollars.\"\n",
    "print(my_string)"
   ]
  },
  {
   "cell_type": "code",
   "execution_count": 83,
   "id": "d114d363-441b-4adc-a60d-e3c346d9a34a",
   "metadata": {},
   "outputs": [
    {
     "name": "stdout",
     "output_type": "stream",
     "text": [
      "The price is 49.00 dollars.\n"
     ]
    }
   ],
   "source": [
    "# We can also include Modifiers\n",
    "price = 49\n",
    "my_string = f\"The price is {price:.2f} dollars.\"\n",
    "print(my_string)"
   ]
  },
  {
   "cell_type": "code",
   "execution_count": 85,
   "id": "84e631f1-0a10-4878-b27c-b6d033d2a5e7",
   "metadata": {},
   "outputs": [
    {
     "name": "stdout",
     "output_type": "stream",
     "text": [
      "The price is 98 dollars.\n"
     ]
    }
   ],
   "source": [
    "# We can perform Python Operations inside the placeholder.\n",
    "price = 49\n",
    "my_string = f\"The price is {price*2} dollars.\"\n",
    "print(my_string)"
   ]
  },
  {
   "cell_type": "code",
   "execution_count": 87,
   "id": "b06cb065-1072-4cca-89c5-6976fad08271",
   "metadata": {},
   "outputs": [
    {
     "name": "stdout",
     "output_type": "stream",
     "text": [
      "It is Cheap dollars.\n"
     ]
    }
   ],
   "source": [
    "# We can also specify the conditions \n",
    "price = 49\n",
    "my_string = f\"It is {\"Expensive\"if price > 49 else\"Cheap\"} dollars.\"\n",
    "print(my_string)"
   ]
  },
  {
   "cell_type": "code",
   "execution_count": 89,
   "id": "7e70c240-3ba8-49da-9175-8a380978273d",
   "metadata": {},
   "outputs": [
    {
     "name": "stdout",
     "output_type": "stream",
     "text": [
      "I love APPLES.\n"
     ]
    }
   ],
   "source": [
    "# We can also execute string methods inside the placeholder\n",
    "fruits = \"apples\"\n",
    "my_string = f\"I love {fruits.upper()}.\"\n",
    "print(my_string)"
   ]
  },
  {
   "cell_type": "code",
   "execution_count": 91,
   "id": "e097932e-5502-4641-a5ab-ded35d405531",
   "metadata": {},
   "outputs": [
    {
     "name": "stdout",
     "output_type": "stream",
     "text": [
      "The plane is flying at a 9144.0 meter altitude.\n"
     ]
    }
   ],
   "source": [
    "# We can also pass function calls inside the placeholder\n",
    "def my_converter(x):\n",
    "    return x * 0.3048\n",
    "\n",
    "my_string = f\"The plane is flying at a {my_converter(30000)} meter altitude.\"\n",
    "print(my_string)"
   ]
  },
  {
   "cell_type": "code",
   "execution_count": null,
   "id": "c12c0d23-2be9-4241-8d46-78f46afa49dd",
   "metadata": {},
   "outputs": [],
   "source": []
  }
 ],
 "metadata": {
  "kernelspec": {
   "display_name": "Python [conda env:base] *",
   "language": "python",
   "name": "conda-base-py"
  },
  "language_info": {
   "codemirror_mode": {
    "name": "ipython",
    "version": 3
   },
   "file_extension": ".py",
   "mimetype": "text/x-python",
   "name": "python",
   "nbconvert_exporter": "python",
   "pygments_lexer": "ipython3",
   "version": "3.12.7"
  }
 },
 "nbformat": 4,
 "nbformat_minor": 5
}
