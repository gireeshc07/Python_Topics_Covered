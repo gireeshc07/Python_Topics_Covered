{
 "cells": [
  {
   "cell_type": "markdown",
   "id": "cc1ec555-7c07-48d4-9c43-cc94c64593d4",
   "metadata": {},
   "source": [
    "<img src = \"python-logo.png\" width = \"300\" height = \"300\">\n",
    "<h1>Stings in Python</h1>\n",
    "<ul>\n",
    "    <li>In Python, string is a sequence of characters enclosed within single quotes or double quotes.</li>\n",
    "    <li>It is used to represent text data and can contain letters, numbers, symbols, and whitespace.</li>\n",
    "    <li>It has 47 built-in methods.</li>\n",
    "    <li>Ways to declare a string in Python:</li>\n",
    "</ul>\n",
    "<ol>\n",
    "    <li>Single Quotes ('string') --> Single-line</li>\n",
    "    <li>Double Quotes (\"string\") --> Single-line</li>\n",
    "    <li>Triple Quotes (\"\"\"string\"\"\") --> Multi-line</li>\n",
    "</ol>\n",
    "<ul>\n",
    "    <li>We can use quotes inside a string, as long as they don't match the quotes surrounding the string.</li>\n",
    "</ul>\n",
    "<h1>Key Characteristics:</h1>\n",
    "<ul>\n",
    "    <li>Sequence Data Type</li>\n",
    "    <li>Immutable</li>\n",
    "    <li>Unicode Support</li>\n",
    "</ul>"
   ]
  },
  {
   "cell_type": "code",
   "execution_count": 247,
   "id": "2a69717f-b2e2-487b-8878-ed8bdbf31820",
   "metadata": {},
   "outputs": [
    {
     "name": "stdout",
     "output_type": "stream",
     "text": [
      "\n",
      "0\n",
      "<class 'str'>\n"
     ]
    }
   ],
   "source": [
    "empty_string = \"\"\n",
    "print(empty_string)\n",
    "print(len(empty_string))\n",
    "print(type(empty_string))"
   ]
  },
  {
   "cell_type": "code",
   "execution_count": 249,
   "id": "973ac30d-a711-4ece-8d01-4bf7c46fc063",
   "metadata": {},
   "outputs": [
    {
     "name": "stdout",
     "output_type": "stream",
     "text": [
      "Welcome to \"Python\" world\n",
      "25\n",
      "<class 'str'>\n"
     ]
    }
   ],
   "source": [
    "my_string = 'Welcome to \"Python\" world'\n",
    "print(my_string)\n",
    "print(len(my_string))\n",
    "print(type(my_string))"
   ]
  },
  {
   "cell_type": "code",
   "execution_count": 251,
   "id": "b9174d16-978f-42a3-b42c-5f4a801a220c",
   "metadata": {},
   "outputs": [
    {
     "name": "stdout",
     "output_type": "stream",
     "text": [
      "This is Bob's dog\n"
     ]
    }
   ],
   "source": [
    "my_string = \"This is Bob's dog\"\n",
    "print(my_string)"
   ]
  },
  {
   "cell_type": "code",
   "execution_count": 253,
   "id": "ccd91c72-b747-46dd-85a8-62d1612ab5cc",
   "metadata": {},
   "outputs": [
    {
     "name": "stdout",
     "output_type": "stream",
     "text": [
      "This is Bob's \"world\"\n"
     ]
    }
   ],
   "source": [
    "my_string = 'This is Bob\\'s \"world\"'\n",
    "print(my_string)"
   ]
  },
  {
   "cell_type": "code",
   "execution_count": 255,
   "id": "b17d6c48-713c-408f-99ae-7dfc005a7833",
   "metadata": {},
   "outputs": [
    {
     "name": "stdout",
     "output_type": "stream",
     "text": [
      "Welcome to python world\n"
     ]
    }
   ],
   "source": [
    "my_string = \"Welcome \\\n",
    "to \\\n",
    "python \\\n",
    "world\"\n",
    "print(my_string)"
   ]
  },
  {
   "cell_type": "code",
   "execution_count": 257,
   "id": "85e36cf4-6128-488f-9b3e-02d4cef2176e",
   "metadata": {},
   "outputs": [
    {
     "name": "stdout",
     "output_type": "stream",
     "text": [
      "\n",
      "Wecome\n",
      "to\n",
      "Python\n",
      "World\n",
      "\n"
     ]
    }
   ],
   "source": [
    "my_string = \"\"\"\n",
    "Wecome\n",
    "to\n",
    "Python\n",
    "World\n",
    "\"\"\"\n",
    "print(my_string)"
   ]
  },
  {
   "cell_type": "code",
   "execution_count": 259,
   "id": "11e0fe77-cadd-4c76-9c86-f70fcaffd8fd",
   "metadata": {},
   "outputs": [
    {
     "name": "stdout",
     "output_type": "stream",
     "text": [
      "a\n",
      "a\n",
      "a\n"
     ]
    }
   ],
   "source": [
    "my_string1 = 'a'\n",
    "my_string2 = \"a\"\n",
    "my_string3 = \"\"\"a\"\"\"\n",
    "print(my_string1)\n",
    "print(my_string2)\n",
    "print(my_string3)"
   ]
  },
  {
   "cell_type": "code",
   "execution_count": 261,
   "id": "751b3190-9986-481e-9ab2-11692addf2c4",
   "metadata": {},
   "outputs": [
    {
     "name": "stdout",
     "output_type": "stream",
     "text": [
      "This is Bob's dog\n",
      "c:\\users\\techie\\documents\n"
     ]
    }
   ],
   "source": [
    "raw_string1 = r\"This is Bob's dog\"\n",
    "raw_string2 = r\"c:\\users\\techie\\documents\"\n",
    "print(raw_string1)\n",
    "print(raw_string2)"
   ]
  },
  {
   "cell_type": "code",
   "execution_count": 263,
   "id": "0ce847fb-7a02-4f4e-988a-135118593746",
   "metadata": {},
   "outputs": [
    {
     "name": "stdout",
     "output_type": "stream",
     "text": [
      "Hello, ☺\n",
      "Unicode Star:🌟\n",
      "Smiley:☺\n",
      "Star:🌟\n",
      "Smiley Face with Smiley Eyes:😊\n"
     ]
    }
   ],
   "source": [
    "# Unicode Characters in a string using several methods:\n",
    "my_string1 = \"Hello, \\u263A\"\n",
    "print(my_string1)\n",
    "my_string2 = \"Unicode Star:\\U0001F31F\"\n",
    "print(my_string2)\n",
    "my_string3 = \"Smiley:\" + chr(0x263A)\n",
    "print(my_string3)\n",
    "my_string4 = \"Star:\" + chr(0x1F31F)\n",
    "print(my_string4)\n",
    "my_string5 = \"Smiley Face with Smiley Eyes:\" + chr(128522)\n",
    "print(my_string5)"
   ]
  },
  {
   "cell_type": "code",
   "execution_count": 265,
   "id": "b942d621-7b7a-4845-a266-c22235d105b0",
   "metadata": {},
   "outputs": [
    {
     "name": "stdout",
     "output_type": "stream",
     "text": [
      "Hello World!\n",
      "2771034706416\n",
      "hello World!\n",
      "2771034705264\n"
     ]
    }
   ],
   "source": [
    "my_string = \"Hello World!\"\n",
    "print(my_string)\n",
    "print(id(my_string))\n",
    "# my_string[0] = \"h\"\n",
    "# TypeError: 'str' object does not support item assignment\n",
    "my_string = \"h\" + my_string[1:]\n",
    "print(my_string)\n",
    "print(id(my_string))"
   ]
  },
  {
   "cell_type": "code",
   "execution_count": 267,
   "id": "d102db37-b467-452c-9018-cb4c8d9f0e70",
   "metadata": {},
   "outputs": [
    {
     "name": "stdout",
     "output_type": "stream",
     "text": [
      "True\n",
      "False\n"
     ]
    }
   ],
   "source": [
    "# Membership Testing\n",
    "my_string = \"The best things in life are free!\"\n",
    "print(\"free\" in my_string)\n",
    "print(\"expense\" in my_string)"
   ]
  },
  {
   "cell_type": "code",
   "execution_count": 269,
   "id": "25fef4fa-8c3a-4acc-9a01-e4ab3699ef9d",
   "metadata": {},
   "outputs": [
    {
     "name": "stdout",
     "output_type": "stream",
     "text": [
      "s t r i n g "
     ]
    }
   ],
   "source": [
    "# looping strings\n",
    "for i in \"string\":\n",
    "    print(i, end = \" \")"
   ]
  },
  {
   "cell_type": "code",
   "execution_count": 271,
   "id": "b8fff62e-bdd2-4da1-821e-c1eebf3b1b5a",
   "metadata": {},
   "outputs": [
    {
     "name": "stdout",
     "output_type": "stream",
     "text": [
      "hello world\n",
      "hello hello hello \n"
     ]
    }
   ],
   "source": [
    "# Concatenation and Repetition\n",
    "my_string1 = \"hello \"\n",
    "my_string2 = \"world\"\n",
    "print(my_string1 + my_string2)\n",
    "print(my_string1 * 3)"
   ]
  },
  {
   "cell_type": "code",
   "execution_count": 273,
   "id": "34da4a39-1187-47c6-8e25-b8da5bb4e38d",
   "metadata": {},
   "outputs": [
    {
     "name": "stdout",
     "output_type": "stream",
     "text": [
      "h\n",
      "l\n",
      "d\n",
      "w\n"
     ]
    }
   ],
   "source": [
    "# String Indexing\n",
    "my_string = \"hello world\"\n",
    "print(my_string[0])\n",
    "print(my_string[3])\n",
    "print(my_string[-1])\n",
    "print(my_string[-5])"
   ]
  },
  {
   "cell_type": "code",
   "execution_count": 275,
   "id": "c20c3e03-acbb-4c0b-a808-b8677dbb6b38",
   "metadata": {},
   "outputs": [
    {
     "name": "stdout",
     "output_type": "stream",
     "text": [
      "hello world\n",
      "hel\n",
      "dlr\n",
      "worl\n"
     ]
    }
   ],
   "source": [
    "# String Slicing\n",
    "my_string = \"hello world\"\n",
    "print(my_string[0:])\n",
    "print(my_string[0:3])\n",
    "print(my_string[-1:-4:-1])\n",
    "print(my_string[-5:-1])"
   ]
  },
  {
   "cell_type": "code",
   "execution_count": 277,
   "id": "9ceff15a-f13c-442e-9af0-c3b05cb12819",
   "metadata": {},
   "outputs": [
    {
     "name": "stdout",
     "output_type": "stream",
     "text": [
      "Positive index of 'o' is 4\n",
      "Negative index of 'o' is -2\n"
     ]
    }
   ],
   "source": [
    "# Find the positive and negative indices\n",
    "my_string = \"Python\"\n",
    "char = \"o\"\n",
    "positive_index = my_string.index(char)\n",
    "negative_index = positive_index - len(my_string)\n",
    "print(f\"Positive index of '{char}' is {positive_index}\")\n",
    "print(f\"Negative index of '{char}' is {negative_index}\") "
   ]
  },
  {
   "cell_type": "code",
   "execution_count": 279,
   "id": "77d285bf-2894-4e43-90a4-e1a4114803dc",
   "metadata": {},
   "outputs": [
    {
     "name": "stdout",
     "output_type": "stream",
     "text": [
      "Welcome\n"
     ]
    }
   ],
   "source": [
    "# String built-in methods\n",
    "# 1. string.capitalize()\n",
    "\n",
    "my_string = \"welcome\"\n",
    "print(my_string.capitalize())"
   ]
  },
  {
   "cell_type": "code",
   "execution_count": 281,
   "id": "465fdbdd-21ba-4101-9700-33ab3d305eca",
   "metadata": {},
   "outputs": [
    {
     "name": "stdout",
     "output_type": "stream",
     "text": [
      "hello, and welcome to my world!\n"
     ]
    }
   ],
   "source": [
    "# 2. string.casefold()\n",
    "\n",
    "my_string = \"Hello, And Welcome To My World!\"\n",
    "print(my_string.casefold())"
   ]
  },
  {
   "cell_type": "code",
   "execution_count": 283,
   "id": "1763e3dc-a337-4e04-a947-50ea0622015d",
   "metadata": {},
   "outputs": [
    {
     "name": "stdout",
     "output_type": "stream",
     "text": [
      "1\n",
      "8\n",
      "13\n",
      "-1\n",
      "13\n"
     ]
    }
   ],
   "source": [
    "# 3. string.find(value, start, end)\n",
    "\n",
    "my_string = \"Hello, welcome to my world\"\n",
    "print(my_string.find(\"e\"))\n",
    "print(my_string.find(\"e\", 2))\n",
    "print(my_string.find(\"e\", 9, 26))\n",
    "print(my_string.find(\"q\"))\n",
    "\n",
    "# 4. string.find(value, start, end)\n",
    "print(my_string.rfind(\"e\"))"
   ]
  },
  {
   "cell_type": "code",
   "execution_count": 285,
   "id": "c980f85c-3f8d-481e-813d-7fcbf04f1c05",
   "metadata": {},
   "outputs": [
    {
     "name": "stdout",
     "output_type": "stream",
     "text": [
      "1\n",
      "13\n"
     ]
    }
   ],
   "source": [
    "# 5. string.index(value, start, end)\n",
    "my_string = \"Hello, welcome to my world.\"\n",
    "print(my_string.index(\"e\"))\n",
    "# print(my_string.index(\"q\"))\n",
    "# ValueError: substring not found\n",
    "\n",
    "# 6. string.find(value, start, end)\n",
    "print(my_string.rindex(\"e\"))"
   ]
  },
  {
   "cell_type": "code",
   "execution_count": 287,
   "id": "0096c25b-a313-4384-b960-7fd621c9c36d",
   "metadata": {},
   "outputs": [
    {
     "name": "stdout",
     "output_type": "stream",
     "text": [
      "2\n",
      "1\n"
     ]
    }
   ],
   "source": [
    "# 7. string.count(value, start, end)\n",
    "\n",
    "my_string = \"I love apples, apple is my favorite fruit\"\n",
    "print(my_string.count(\"apple\"))\n",
    "print(my_string.count(\"apple\", 10, 24))"
   ]
  },
  {
   "cell_type": "code",
   "execution_count": 289,
   "id": "3d530040-d093-4d90-ada3-a0d740c3cd7b",
   "metadata": {},
   "outputs": [
    {
     "name": "stdout",
     "output_type": "stream",
     "text": [
      "APPLE\n"
     ]
    }
   ],
   "source": [
    "# 8. string.upper()\n",
    "\n",
    "my_string = \"apple\"\n",
    "print(my_string.upper())"
   ]
  },
  {
   "cell_type": "code",
   "execution_count": 291,
   "id": "cdc4c36d-30e5-491d-a18b-88cbcc2c2d26",
   "metadata": {},
   "outputs": [
    {
     "name": "stdout",
     "output_type": "stream",
     "text": [
      "apple\n"
     ]
    }
   ],
   "source": [
    "# 9. string.lower()\n",
    "\n",
    "my_string = \"APPLE\"\n",
    "print(my_string.lower())"
   ]
  },
  {
   "cell_type": "code",
   "execution_count": 293,
   "id": "6f8d3a91-9a66-4463-b7e0-951d8a5a7b14",
   "metadata": {},
   "outputs": [
    {
     "name": "stdout",
     "output_type": "stream",
     "text": [
      "aapPLLeE\n"
     ]
    }
   ],
   "source": [
    "# 10. string.swapcase()\n",
    "\n",
    "my_string = \"AAPpllEe\"\n",
    "print(my_string.swapcase())"
   ]
  },
  {
   "cell_type": "code",
   "execution_count": 295,
   "id": "0ce1ec39-8709-47a5-aafa-a768182fbb62",
   "metadata": {},
   "outputs": [
    {
     "name": "stdout",
     "output_type": "stream",
     "text": [
      "welcome to python\n",
      "WELCOME TO PYTHON\n",
      "weLcOMe TO pytHON\n",
      "Welcome To Python\n"
     ]
    }
   ],
   "source": [
    "# 11. string.title()\n",
    "\n",
    "my_string = \"WElComE to PYThon\"\n",
    "print(my_string.lower())\n",
    "print(my_string.upper())\n",
    "print(my_string.swapcase())\n",
    "print(my_string.title())"
   ]
  },
  {
   "cell_type": "code",
   "execution_count": 297,
   "id": "b8340e5d-aed6-49b4-9c3e-d2537edef205",
   "metadata": {},
   "outputs": [
    {
     "name": "stdout",
     "output_type": "stream",
     "text": [
      "False\n"
     ]
    }
   ],
   "source": [
    "# 12. string.islower()\n",
    "my_string = \"Welcome to Python\"\n",
    "print(my_string.islower())"
   ]
  },
  {
   "cell_type": "code",
   "execution_count": 299,
   "id": "107ba848-8a5b-4a5e-8d74-9f7b89d0be5d",
   "metadata": {},
   "outputs": [
    {
     "name": "stdout",
     "output_type": "stream",
     "text": [
      "False\n"
     ]
    }
   ],
   "source": [
    "# 13. string.isupper()\n",
    "\n",
    "my_string = \"Welcome to Python\"\n",
    "print(my_string.isupper())"
   ]
  },
  {
   "cell_type": "code",
   "execution_count": 301,
   "id": "2e4b3ff3-ede6-49d8-82e0-24bdd5c9df1c",
   "metadata": {},
   "outputs": [
    {
     "name": "stdout",
     "output_type": "stream",
     "text": [
      "False\n"
     ]
    }
   ],
   "source": [
    "# 14. string.istitle()\n",
    "\n",
    "my_string = \"Welcome to Python\"\n",
    "print(my_string.istitle())"
   ]
  },
  {
   "cell_type": "code",
   "execution_count": 303,
   "id": "27a3e693-3ffc-4c7e-80ab-6728b3414470",
   "metadata": {},
   "outputs": [
    {
     "name": "stdout",
     "output_type": "stream",
     "text": [
      "True\n"
     ]
    }
   ],
   "source": [
    "# 15. string.isalpha()\n",
    "\n",
    "my_string = \"WelcometoPython\"\n",
    "print(my_string.isalpha())"
   ]
  },
  {
   "cell_type": "code",
   "execution_count": 305,
   "id": "ac341bd8-3389-47d4-92e3-da7bd8888442",
   "metadata": {},
   "outputs": [
    {
     "name": "stdout",
     "output_type": "stream",
     "text": [
      "True\n"
     ]
    }
   ],
   "source": [
    "# 16. string.isnumeric()\n",
    "\n",
    "my_string = \"2345\"\n",
    "print(my_string.isnumeric())"
   ]
  },
  {
   "cell_type": "code",
   "execution_count": 307,
   "id": "57093b07-a7b7-41ac-96c6-976588951986",
   "metadata": {},
   "outputs": [
    {
     "name": "stdout",
     "output_type": "stream",
     "text": [
      "True\n"
     ]
    }
   ],
   "source": [
    "# 17. string.isalnum()\n",
    "\n",
    "my_string = \"WelcometoPython2345\"\n",
    "print(my_string.isalnum())"
   ]
  },
  {
   "cell_type": "code",
   "execution_count": 309,
   "id": "c03022a8-e35c-49b0-bcdb-4901141a06b8",
   "metadata": {},
   "outputs": [
    {
     "name": "stdout",
     "output_type": "stream",
     "text": [
      "True\n"
     ]
    }
   ],
   "source": [
    "# 18. string.isdigit()\n",
    "\n",
    "my_string = \"12335\"\n",
    "print(my_string.isdigit())"
   ]
  },
  {
   "cell_type": "code",
   "execution_count": 311,
   "id": "f2719f22-3e22-4400-830a-a7a1cc0b46e5",
   "metadata": {},
   "outputs": [
    {
     "name": "stdout",
     "output_type": "stream",
     "text": [
      "False\n",
      "True\n",
      "True\n"
     ]
    }
   ],
   "source": [
    "# 19. string.isdecimal()\n",
    "\n",
    "my_string = \"-1\"\n",
    "print(my_string.isdecimal())\n",
    "\n",
    "my_string = \"1\"\n",
    "print(my_string.isdecimal())\n",
    "\n",
    "my_string = \"\\u0030\"\n",
    "print(my_string.isdecimal())"
   ]
  },
  {
   "cell_type": "code",
   "execution_count": 313,
   "id": "250bd7c0-ba39-4cbc-a280-ee1b5e289c3d",
   "metadata": {},
   "outputs": [
    {
     "name": "stdout",
     "output_type": "stream",
     "text": [
      "True\n",
      "False\n"
     ]
    }
   ],
   "source": [
    "# 20. string.isspace()\n",
    "\n",
    "my_string = \" \"\n",
    "print(my_string.isspace())\n",
    "\n",
    "my_string = \"q b\"\n",
    "print(my_string.isspace())"
   ]
  },
  {
   "cell_type": "code",
   "execution_count": 315,
   "id": "27328cf9-9d40-4d54-9419-4f9aa1cd129b",
   "metadata": {},
   "outputs": [
    {
     "name": "stdout",
     "output_type": "stream",
     "text": [
      "True\n"
     ]
    }
   ],
   "source": [
    "# 21. string.isidentifier() \n",
    "\n",
    "my_string = \"my_string\"\n",
    "print(my_string.isidentifier())"
   ]
  },
  {
   "cell_type": "code",
   "execution_count": 317,
   "id": "e5ceb0bd-3376-4cca-aac3-eac4571fed06",
   "metadata": {},
   "outputs": [
    {
     "name": "stdout",
     "output_type": "stream",
     "text": [
      "banana\n"
     ]
    }
   ],
   "source": [
    "# 22. string.strip(charcters)\n",
    "\n",
    "my_string = \",,,,rrrttgg.....banana....rrr\"\n",
    "print(my_string.strip(\",.grt\"))"
   ]
  },
  {
   "cell_type": "code",
   "execution_count": 319,
   "id": "1ae31885-ba77-41eb-88d6-b32af3bdd935",
   "metadata": {},
   "outputs": [
    {
     "name": "stdout",
     "output_type": "stream",
     "text": [
      ",,,,rrrttgg.....banana\n"
     ]
    }
   ],
   "source": [
    "# 23. string.rstrip(characters)\n",
    "\n",
    "my_string = \",,,,rrrttgg.....banana....rrr\"\n",
    "print(my_string.rstrip(\",.grt\"))"
   ]
  },
  {
   "cell_type": "code",
   "execution_count": 321,
   "id": "e9870275-1a59-4d1d-aef5-1e2d5622fb46",
   "metadata": {},
   "outputs": [
    {
     "name": "stdout",
     "output_type": "stream",
     "text": [
      "banana....rrr\n"
     ]
    }
   ],
   "source": [
    "# 23. string.lstrip(characters)\n",
    "\n",
    "my_string = \",,,,rrrttgg.....banana....rrr\"\n",
    "print(my_string.lstrip(\",.grt\"))"
   ]
  },
  {
   "cell_type": "code",
   "execution_count": 323,
   "id": "13523a10-e2ee-4baa-9b58-843141626771",
   "metadata": {},
   "outputs": [
    {
     "name": "stdout",
     "output_type": "stream",
     "text": [
      "  Python  \n",
      "$$Python$$\n"
     ]
    }
   ],
   "source": [
    "# 25. string.center(length, character)\n",
    "\n",
    "my_string = \"Python\"\n",
    "print(my_string.center(10))\n",
    "print(my_string.center(10, \"$\"))"
   ]
  },
  {
   "cell_type": "code",
   "execution_count": 325,
   "id": "8407d0ef-d716-4f92-a801-5453e45ae20b",
   "metadata": {},
   "outputs": [
    {
     "name": "stdout",
     "output_type": "stream",
     "text": [
      "Python    \n",
      "Python$$$$\n"
     ]
    }
   ],
   "source": [
    "# 26. string.ljust(length, character)\n",
    "\n",
    "my_string = \"Python\"\n",
    "print(my_string.ljust(10))\n",
    "print(my_string.ljust(10, \"$\"))"
   ]
  },
  {
   "cell_type": "code",
   "execution_count": 327,
   "id": "a79f8fe4-1352-4c2b-8e42-08375ea4aa14",
   "metadata": {},
   "outputs": [
    {
     "name": "stdout",
     "output_type": "stream",
     "text": [
      "    Python\n",
      "$$$$Python\n"
     ]
    }
   ],
   "source": [
    "# 27. string.rjust(length, character)\n",
    "\n",
    "my_string = \"Python\"\n",
    "print(my_string.rjust(10))\n",
    "print(my_string.rjust(10, \"$\"))"
   ]
  },
  {
   "cell_type": "code",
   "execution_count": 329,
   "id": "81375449-09aa-47f2-80b9-9f98410c4b29",
   "metadata": {},
   "outputs": [
    {
     "name": "stdout",
     "output_type": "stream",
     "text": [
      "0000Python\n"
     ]
    }
   ],
   "source": [
    "# 28. string.zfill(len)\n",
    "\n",
    "my_string = \"Python\"\n",
    "print(my_string.zfill(10))"
   ]
  },
  {
   "cell_type": "code",
   "execution_count": 331,
   "id": "512ca8a7-050f-4b77-9bb4-8a1cc2fb2777",
   "metadata": {},
   "outputs": [
    {
     "name": "stdout",
     "output_type": "stream",
     "text": [
      "True\n"
     ]
    }
   ],
   "source": [
    "# 29. string.startswith()\n",
    "\n",
    "my_string = \"Python\"\n",
    "print(my_string.startswith(\"P\"))"
   ]
  },
  {
   "cell_type": "code",
   "execution_count": 333,
   "id": "bfbd61d4-4a3e-47db-81d1-80ceb10af27d",
   "metadata": {},
   "outputs": [
    {
     "name": "stdout",
     "output_type": "stream",
     "text": [
      "True\n"
     ]
    }
   ],
   "source": [
    "# 30. string.endswith()\n",
    "\n",
    "my_string = \"Python\"\n",
    "print(my_string.endswith(\"n\"))"
   ]
  },
  {
   "cell_type": "code",
   "execution_count": 335,
   "id": "ee909743-5e67-416e-865e-fc6f3f252948",
   "metadata": {},
   "outputs": [
    {
     "name": "stdout",
     "output_type": "stream",
     "text": [
      "i love dogs\n"
     ]
    }
   ],
   "source": [
    "# 31. string.replace(old value, new value, count)\n",
    "\n",
    "my_string = \"i like dogs\"\n",
    "print(my_string.replace(\"like\", \"love\"))"
   ]
  },
  {
   "cell_type": "code",
   "execution_count": 337,
   "id": "135afe7e-01c2-4e04-a891-a2a601b64e38",
   "metadata": {},
   "outputs": [
    {
     "name": "stdout",
     "output_type": "stream",
     "text": [
      "['i', 'like', 'dogs']\n"
     ]
    }
   ],
   "source": [
    "# 32. string.split(separator, maxsplit)\n",
    "\n",
    "my_string = \"i like dogs\"\n",
    "print(my_string.split())"
   ]
  },
  {
   "cell_type": "code",
   "execution_count": 339,
   "id": "3a385c1c-68c2-4d87-9b40-0d97a0647ce2",
   "metadata": {},
   "outputs": [
    {
     "name": "stdout",
     "output_type": "stream",
     "text": [
      "['i', 'like', 'dogs']\n"
     ]
    }
   ],
   "source": [
    "# 33. string.rsplit(separator, maxsplit)\n",
    "\n",
    "my_string = \"i like dogs\"\n",
    "print(my_string.rsplit())"
   ]
  },
  {
   "cell_type": "code",
   "execution_count": 341,
   "id": "906cfcd5-4b82-45cf-9e65-3f53fe9002d8",
   "metadata": {},
   "outputs": [
    {
     "name": "stdout",
     "output_type": "stream",
     "text": [
      "['i like dogs']\n"
     ]
    }
   ],
   "source": [
    "# 34. string.splitlines(False/True)\n",
    "\n",
    "my_string = \"i like dogs\"\n",
    "print(my_string.splitlines())"
   ]
  },
  {
   "cell_type": "code",
   "execution_count": 343,
   "id": "f78d87cb-9754-49ff-84ab-d0085abdf5ef",
   "metadata": {},
   "outputs": [
    {
     "name": "stdout",
     "output_type": "stream",
     "text": [
      "John#Peter#Vicky\n"
     ]
    }
   ],
   "source": [
    "# 35. separator.join(iterable)\n",
    "\n",
    "my_tuple = (\"John\", \"Peter\", \"Vicky\")\n",
    "print(\"#\".join(my_tuple))"
   ]
  },
  {
   "cell_type": "code",
   "execution_count": 345,
   "id": "0c5c6c1d-0ee6-4041-8758-dcefadf48d01",
   "metadata": {},
   "outputs": [
    {
     "name": "stdout",
     "output_type": "stream",
     "text": [
      "My name is gireesh, I am 36\n"
     ]
    }
   ],
   "source": [
    "# 36. string.format(value1, value2)\n",
    "\n",
    "age = 36\n",
    "# my_string = \"My name is gireesh, I am\" + age\n",
    "# print(my_string)\n",
    "# TypeError: can only concatenate str (not \"int\") to str\n",
    "\n",
    "my_string = \"My name is gireesh, I am {}\".format(age)\n",
    "print(my_string)"
   ]
  },
  {
   "cell_type": "code",
   "execution_count": null,
   "id": "fa4709d4-1c3d-4131-984f-e6b6c490720f",
   "metadata": {},
   "outputs": [],
   "source": []
  }
 ],
 "metadata": {
  "kernelspec": {
   "display_name": "Python [conda env:base] *",
   "language": "python",
   "name": "conda-base-py"
  },
  "language_info": {
   "codemirror_mode": {
    "name": "ipython",
    "version": 3
   },
   "file_extension": ".py",
   "mimetype": "text/x-python",
   "name": "python",
   "nbconvert_exporter": "python",
   "pygments_lexer": "ipython3",
   "version": "3.12.7"
  }
 },
 "nbformat": 4,
 "nbformat_minor": 5
}
