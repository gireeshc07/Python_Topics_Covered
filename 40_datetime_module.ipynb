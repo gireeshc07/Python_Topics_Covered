{
 "cells": [
  {
   "cell_type": "markdown",
   "id": "9a94824b-a873-403b-97d5-2aae8c7ecdb4",
   "metadata": {},
   "source": [
    "<img src = \"python-logo.png\" width = \"300\" height = \"300\">\n",
    "<h1>Datetime Module in Python</h1>\n",
    "<ul>\n",
    "    <li>The datetime module in Python provides classes for manipulating dates and times.</li>\n",
    "    <li>It includes several classes, such as date, time, datetime, timedelta, and tzinfo, which allow you to work with dates and times in a variety of ways.</li>\n",
    "</ul>"
   ]
  },
  {
   "cell_type": "markdown",
   "id": "c2c03758-b1f5-4823-add1-2e10c70c0e65",
   "metadata": {},
   "source": [
    "<h4>1. date: Represents a date (year, month, and day)</h4>"
   ]
  },
  {
   "cell_type": "code",
   "execution_count": 143,
   "id": "795a6cf6-b522-4f2e-992d-ed44a277bfaa",
   "metadata": {},
   "outputs": [
    {
     "name": "stdout",
     "output_type": "stream",
     "text": [
      "Today's date is 2025-02-02\n",
      "Current Year: 2025\n",
      "Current Month: 2\n",
      "Current Day: 2\n"
     ]
    }
   ],
   "source": [
    "from datetime import date\n",
    "\n",
    "today_date = date.today()\n",
    "\n",
    "print(f\"Today's date is {today_date}\")\n",
    "print(f\"Current Year: {today_date.year}\")\n",
    "print(f\"Current Month: {today_date.month}\")\n",
    "print(f\"Current Day: {today_date.day}\")"
   ]
  },
  {
   "cell_type": "markdown",
   "id": "b9792754-f1a9-4ddd-bcfb-4384b2dc3161",
   "metadata": {},
   "source": [
    "<h4>2. time: Represents a time (hour, minute, second, microsecond)</h4>"
   ]
  },
  {
   "cell_type": "code",
   "execution_count": 92,
   "id": "702895a3-01fa-4f7c-ae9c-cbaf9d84425f",
   "metadata": {},
   "outputs": [
    {
     "name": "stdout",
     "output_type": "stream",
     "text": [
      "Current Time Without Formatting: time.struct_time(tm_year=2025, tm_mon=2, tm_mday=2, tm_hour=6, tm_min=33, tm_sec=40, tm_wday=6, tm_yday=33, tm_isdst=0)\n",
      "Current Time With Formatting: 06:33:40\n"
     ]
    }
   ],
   "source": [
    "import time\n",
    "\n",
    "my_time = time.localtime()\n",
    "print(f\"Current Time Without Formatting: {my_time}\")\n",
    "\n",
    "current_time = time.strftime(\"%H:%M:%S\", my_time)\n",
    "print(f\"Current Time With Formatting: {current_time}\")"
   ]
  },
  {
   "cell_type": "markdown",
   "id": "3c03598a-1d31-4eb6-b91f-fea880137089",
   "metadata": {},
   "source": [
    "<h4>3. datetime: Combines date and time into a single object</h4>"
   ]
  },
  {
   "cell_type": "code",
   "execution_count": 84,
   "id": "cf6d629f-a1af-4b73-a26a-aa9cdfd41138",
   "metadata": {},
   "outputs": [
    {
     "name": "stdout",
     "output_type": "stream",
     "text": [
      "Today's Date and Time is 2025-02-02 06:33:38.202584\n",
      "Current Year: 2025\n",
      "Current Month: 2\n",
      "Current Day: 2\n",
      "Current Hour: 6\n",
      "Current Minute: 33\n",
      "Current Second: 38\n",
      "Current Microsecond: 202584\n"
     ]
    }
   ],
   "source": [
    "from datetime import datetime\n",
    "\n",
    "my_datetime = datetime.now()\n",
    "print(f\"Today's Date and Time is {my_datetime}\")\n",
    "print(f\"Current Year: {my_datetime.year}\")\n",
    "print(f\"Current Month: {my_datetime.month}\")\n",
    "print(f\"Current Day: {my_datetime.day}\")\n",
    "print(f\"Current Hour: {my_datetime.hour}\")\n",
    "print(f\"Current Minute: {my_datetime.minute}\")\n",
    "print(f\"Current Second: {my_datetime.second}\")\n",
    "print(f\"Current Microsecond: {my_datetime.microsecond}\")"
   ]
  },
  {
   "cell_type": "code",
   "execution_count": 86,
   "id": "96a25c8b-8f0b-4145-8b4c-0746b10823d4",
   "metadata": {},
   "outputs": [
    {
     "data": {
      "text/plain": [
       "datetime.datetime(2025, 2, 2, 6, 2, 30)"
      ]
     },
     "execution_count": 86,
     "metadata": {},
     "output_type": "execute_result"
    }
   ],
   "source": [
    "my_datetime = datetime(2025, 2, 2, 6, 2, 30)\n",
    "my_datetime"
   ]
  },
  {
   "cell_type": "code",
   "execution_count": 88,
   "id": "de2e3836-72af-4f1d-a0cd-6cf5b17290d2",
   "metadata": {},
   "outputs": [
    {
     "data": {
      "text/plain": [
       "datetime.datetime(2025, 2, 2, 0, 0)"
      ]
     },
     "execution_count": 88,
     "metadata": {},
     "output_type": "execute_result"
    }
   ],
   "source": [
    "my_datetime = datetime(2025, 2, 2)\n",
    "my_datetime"
   ]
  },
  {
   "cell_type": "markdown",
   "id": "468f5ca1-b4af-406e-80e7-f6350f4eaebb",
   "metadata": {},
   "source": [
    "<h4>4. timedelta class:</h4>\n",
    "<ul>\n",
    "    <li>The timedelta class in Python's datetime module represents the difference between two dates or times.</li>\n",
    "    <li>It allows you to perform arithmetic operations on dates and times, such as adding or subtracting a specific duration.</li>\n",
    "</ul>"
   ]
  },
  {
   "cell_type": "code",
   "execution_count": 94,
   "id": "cc90b48c-49da-43db-92c9-95e1241d2420",
   "metadata": {},
   "outputs": [
    {
     "name": "stdout",
     "output_type": "stream",
     "text": [
      "Today's date is 2025-02-02 06:33:40.231607\n",
      "Yesterday's date is 2025-02-01 06:33:40.231607\n",
      "Tomorrow's date is 2025-02-03 06:33:40.231607\n",
      "The Day after 10 days is 2025-02-12 06:33:40.231607\n",
      "The Day Before 10 days is 2025-01-23 06:33:40.231607\n",
      "The difference b/w dates is 10 days, 0:00:00\n"
     ]
    }
   ],
   "source": [
    "from datetime import datetime, timedelta\n",
    "\n",
    "today_date = datetime.now()\n",
    "print(f\"Today's date is {today_date}\")\n",
    "\n",
    "yesterday_date = today_date - timedelta(days = 1)\n",
    "print(f\"Yesterday's date is {yesterday_date}\")\n",
    "\n",
    "tomorrow_day = today_date + timedelta(days = 1)\n",
    "print(f\"Tomorrow's date is {tomorrow_day}\")\n",
    "\n",
    "day_after_10days = today_date + timedelta(days = 10)\n",
    "print(f\"The Day after 10 days is {day_after_10days}\")\n",
    "\n",
    "day_before_10days = today_date - timedelta(days = 10)\n",
    "print(f\"The Day Before 10 days is {day_before_10days}\")\n",
    "\n",
    "difference = str(day_after_10days - today_date)\n",
    "print(f\"The difference b/w dates is {difference}\")"
   ]
  },
  {
   "cell_type": "markdown",
   "id": "eef37826-5ec4-4b34-9638-87e1ef1bf9ed",
   "metadata": {},
   "source": [
    "<h4>The strftime() method:</h4>\n",
    "<ul>\n",
    "    <li>The datetime object has a method for formatting date objects into readable strings.</li>\n",
    "    <li>The method is called strftime(), and takes one parameter, format, to specify the format of the returned string.</li>\n",
    "</ul>"
   ]
  },
  {
   "cell_type": "code",
   "execution_count": 90,
   "id": "60b08b74-7e7d-4a79-a4f8-7232d869a786",
   "metadata": {},
   "outputs": [
    {
     "name": "stdout",
     "output_type": "stream",
     "text": [
      "Long Year: 2025\n",
      "Short Year: 25\n",
      "Long Month: February\n",
      "Short Month: Feb\n",
      "Long Day: Sunday\n",
      "Short Day: Sun\n",
      "Day of the Week: 0\n",
      "Day Number of the Year: 033\n",
      "Time: 06:33:39\n",
      "AM / PM: AM\n",
      "24 Hours Format: 06\n",
      "12 Hours Format: 06\n",
      "Minutes: 33\n",
      "Seconds: 39\n"
     ]
    }
   ],
   "source": [
    "a = datetime.now()\n",
    "\n",
    "print(f\"Long Year: {a.strftime(\"%Y\")}\")\n",
    "print(f\"Short Year: {a.strftime(\"%y\")}\")\n",
    "\n",
    "print(f\"Long Month: {a.strftime(\"%B\")}\")\n",
    "print(f\"Short Month: {a.strftime(\"%b\")}\")\n",
    "\n",
    "print(f\"Long Day: {a.strftime(\"%A\")}\")\n",
    "print(f\"Short Day: {a.strftime(\"%a\")}\")\n",
    "\n",
    "print(f\"Day of the Week: {a.strftime(\"%w\")}\")\n",
    "print(f\"Day Number of the Year: {a.strftime(\"%j\")}\")\n",
    "\n",
    "print(f\"Time: {a.strftime(\"%T\")}\")\n",
    "print(f\"AM / PM: {a.strftime(\"%p\")}\")\n",
    "\n",
    "print(f\"24 Hours Format: {a.strftime(\"%H\")}\")\n",
    "print(f\"12 Hours Format: {a.strftime(\"%I\")}\")\n",
    "\n",
    "print(f\"Minutes: {a.strftime(\"%M\")}\")\n",
    "print(f\"Seconds: {a.strftime(\"%S\")}\")"
   ]
  },
  {
   "cell_type": "markdown",
   "id": "69f83016-eb7e-4d4c-a3c7-cb7a4a3253c4",
   "metadata": {},
   "source": [
    "<h4>The strptime() function:</h4>\n",
    "<ul>\n",
    "    <li>The strptime function in Python's datetime module is used to parse a string representing a date and/or time into a datetime object.</li>\n",
    "    <li>The function takes two arguments: the date/time string and the format string that specifies the format of the input string.</li>\n",
    "</ul>"
   ]
  },
  {
   "cell_type": "code",
   "execution_count": 108,
   "id": "b45f2862-bd09-4ed2-a75e-2af44478bfb6",
   "metadata": {},
   "outputs": [
    {
     "name": "stdout",
     "output_type": "stream",
     "text": [
      "The date string: 02 February, 2025\n",
      "The type of date string: <class 'str'>\n",
      "The date object: 2025-02-02 00:00:00\n",
      "The type of date object: <class 'datetime.datetime'>\n"
     ]
    }
   ],
   "source": [
    "from datetime import datetime\n",
    "\n",
    "date_string = \"02 February, 2025\"\n",
    "print(f\"The date string: {date_string}\")\n",
    "print(f\"The type of date string: {type(date_string)}\")\n",
    "\n",
    "date_obj = datetime.strptime(date_string, \"%d %B, %Y\")\n",
    "print(f\"The date object: {date_obj}\")\n",
    "print(f\"The type of date object: {type(date_obj)}\")"
   ]
  },
  {
   "cell_type": "code",
   "execution_count": 118,
   "id": "5ededd8a-0219-416d-98b9-75038d67cb47",
   "metadata": {},
   "outputs": [
    {
     "name": "stdout",
     "output_type": "stream",
     "text": [
      "The date string: 09/10/2023 09:15:32\n",
      "The type of date string: <class 'str'>\n",
      "The date object: 2023-10-09 09:15:32\n",
      "The type of date object: <class 'datetime.datetime'>\n"
     ]
    }
   ],
   "source": [
    "date_string1 = \"09/10/2023 09:15:32\"\n",
    "print(f\"The date string: {date_string1}\")\n",
    "print(f\"The type of date string: {type(date_string1)}\")\n",
    "\n",
    "date_obj1 = datetime.strptime(date_string, \"%d/%m/%Y %H:%M:%S\")\n",
    "print(f\"The date object: {date_obj1}\")\n",
    "print(f\"The type of date object: {type(date_obj1)}\")"
   ]
  },
  {
   "cell_type": "code",
   "execution_count": 122,
   "id": "126e2a48-4de3-4686-baf4-0376f21d61f6",
   "metadata": {},
   "outputs": [
    {
     "name": "stdout",
     "output_type": "stream",
     "text": [
      "2024-05-25 12:45:04.023000\n",
      "2024-05-26 02:35:08.026000\n",
      "2024-05-27 03:45:08.045000\n"
     ]
    }
   ],
   "source": [
    "date_time = [\"25/05/24 12:45:4.023\", \"26/05/24 02:35:8.026\", \"27/05/24 03:45:8.045\"]\n",
    "\n",
    "new_format = \"%d/%m/%y %H:%M:%S.%f\"\n",
    "\n",
    "for i in date_time:\n",
    "    print(datetime.strptime(i, new_format))"
   ]
  }
 ],
 "metadata": {
  "kernelspec": {
   "display_name": "Python [conda env:base] *",
   "language": "python",
   "name": "conda-base-py"
  },
  "language_info": {
   "codemirror_mode": {
    "name": "ipython",
    "version": 3
   },
   "file_extension": ".py",
   "mimetype": "text/x-python",
   "name": "python",
   "nbconvert_exporter": "python",
   "pygments_lexer": "ipython3",
   "version": "3.12.7"
  }
 },
 "nbformat": 4,
 "nbformat_minor": 5
}
